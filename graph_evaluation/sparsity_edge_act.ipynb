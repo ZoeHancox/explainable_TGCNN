{
 "cells": [
  {
   "cell_type": "code",
   "execution_count": null,
   "metadata": {},
   "outputs": [],
   "source": [
    "import os\n",
    "\n",
    "# The current working directory needs to be in explainable_TGCNN\n",
    "print(os.getcwd())\n",
    "os.chdir('..\\\\')\n",
    "print(os.getcwd())\n",
    "\n",
    "import pandas as pd\n",
    "import numpy as np\n",
    "import tensorflow as tf\n",
    "from src import create_fake_patients, whole_model_demographics_gradcam, graph_plot, plot_feature_value, ga, gc, utils\n",
    "import statistics"
   ]
  },
  {
   "cell_type": "code",
   "execution_count": null,
   "metadata": {},
   "outputs": [],
   "source": [
    "second_TGCNN_layer = True\n",
    "demo = True\n",
    "\n",
    "include_drugs = True\n",
    "max_timesteps=100\n",
    "\n",
    "stride = 1\n",
    "filter_size = 4\n",
    "\n",
    "run_name='hip_1999_to_one_year_advance_model'\n",
    "years_in_advance = \"5\"\n",
    "\n",
    "if include_drugs:\n",
    "    max_event_codes = 518\n",
    "else:\n",
    "    max_event_codes = 512\n",
    "hip_or_knee = 'hip'\n",
    "\n",
    "# fake mapping dataframe for the ReadCodes and the corresponding descriptions\n",
    "read_code_map_df = pd.read_csv('fake_read_code_descriptions.csv')\n",
    "\n",
    "model = whole_model_demographics_gradcam.TGCNN_Model(num_filters=16, num_nodes=max_event_codes, num_time_steps=max_timesteps, \n",
    "                            filter_size=filter_size, variable_gamma=True, \n",
    "                            exponential_scaling=True, dropout_rate=0.7, lstm_units=64,\n",
    "                            fcl1_units=128, LSTM_ablation=False, stride=stride, activation_type='LeakyReLU', \n",
    "                            no_timestamp=False, second_TGCNN_layer=second_TGCNN_layer, num_labels=1)\n",
    "model.load_weights('hip_1999_to_one_year_advance_model1_CNN_layer')\n",
    "\n",
    "# Load in the filters from the model\n",
    "with open(f'hip_1999_to_one_year_advance_model1_filter.npy', 'rb') as f:\n",
    "    filters = np.load(f)\n",
    "filters = tf.cast(filters, dtype=tf.float16)\n",
    "\n",
    "num_pats = 5\n",
    "cv_patients = create_fake_patients.create_fake_patient_df(num_pats, 99, max_event_codes)\n",
    "filt_type = 'max' # 'mean', 'median', 'max'\n",
    "max_act_filt_num=10 # picka filter that has the maximum activation difference between classes"
   ]
  },
  {
   "cell_type": "code",
   "execution_count": null,
   "metadata": {},
   "outputs": [],
   "source": [
    "sparsity_lst = []\n",
    "for i in range(num_pats):\n",
    "    if (i % 500) == 0 and (i !=0):\n",
    "        print(f\"{(((i+1)/num_pats)*100):.2f}% Complete\")\n",
    "        print(f\"Sparsity mean +- std: {statistics.mean(sparsity_lst)}$\\pm${statistics.stdev(sparsity_lst)}\")\n",
    "    input_3d, input_4d, demo_tensor, outcome, outcome_bin = utils.return_pat_from_df(cv_patients, max_event_codes, hip_or_knee, i, max_timesteps)\n",
    "    logits = model(input_4d, demo_tensor, training=False)\n",
    "    dense_tensor = tf.sparse.to_dense(input_3d)\n",
    "    dense_tensor= tf.transpose(dense_tensor, perm=[2, 1, 0])\n",
    "    dense_tensor = np.flip(dense_tensor, axis=0) # change the most recent events to be at the end rather than the start\n",
    "    dense_tensor = tf.cast(dense_tensor, tf.float16)\n",
    "    filters_4d = ga.make_filts_4d(filters, filter_size, max_event_codes)\n",
    "    \n",
    "    f = ga.get_and_reshape_filt(filters_4d, max_act_filt_num, filt_type=filt_type)\n",
    "    edge_act_graph = ga.filt_times_pat(f, dense_tensor, filter_size, max_timesteps, stride)\n",
    "    edges_df = ga.create_edges_df_ga(dense_tensor, edge_act_graph) \n",
    "    \n",
    "    # Get the node positions for the graph\n",
    "    pos_df = graph_plot.create_position_df_gc(edges_df)\n",
    "    pos_list = graph_plot.generate_pos_sequence(pos_df['max_codes_per_visit'].max())\n",
    "    pos_df = graph_plot.map_y_coord_to_node(pos_df, pos_list)\n",
    "    \n",
    "    read_code_pos_df = ga.map_read_code_labels(pos_df, read_code_map_df)\n",
    "    \n",
    "    edge_pos_df = ga.create_edge_pos_df(edges_df, pos_df)\n",
    "    edge_pos_df['bin_infl'] = edge_pos_df['edge_weight_perc'].where(edge_pos_df['edge_weight_perc'] == 0, 1)\n",
    "    sparsity = 1 - edge_pos_df['bin_infl'].sum()/len(edge_pos_df)\n",
    "    sparsity_lst.append(sparsity)\n",
    "\n",
    "print(f\"Sparsity mean +- std: {round(statistics.mean(sparsity_lst),2)}$\\pm${round(statistics.stdev(sparsity_lst),2)}\")"
   ]
  }
 ],
 "metadata": {
  "kernelspec": {
   "display_name": "tf_msk_env",
   "language": "python",
   "name": "python3"
  },
  "language_info": {
   "codemirror_mode": {
    "name": "ipython",
    "version": 3
   },
   "file_extension": ".py",
   "mimetype": "text/x-python",
   "name": "python",
   "nbconvert_exporter": "python",
   "pygments_lexer": "ipython3",
   "version": "3.9.19"
  }
 },
 "nbformat": 4,
 "nbformat_minor": 2
}
