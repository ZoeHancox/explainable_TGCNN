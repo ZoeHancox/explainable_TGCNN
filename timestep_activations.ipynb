{
 "cells": [
  {
   "cell_type": "code",
   "execution_count": null,
   "metadata": {},
   "outputs": [],
   "source": [
    "import pandas as pd\n",
    "import numpy as np\n",
    "import tensorflow as tf\n",
    "from src import create_fake_patients, whole_model_demographics_gradcam, graph_plot, plot_feature_value, ga, gc, utils"
   ]
  },
  {
   "cell_type": "code",
   "execution_count": null,
   "metadata": {},
   "outputs": [],
   "source": [
    "second_TGCNN_layer = True\n",
    "demo = True\n",
    "\n",
    "\n",
    "stride = 1\n",
    "filter_size = 4\n",
    "num_filters = 16\n",
    "years_in_advance = '5'\n",
    "hip_or_knee='hip'\n",
    "max_timesteps=100\n",
    "include_drugs = True\n",
    "if include_drugs:\n",
    "    max_event_codes = 518\n",
    "else:\n",
    "    max_event_codes = 512\n",
    "\n",
    "# fake mapping dataframe for the ReadCodes and the corresponding descriptions\n",
    "read_code_map_df = pd.read_csv('fake_read_code_descriptions.csv')\n",
    "\n",
    "model = whole_model_demographics_gradcam.TGCNN_Model(num_filters=num_filters, num_nodes=max_event_codes, num_time_steps=max_timesteps, \n",
    "                            filter_size=filter_size, variable_gamma=True, \n",
    "                            exponential_scaling=True, dropout_rate=0.7, lstm_units=64,\n",
    "                            fcl1_units=128, LSTM_ablation=False, stride=stride, activation_type='LeakyReLU', \n",
    "                            no_timestamp=False, second_TGCNN_layer=second_TGCNN_layer, num_labels=1)\n",
    "model.load_weights('hip_1999_to_one_year_advance_model1_CNN_layer')\n"
   ]
  },
  {
   "cell_type": "markdown",
   "metadata": {},
   "source": [
    "### Get the violin plots to show maximum activation difference"
   ]
  },
  {
   "cell_type": "code",
   "execution_count": null,
   "metadata": {},
   "outputs": [],
   "source": [
    "num_patients = 2\n",
    "\n",
    "pat_df = create_fake_patients.create_fake_patient_df(num_patients=num_patients, \n",
    "                                                     max_events=max_timesteps-1, \n",
    "                                                     max_nodes=max_event_codes)\n",
    "\n",
    "replacement_true_lst, max_w_filt_lst, filt_nums = ga.get_act_metric_per_feat(model, num_filters, num_patients, \n",
    "                                                                             pat_df, max_event_codes, hip_or_knee,\n",
    "                                                                             'max')\n",
    "# Save values for reload:\n",
    "save_act_vals = True\n",
    "if save_act_vals:\n",
    "    np.save('replacement_true_arr.npy', np.array(replacement_true_lst))\n",
    "    np.save('max_w_filt_arr.npy', np.array(max_w_filt_lst))\n",
    "    np.save('filt_nums_arr.npy', np.array(filt_nums))"
   ]
  },
  {
   "cell_type": "code",
   "execution_count": null,
   "metadata": {},
   "outputs": [],
   "source": [
    "plot_feature_value.violin_plots(filt_nums, max_w_filt_lst, replacement_true_lst)"
   ]
  },
  {
   "cell_type": "code",
   "execution_count": null,
   "metadata": {},
   "outputs": [],
   "source": [
    "plot_feature_value.max_act_box_plots(filt_nums, max_w_filt_lst, replacement_true_lst)"
   ]
  },
  {
   "cell_type": "markdown",
   "metadata": {},
   "source": [
    "### Calculate the strongest difference in activation between the patient and control participants"
   ]
  },
  {
   "cell_type": "code",
   "execution_count": null,
   "metadata": {},
   "outputs": [],
   "source": [
    "mean_activation_df = ga.act_diff(replacement_true_lst, max_w_filt_lst, filt_nums)"
   ]
  },
  {
   "cell_type": "markdown",
   "metadata": {},
   "source": [
    "### Activation mapping - timesteps"
   ]
  },
  {
   "cell_type": "code",
   "execution_count": null,
   "metadata": {},
   "outputs": [],
   "source": [
    "# Generate individual data for the model\n",
    "input_3d, input_4d, demo_tensor, outcome, outcome_bin = create_fake_patients.return_fake_pat(2, 99, 518, 'hip', 0)\n",
    "\n",
    "dense_tensor = tf.sparse.to_dense(input_3d)\n",
    "dense_tensor= tf.transpose(dense_tensor, perm=[2, 1, 0])\n",
    "dense_tensor = np.flip(dense_tensor, axis=0)\n",
    "logits = model(input_4d, demo_tensor, training=False)"
   ]
  },
  {
   "cell_type": "markdown",
   "metadata": {},
   "source": [
    "### Feature map plots"
   ]
  },
  {
   "cell_type": "code",
   "execution_count": null,
   "metadata": {},
   "outputs": [],
   "source": [
    "# PLOT THE FEATURE MAPS\n",
    "norm_features = plot_feature_value.plot_ave_grad_all_f_maps(model.f_map_branch1)\n",
    "\n",
    "plot_feature_value.plot_indv_grad_f_maps(model.f_map_branch1)"
   ]
  },
  {
   "cell_type": "markdown",
   "metadata": {},
   "source": [
    "### Graph plots"
   ]
  },
  {
   "cell_type": "code",
   "execution_count": null,
   "metadata": {},
   "outputs": [],
   "source": [
    "# Get the entire patient's history in a DataFrame\n",
    "edges_df = graph_plot.create_edges_df_gc(dense_tensor)\n",
    "\n",
    "# Get the node positions for the graph\n",
    "pos_df = graph_plot.create_position_df_gc(edges_df)\n",
    "pos_list = graph_plot.generate_pos_sequence(pos_df['max_codes_per_visit'].max())\n",
    "pos_df = graph_plot.map_y_coord_to_node(pos_df, pos_list)"
   ]
  },
  {
   "cell_type": "code",
   "execution_count": null,
   "metadata": {},
   "outputs": [],
   "source": [
    "weighted_f_map = ga.choose_feat_map(model, 'mean', mean_activation_df)\n",
    "\n",
    "# map the timesteps to their relevant features\n",
    "timestep_ave_w_df = gc.calc_timestep_weights(1, filter_size, weighted_f_map, max_timesteps)\n",
    "\n",
    "\n",
    "# map the timestep values to colour the edges of the graph\n",
    "read_code_pos_df = gc.map_read_code_labels(pos_df, read_code_map_df, timestep_ave_w_df)\n",
    "\n",
    "edge_pos_df = gc.create_edge_pos_df(edges_df, pos_df)\n",
    "\n",
    "gc.plot_gradcam_plotly(edge_pos_df, pos_df, read_code_pos_df, years_in_advance, logits, outcome, 'all_filters_time_act', html_open=False)"
   ]
  }
 ],
 "metadata": {
  "kernelspec": {
   "display_name": "tf_msk_env",
   "language": "python",
   "name": "python3"
  },
  "language_info": {
   "codemirror_mode": {
    "name": "ipython",
    "version": 3
   },
   "file_extension": ".py",
   "mimetype": "text/x-python",
   "name": "python",
   "nbconvert_exporter": "python",
   "pygments_lexer": "ipython3",
   "version": "3.9.19"
  }
 },
 "nbformat": 4,
 "nbformat_minor": 2
}
