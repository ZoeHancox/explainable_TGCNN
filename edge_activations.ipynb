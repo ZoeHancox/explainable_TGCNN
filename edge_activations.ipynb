{
 "cells": [
  {
   "cell_type": "markdown",
   "metadata": {},
   "source": [
    "### Edge Activation Graphs"
   ]
  },
  {
   "cell_type": "markdown",
   "metadata": {},
   "source": [
    "#### Imports"
   ]
  },
  {
   "cell_type": "code",
   "execution_count": null,
   "metadata": {},
   "outputs": [],
   "source": [
    "import pandas as pd\n",
    "import numpy as np\n",
    "import tensorflow as tf\n",
    "from importlib import reload\n",
    "from src import create_fake_patients, whole_model_demographics_gradcam, graph_plot, plot_feature_value, ga"
   ]
  },
  {
   "cell_type": "markdown",
   "metadata": {},
   "source": [
    "#### Set up model hyperparameters"
   ]
  },
  {
   "cell_type": "code",
   "execution_count": null,
   "metadata": {},
   "outputs": [],
   "source": [
    "second_TGCNN_layer = True\n",
    "demo = True\n",
    "\n",
    "\n",
    "stride = 1\n",
    "filter_size = 4\n",
    "num_filters = 16\n",
    "years_in_advance = '5'\n",
    "hip_or_knee='hip'\n",
    "max_timesteps=100\n",
    "include_drugs = True\n",
    "if include_drugs:\n",
    "    max_event_codes = 518\n",
    "else:\n",
    "    max_event_codes = 512\n",
    "\n",
    "# fake mapping dataframe for the ReadCodes and the corresponding descriptions\n",
    "read_code_map_df = pd.read_csv('fake_read_code_descriptions.csv')\n",
    "\n",
    "model = whole_model_demographics_gradcam.TGCNN_Model(num_filters=num_filters, num_nodes=max_event_codes, num_time_steps=max_timesteps, \n",
    "                            filter_size=filter_size, variable_gamma=True, \n",
    "                            exponential_scaling=True, dropout_rate=0.7, lstm_units=64,\n",
    "                            fcl1_units=128, LSTM_ablation=False, stride=stride, activation_type='LeakyReLU', \n",
    "                            no_timestamp=False, second_TGCNN_layer=second_TGCNN_layer, num_labels=1)\n",
    "model.load_weights('hip_1999_to_one_year_advance_model1_CNN_layer')\n",
    "\n",
    "# Load in the filters from the model\n",
    "with open('hip_1999_to_one_year_advance_model1_filter.npy', 'rb') as f:\n",
    "    filters = np.load(f)\n"
   ]
  },
  {
   "cell_type": "markdown",
   "metadata": {},
   "source": [
    "### Find the filter with the largest activation"
   ]
  },
  {
   "cell_type": "code",
   "execution_count": null,
   "metadata": {},
   "outputs": [],
   "source": [
    "num_patients = 10\n",
    "\n",
    "pat_df = create_fake_patients.create_fake_patient_df(num_patients=num_patients, \n",
    "                                                     max_events=max_timesteps-1, \n",
    "                                                     max_nodes=max_event_codes)\n",
    "\n",
    "replacement_true_lst, max_w_filt_lst, filt_nums = ga.get_act_metric_per_feat(model, num_filters, num_patients, \n",
    "                                                                             pat_df, max_event_codes, hip_or_knee,\n",
    "                                                                             'max')\n",
    "mean_activation_df = ga.act_diff(replacement_true_lst, max_w_filt_lst, filt_nums)"
   ]
  },
  {
   "cell_type": "code",
   "execution_count": null,
   "metadata": {},
   "outputs": [],
   "source": [
    "max_act_filt_num = ga.find_max_act_filt(mean_activation_df)\n",
    "max_act_filt_num"
   ]
  },
  {
   "cell_type": "code",
   "execution_count": null,
   "metadata": {},
   "outputs": [],
   "source": [
    "# Generate individual data for the model\n",
    "input_3d, input_4d, demo_tensor, outcome, outcome_bin = create_fake_patients.return_fake_pat(2, 99, 518, 'hip', 0)\n",
    "logits = model(input_4d, demo_tensor, training=False)\n",
    "dense_tensor = tf.sparse.to_dense(input_3d)\n",
    "dense_tensor= tf.transpose(dense_tensor, perm=[2, 1, 0])\n",
    "dense_tensor = np.flip(dense_tensor, axis=0) # change the most recent events to be at the end rather than the start"
   ]
  },
  {
   "cell_type": "code",
   "execution_count": null,
   "metadata": {},
   "outputs": [],
   "source": [
    "filters_4d = ga.make_filts_4d(filters, filter_size, max_event_codes)\n",
    "filters_4d.shape"
   ]
  },
  {
   "cell_type": "code",
   "execution_count": null,
   "metadata": {},
   "outputs": [],
   "source": [
    "f = ga.get_and_reshape_filt(filters_4d, max_act_filt_num, filt_type='median')\n",
    "f = tf.cast(f, dtype=tf.float16)\n",
    "    \n",
    "edge_act_graph = ga.filt_times_pat(f, dense_tensor, filter_size, max_timesteps, stride)"
   ]
  },
  {
   "cell_type": "code",
   "execution_count": null,
   "metadata": {},
   "outputs": [],
   "source": [
    "edges_df = ga.create_edges_df_ga(dense_tensor, edge_act_graph) "
   ]
  },
  {
   "cell_type": "code",
   "execution_count": null,
   "metadata": {},
   "outputs": [],
   "source": [
    "# Get the node positions for the graph\n",
    "pos_df = graph_plot.create_position_df_gc(edges_df)\n",
    "pos_list = graph_plot.generate_pos_sequence(pos_df['max_codes_per_visit'].max())\n",
    "pos_df = graph_plot.map_y_coord_to_node(pos_df, pos_list)\n",
    "\n",
    "read_code_pos_df = ga.map_read_code_labels(pos_df, read_code_map_df)\n",
    "\n",
    "edge_pos_df = ga.create_edge_pos_df(edges_df, pos_df)"
   ]
  },
  {
   "cell_type": "code",
   "execution_count": null,
   "metadata": {},
   "outputs": [],
   "source": [
    "ga.plot_edge_act_plotly(edge_pos_df, pos_df, read_code_pos_df, years_in_advance, logits, outcome, filename='edge_activation_graph', html_open=False)"
   ]
  }
 ],
 "metadata": {
  "kernelspec": {
   "display_name": "tf_msk_env",
   "language": "python",
   "name": "python3"
  },
  "language_info": {
   "codemirror_mode": {
    "name": "ipython",
    "version": 3
   },
   "file_extension": ".py",
   "mimetype": "text/x-python",
   "name": "python",
   "nbconvert_exporter": "python",
   "pygments_lexer": "ipython3",
   "version": "3.9.19"
  }
 },
 "nbformat": 4,
 "nbformat_minor": 2
}
