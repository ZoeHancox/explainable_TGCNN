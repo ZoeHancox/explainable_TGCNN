{
 "cells": [
  {
   "cell_type": "code",
   "execution_count": 1,
   "metadata": {},
   "outputs": [
    {
     "name": "stdout",
     "output_type": "stream",
     "text": [
      "tensorflow version: 2.10.1\n",
      "normalised gamma [[0.02118205]]\n",
      "normalised gamma [[0.00518636]]\n"
     ]
    },
    {
     "data": {
      "text/plain": [
       "<tensorflow.python.checkpoint.checkpoint.CheckpointLoadStatus at 0x1df9c723a30>"
      ]
     },
     "execution_count": 1,
     "metadata": {},
     "output_type": "execute_result"
    }
   ],
   "source": [
    "import numpy as np\n",
    "import networkx as nx\n",
    "import plotly.graph_objects as go\n",
    "import webbrowser\n",
    "import os\n",
    "import pandas as pd\n",
    "import random\n",
    "import string\n",
    "import statistics\n",
    "from src import create_fake_patients, whole_model_demographics_gradcam\n",
    "from tensorflow import keras\n",
    "import tensorflow as tf\n",
    "from csv import writer\n",
    "import seaborn as sns\n",
    "import matplotlib.pyplot as plt\n",
    "print(\"tensorflow version:\", tf. __version__)\n",
    "tf.config.list_physical_devices()\n",
    "\n",
    "\n",
    "no_LSTM = False # True = without LSTM\n",
    "exponential_scaling = True # True = with exponential\n",
    "L1_ablation = True # True = with L1 reg\n",
    "L2_ablation = True # True = with L2 reg\n",
    "variable_gamma = True\n",
    "graph_reg_incl = True\n",
    "\n",
    "num_of_runs = 1\n",
    "start_num = 1\n",
    "    \n",
    "weighted_loss = False # class weighted to deal with imbalance if True\n",
    "no_timestamp = False # if no_timestamp = True then all values in 3-tensor = 1\n",
    "activation_type = 'LeakyReLU' #'relu','gelu', 'LeakyReLU'\n",
    "second_TGCNN_layer = True\n",
    "demo = True\n",
    "include_drugs = False\n",
    "max_timesteps=100\n",
    "\n",
    "run_name='hip_1999_to_one_year_advance_model'\n",
    "years_in_advance = \"5\"\n",
    "\n",
    "# strings for hyperparameter searching file\n",
    "LSTM_str=\"LSTM excluded\" if no_LSTM == True else \"LSTM included\"\n",
    "exp_str = \"exp excluded\" if exponential_scaling == False else \"exp included\"\n",
    "timestamp_str = \"time elapsed = 1\" if no_timestamp == True else \"time elapsed\"\n",
    "weighted_loss_str = \"weighted_loss\" if weighted_loss ==True else \"unweighted_loss\"\n",
    "L1_str = \"L1 included\" if L1_ablation == True else \"L1 excluded\"\n",
    "L2_str = \"L2 included\" if L2_ablation == True else \"L2 excluded\"\n",
    "second_layer_str = \"Branched model\" if second_TGCNN_layer == True else \"Unbranched model\"\n",
    "\n",
    "if include_drugs:\n",
    "    max_event_codes = 518\n",
    "else:\n",
    "    max_event_codes = 512\n",
    "num_labels = 1 # number of outcomes -1 \n",
    "hip_or_knee = 'hip'\n",
    "\n",
    "\n",
    "\n",
    "\n",
    "model = whole_model_demographics_gradcam.TGCNN_Model(num_filters=16, num_nodes=max_event_codes, num_time_steps=max_timesteps, \n",
    "                            filter_size=4, variable_gamma=variable_gamma, \n",
    "                            exponential_scaling=exponential_scaling, dropout_rate=0.7, lstm_units=64,\n",
    "                            fcl1_units=128, LSTM_ablation=no_LSTM, stride=1, activation_type=activation_type, \n",
    "                            no_timestamp=no_timestamp, second_TGCNN_layer=second_TGCNN_layer, num_labels=num_labels)\n",
    "model.load_weights('hip_1999_to_one_year_advance_model1_CNN_layer')\n",
    "\n",
    "\n"
   ]
  },
  {
   "cell_type": "code",
   "execution_count": 2,
   "metadata": {},
   "outputs": [
    {
     "name": "stdout",
     "output_type": "stream",
     "text": [
      "SparseTensor(indices=tf.Tensor(\n",
      "[[  0   0  82  77]\n",
      " [  0   3  55  40]\n",
      " [  0   9 306  82]\n",
      " [  0  14  87  63]\n",
      " [  0  20 460  60]\n",
      " [  0  22 117  84]\n",
      " [  0  32 509  45]\n",
      " [  0  35 411  79]\n",
      " [  0  42 239  49]\n",
      " [  0  55 403  41]\n",
      " [  0  81 258  99]\n",
      " [  0  82  35  78]\n",
      " [  0  85 375  94]\n",
      " [  0  87 191  64]\n",
      " [  0  96 324  90]\n",
      " [  0 109 436  92]\n",
      " [  0 117 431  85]\n",
      " [  0 118   0  76]\n",
      " [  0 126 360  97]\n",
      " [  0 138   9  81]\n",
      " [  0 143 493  58]\n",
      " [  0 147 118  75]\n",
      " [  0 147 143  57]\n",
      " [  0 161 317  72]\n",
      " [  0 191 346  65]\n",
      " [  0 200 217  69]\n",
      " [  0 217 241  70]\n",
      " [  0 221 475  67]\n",
      " [  0 225  14  62]\n",
      " [  0 225 499  87]\n",
      " [  0 229 126  96]\n",
      " [  0 239 377  50]\n",
      " [  0 241 161  71]\n",
      " [  0 261 147  74]\n",
      " [  0 268 492  52]\n",
      " [  0 306  22  83]\n",
      " [  0 311  42  48]\n",
      " [  0 317 261  73]\n",
      " [  0 324 109  91]\n",
      " [  0 324 417  55]\n",
      " [  0 346 221  66]\n",
      " [  0 360  81  98]\n",
      " [  0 372  32  44]\n",
      " [  0 373 324  54]\n",
      " [  0 375 229  95]\n",
      " [  0 377 268  51]\n",
      " [  0 384 311  47]\n",
      " [  0 403 495  42]\n",
      " [  0 411 138  80]\n",
      " [  0 417 147  56]\n",
      " [  0 431 225  86]\n",
      " [  0 436  85  93]\n",
      " [  0 457  96  89]\n",
      " [  0 460 225  61]\n",
      " [  0 475 200  68]\n",
      " [  0 492 373  53]\n",
      " [  0 493  20  59]\n",
      " [  0 495 372  43]\n",
      " [  0 499 457  88]\n",
      " [  0 509 384  46]], shape=(60, 4), dtype=int64), values=tf.Tensor(\n",
      "[0.57471585 0.5695381  0.21707816 0.8069376  0.02411272 0.5476088\n",
      " 0.95932025 0.41380098 0.7755993  0.33927062 0.55364287 0.91883856\n",
      " 0.5386742  0.7441784  0.44502708 0.02627507 0.7305776  0.02668913\n",
      " 0.5920552  0.26556212 0.47172242 0.936549   0.04081952 0.8934752\n",
      " 0.55009377 0.4437849  0.0161466  0.0559979  0.53751725 0.03285572\n",
      " 0.01355149 0.45213008 0.16378368 0.5832157  0.9905122  0.79297847\n",
      " 0.6890894  0.22097558 0.36520466 0.9855897  0.9586267  0.8784886\n",
      " 0.3381508  0.20632091 0.11563151 0.3200806  0.7537266  0.4221947\n",
      " 0.5687829  0.6116389  0.3991753  0.17375004 0.7061668  0.4395885\n",
      " 0.8916571  0.6777109  0.45397112 0.50453925 0.24334039 0.2843606 ], shape=(60,), dtype=float32), dense_shape=tf.Tensor([  1 512 512 100], shape=(4,), dtype=int64))\n"
     ]
    }
   ],
   "source": [
    "cv_patients = create_fake_patients.create_fake_patient_df(num_patients=500, max_events=99, max_nodes=512)\n",
    "\n",
    "# Generate an example patient of number n\n",
    "n= 0\n",
    "\n",
    "i_list = cv_patients.iloc[n]['indices'] # indices from patient cell\n",
    "v_list = cv_patients.iloc[n]['values'] # values from patient cell\n",
    "\n",
    "individual_sparse = tf.sparse.SparseTensor(i_list, v_list, (max_event_codes, max_event_codes, 100))\n",
    "\n",
    "# Adding the sparse tensor to a list of all the tensors\n",
    "ordered_indiv = tf.sparse.reorder(individual_sparse) # reorder required for tensor to work (no effect to outcome)\n",
    "print(tf.sparse.expand_dims(ordered_indiv,axis=0))\n",
    "input_4d = tf.sparse.expand_dims(ordered_indiv,axis=0)\n",
    "\n",
    "outcome = cv_patients.iloc[n]['replace_type']\n",
    "\n",
    "def classify_outcome(outcome):\n",
    "    return 1 if outcome == 'hip' else 0\n",
    "\n",
    "outcome_bin = classify_outcome(outcome)\n",
    "\n",
    "\n",
    "\n",
    "\n",
    "# patient_dense_tensor = tf.sparse.to_dense(ordered_indiv)\n",
    "#patient_dense_tensor\n",
    "\n",
    "#demo_vals, demo_list, pat_num = utils.convert_demos_to_tensor(cv_patients, train_indices_list, demo)\n",
    "\n",
    "demos = cv_patients[['gender', 'imd_quin', 'age_at_label_event']].iloc[n]\n",
    "demos_z = demos.copy()\n",
    "demos_z['age_zscore'] = 2\n",
    "demos_z = demos_z.apply(pd.to_numeric)  \n",
    "demo_vals = demos_z[['gender', 'imd_quin', 'age_zscore']].values \n",
    "\n",
    "demo = demos.apply(pd.to_numeric)\n",
    "demo_list = demo[['gender', 'imd_quin', 'age_at_label_event']].values.tolist()\n",
    "demo_tensor = tf.convert_to_tensor([demo_vals])\n",
    "\n",
    "# print(demo_tensor)\n",
    "# print(demo_list)"
   ]
  },
  {
   "cell_type": "code",
   "execution_count": 3,
   "metadata": {},
   "outputs": [
    {
     "name": "stdout",
     "output_type": "stream",
     "text": [
      "tf.Tensor([[0.10840181]], shape=(1, 1), dtype=float32)\n",
      "(1, 16, 97)\n"
     ]
    }
   ],
   "source": [
    "logits = model(input_4d, demo_tensor, training=False)\n",
    "print(logits)\n",
    "\n",
    "grads = model.dy_du_branch1\n",
    "print(grads.shape)"
   ]
  },
  {
   "cell_type": "code",
   "execution_count": 4,
   "metadata": {},
   "outputs": [
    {
     "data": {
      "text/plain": [
       "<tf.Tensor: shape=(1, 16, 97), dtype=float32, numpy=\n",
       "array([[[-7.37343311e-11, -1.00957534e-10, -1.35005562e-10, ...,\n",
       "          5.82115119e-03,  8.69200751e-03,  1.27575453e-02],\n",
       "        [ 1.93824984e-10,  2.18235346e-10,  2.43759818e-10, ...,\n",
       "         -6.10384997e-03, -8.19559302e-03, -1.05941324e-02],\n",
       "        [ 2.11147405e-10,  2.57405292e-10,  3.13706200e-10, ...,\n",
       "         -1.64712071e-02, -2.14281753e-02, -2.75330059e-02],\n",
       "        ...,\n",
       "        [ 1.36921613e-10,  1.77207277e-10,  2.28029692e-10, ...,\n",
       "          1.98260555e-03,  1.23433641e-03,  1.33909867e-04],\n",
       "        [ 2.21999391e-10,  2.78472218e-10,  3.47264106e-10, ...,\n",
       "         -1.32848676e-02, -1.70248915e-02, -2.15413235e-02],\n",
       "        [ 4.43260706e-12, -1.58432156e-11, -4.33277580e-11, ...,\n",
       "          6.36288431e-04,  3.51413572e-03,  8.75335466e-03]]],\n",
       "      dtype=float32)>"
      ]
     },
     "execution_count": 4,
     "metadata": {},
     "output_type": "execute_result"
    }
   ],
   "source": [
    "grads"
   ]
  },
  {
   "cell_type": "code",
   "execution_count": 5,
   "metadata": {},
   "outputs": [],
   "source": [
    "# for var in model.variables:\n",
    "#     print(var.name)\n",
    "#     print(var.numpy())"
   ]
  },
  {
   "cell_type": "markdown",
   "metadata": {},
   "source": [
    "### Sub-graph drawing"
   ]
  },
  {
   "cell_type": "markdown",
   "metadata": {},
   "source": [
    "#### Functions"
   ]
  },
  {
   "cell_type": "code",
   "execution_count": 6,
   "metadata": {},
   "outputs": [],
   "source": [
    "def create_edges_df_gc(patient_graph:np.array):\n",
    "    \"\"\"Create a DataFrame of the edges of the patient graph, including the start and end nodes and the time \n",
    "    between visits. For Grad-CAM model.\n",
    "\n",
    "    Args:\n",
    "        patient_graph (np.array): 3D numpy array showing the patients health codes over time.\n",
    "\n",
    "    Returns:\n",
    "        DataFrame: with columns start_node, end_node, time_between.\n",
    "    \"\"\"\n",
    "\n",
    "    # Get the indices of non-zero elements\n",
    "    patient_graph = np.round(patient_graph.numpy(), 4)\n",
    "    t_indices, i_indices, j_indices = np.nonzero(patient_graph)\n",
    "    non_zero_values = []\n",
    "    for t, i, j in zip(t_indices, i_indices, j_indices):\n",
    "        non_zero_values.append(patient_graph[t, i, j])\n",
    "    #print(\"Non-zero values\", non_zero_values)\n",
    "    if not non_zero_values:\n",
    "        print(\"Error: Subgraph does not contain any values.\")\n",
    "\n",
    "    # Calculate start_node_v and end_node_v\n",
    "    start_node_v = np.where(t_indices == 0, 0, t_indices)\n",
    "    end_node_v = start_node_v + 1\n",
    "\n",
    "    edges_df = pd.DataFrame({\n",
    "        'start_node': [f'{i}_v{start_v}' for i, start_v in zip(i_indices, start_node_v)],\n",
    "        'end_node': [f'{j}_v{end_v}' for j, end_v in zip(j_indices, end_node_v)],\n",
    "        'time_between': non_zero_values\n",
    "    })\n",
    "    \n",
    "    return edges_df\n",
    "\n",
    "def extract_visit_number(s:str):\n",
    "    \"\"\"Extract the visit number from a string\n",
    "\n",
    "    Args:\n",
    "        s (str): string to split\n",
    "\n",
    "    Returns:\n",
    "        int: visit number\n",
    "    \"\"\"\n",
    "    return int(s.split('_')[1][1:])\n",
    "\n",
    "def create_position_df_gc(edges_df:np.array):\n",
    "    \"\"\"Create a DataFrame to find the number of nodes per visit. For Grad-CAM model.\n",
    "\n",
    "    Args:\n",
    "        edges_df (pd.DataFrame): DataFrame with columns start_node, end_node, time_between.\n",
    "\n",
    "    Returns:\n",
    "        pd.DataFrame: with columns showing node name (node), visit number (x), node number in visits (cumulative count),\n",
    "        and maximum codes per visit.\n",
    "    \"\"\"\n",
    "    pos_df = edges_df[['start_node', 'end_node']].stack().drop_duplicates().reset_index(drop=True)\n",
    "    pos_df = pos_df.to_frame(name='node')\n",
    "    pos_df['x'] = pos_df['node'].apply(extract_visit_number)\n",
    "    pos_df['cumulative_count'] = pos_df.groupby('x').cumcount()\n",
    "    pos_df['max_codes_per_visit'] = pos_df.groupby('x')['cumulative_count'].transform('max') + 1\n",
    "\n",
    "    return pos_df\n",
    "\n",
    "def generate_pos_sequence(x:int):\n",
    "    \"\"\"Generate a list of lists to get y coordinate positions for the nodes\n",
    "     based on the number of events recorded per visit.\n",
    "\n",
    "    Args:\n",
    "        x (int): maximum number of nodes in any one visit\n",
    "\n",
    "    Returns:\n",
    "        List: List of lists of y coordinates index mapping to the max nodes for\n",
    "               each visit.\n",
    "    \"\"\"\n",
    "    sequence = []\n",
    "    for i in range(x):\n",
    "        if i % 2 == 0:  # Even index, include zero\n",
    "            sequence.append(list(range(-i // 2, i // 2 + 1)))\n",
    "        else:  # Odd index, exclude zero\n",
    "            sublist = list(range(-(i // 2 + 1), i // 2 + 2))\n",
    "            sublist.remove(0)\n",
    "            sequence.append(sublist)\n",
    "    return sequence\n",
    "\n",
    "\n",
    "def get_pos_y_value_per_node(row, pos_list:list):\n",
    "    \"\"\"Get the y position for each node. Use max_codes_per_visit column to select the sublist \n",
    "    and the cumulative_count to get the position from the sublist.\n",
    "\n",
    "    Args:\n",
    "        row (pd.Series): row of the DataFrame\n",
    "\n",
    "    Returns:\n",
    "        int: y coordinate position \n",
    "    \"\"\"\n",
    "    cum_count = row['cumulative_count']\n",
    "    max_codes = row['max_codes_per_visit']\n",
    "    return pos_list[max_codes - 1][cum_count]\n",
    "\n",
    "def map_y_coord_to_node(pos_df:pd.DataFrame, pos_list:list):\n",
    "    \"\"\"Map the y coordinates to the relevant node and correct row.\n",
    "\n",
    "    Args:\n",
    "        pos_df (pd.DataFrame): columns with node name and x coordinate.\n",
    "        pos_list (list of lists): List of lists of y coordinates index mapping to the max nodes for\n",
    "               each visit.\n",
    "\n",
    "    Returns:\n",
    "        pd.DataFrame: dataframe with x and y coordinates for node plotting.\n",
    "    \"\"\"\n",
    "    pos_df['y'] = pos_df.apply(lambda row: get_pos_y_value_per_node(row, pos_list), axis=1)\n",
    "    return pos_df\n",
    "\n",
    "def create_pos_dict(pos_df:pd.DataFrame):\n",
    "    \"\"\"Make a dictionary with the node name as the key and the x and y coordinates \n",
    "    as a tuple value.\n",
    "\n",
    "    Args:\n",
    "        pos_df (pd.DataFrame): dataframe with columns for the node name, x coordinates,\n",
    "        and y coordinates.\n",
    "\n",
    "    Returns:\n",
    "        dict: dictionary of node: (x,y)\n",
    "    \"\"\"\n",
    "    # the visit number is x and the y value is the number of nodes with the same visit number\n",
    "    pos = pos_df.set_index('node')[['x', 'y']].apply(tuple, axis=1).to_dict()\n",
    "    return pos\n",
    "\n",
    "def draw_gc_pat_graph(edges_df:pd.DataFrame, pos_dict:pd.DataFrame, graph_name:str, pat_outcome, stream_num:int=1):\n",
    "    \"\"\"Draw an individual patient's subgraph graph using NetworkX.\n",
    "\n",
    "    Args:\n",
    "        edges_df (pd.DataFrame): Dataframe with information about edges including: start and end nodes, and edge_label.\n",
    "        pos_dict (dictionary): dictionary with x and y coordinates for each node:(x,y)\n",
    "    \"\"\"\n",
    "    # Convert df to list of tuples for Networkx\n",
    "    edges = []\n",
    "    for _, row in edges_df.iterrows():\n",
    "        edge = (row['start_node'], row['end_node'], {'edge_label': np.round(row['time_between']*30.4167).astype(int)}) # to get days instead of months * 30.4167\n",
    "        edges.append(edge)\n",
    "\n",
    "    G = nx.DiGraph()\n",
    "    G.add_edges_from(edges)\n",
    "\n",
    "\n",
    "    # Prepare edge colors, widths, and labels based on attributes\n",
    "    edge_labels = {(u, v): G[u][v]['edge_label'] for u, v in G.edges()}\n",
    "\n",
    "    # Draw the graph\n",
    "    plt.figure(figsize=(edges_df['start_node'].nunique()+2, 8))\n",
    "    nx.draw(G, pos_dict, with_labels=True, node_size=3000, node_color=\"lightblue\", edge_color='grey', width=0.5, font_size=10, font_weight=\"bold\", arrowsize=20)\n",
    "    nx.draw_networkx_edge_labels(G, pos_dict, edge_labels=edge_labels, font_color='blue', font_size=10, font_weight='bold')\n",
    "    if pat_outcome == 'hip':\n",
    "        out_print = f'Patient will likely need a hip replacement in {years_in_advance} years time'\n",
    "    else:\n",
    "        out_print = f'It is unlikely this patient will need a hip replacement in {years_in_advance} years time'\n",
    "    plt.title(f\"Graph Visualisation of Patients Pathway and Connections Associated to Hip Replacement - Stream {stream_num}\\n{out_print}\")\n",
    "    plt.savefig(f\"{graph_name}.png\", bbox_inches='tight')\n",
    "    plt.show()\n",
    "    plt.close()\n",
    "\n",
    "def create_scrollable_html(image_path, html_path):\n",
    "    # HTML template with a scrollable container\n",
    "    html_content = f\"\"\"\n",
    "    <!DOCTYPE html>\n",
    "    <html lang=\"en\">\n",
    "    <head>\n",
    "        <meta charset=\"UTF-8\">\n",
    "        <meta name=\"viewport\" content=\"width=device-width, initial-scale=1.0\">\n",
    "        <style>\n",
    "            .scrollable-container {{\n",
    "                width: 100%;\n",
    "                overflow-x: scroll;\n",
    "                white-space: nowrap;\n",
    "            }}\n",
    "            .scrollable-container img {{\n",
    "                display: block;\n",
    "            }}\n",
    "        </style>\n",
    "        <title>Graph for Patient Subgraph</title>\n",
    "    </head>\n",
    "    <body>\n",
    "        <div class=\"scrollable-container\">\n",
    "            <img src=\"{image_path}\" alt=\"NetworkX Graph\">\n",
    "        </div>\n",
    "    </body>\n",
    "    </html>\n",
    "    \"\"\"\n",
    "\n",
    "    # Write the HTML content to a file\n",
    "    with open(html_path, 'w') as file:\n",
    "        file.write(html_content)"
   ]
  },
  {
   "cell_type": "markdown",
   "metadata": {},
   "source": [
    "### Run graph construction code - NetworkX"
   ]
  },
  {
   "cell_type": "markdown",
   "metadata": {},
   "source": [
    "Branch 1"
   ]
  },
  {
   "cell_type": "code",
   "execution_count": 7,
   "metadata": {},
   "outputs": [
    {
     "data": {
      "image/png": "[encoded data removed]",
      "text/plain": [
       "<Figure size 640x480 with 1 Axes>"
      ]
     },
     "metadata": {},
     "output_type": "display_data"
    }
   ],
   "source": [
    "# overall measure average of all features\n",
    "\n",
    "squeezed = tf.squeeze(grads)\n",
    "squeezed = np.array(squeezed)\n",
    "mean_features = np.mean(squeezed, axis=0)\n",
    "\n",
    "grads_min = np.min(mean_features)\n",
    "grads_max = np.max(mean_features)\n",
    "norm_features = (mean_features - grads_min) / (grads_max - grads_min)\n",
    "#norm_features = mean_features/np.sum(mean_features)\n",
    "\n",
    "plt.plot(norm_features)\n",
    "plt.title(\"Average Gradient of All Feature Maps\")\n",
    "plt.xlabel(\"Feature Map Length\")\n",
    "plt.ylabel(\"Normalised Mean Gradient Value\")\n",
    "plt.show()"
   ]
  },
  {
   "cell_type": "code",
   "execution_count": 8,
   "metadata": {},
   "outputs": [
    {
     "name": "stdout",
     "output_type": "stream",
     "text": [
      "96\n",
      "100\n",
      "(100, 512, 512)\n",
      "  start_node end_node  time_between\n",
      "0     258_v0    81_v1        0.5536\n",
      "1      81_v1   360_v2        0.8785\n",
      "2     360_v2   126_v3        0.5921\n",
      "3     126_v3   229_v4        0.0136\n"
     ]
    },
    {
     "data": {
      "image/png": "[encoded data removed]",
      "text/plain": [
       "<Figure size 600x800 with 1 Axes>"
      ]
     },
     "metadata": {},
     "output_type": "display_data"
    },
    {
     "name": "stdout",
     "output_type": "stream",
     "text": [
      "Graph image saved as pat_graph.png\n",
      "HTML file saved as index.html\n"
     ]
    },
    {
     "data": {
      "text/plain": [
       "True"
      ]
     },
     "execution_count": 8,
     "metadata": {},
     "output_type": "execute_result"
    }
   ],
   "source": [
    "# Get the index of the with the largest number\n",
    "max_val_idx = np.argmax(norm_features)\n",
    "print(max_val_idx)\n",
    "\n",
    "# Get the indexes for the respective filter in terms of the timesteps i.e. index + filter size -1 \n",
    "filter_size = 4\n",
    "timestep_max_idx = max_val_idx + filter_size\n",
    "print(timestep_max_idx)\n",
    "\n",
    "\n",
    "# Turn the sparse input graph into a dense graph\n",
    "dense_tensor = tf.sparse.to_dense(ordered_indiv) # ordered_indiv is before the extra dimension is added for batching\n",
    "dense_tensor\n",
    "\n",
    "# Reshape to match graph visualisation code (and how I picture it in my noggin)\n",
    "dense_tensor = tf.transpose(dense_tensor, perm=[2, 1, 0])\n",
    "#print(dense_tensor.shape)\n",
    "\n",
    "# Flip the graph so the most recent timesteps are at the front rather than the back\n",
    "dense_tensor = np.flip(dense_tensor, axis=0)\n",
    "\n",
    "print(dense_tensor.shape)\n",
    "\n",
    "# Get the chunk of the input graph that corresponds to these timesteps\n",
    "max_visits = 100\n",
    "pat_subgraph = dense_tensor[max_visits-timestep_max_idx:max_visits-max_val_idx, :, :] # this need to be 100 minus these values as the tensor has been flipped\n",
    "#print(pat_subgraph)\n",
    "\n",
    "\n",
    "\n",
    "## Turn these input tensors into a NetworkX graph\n",
    "\n",
    "# Get the edges for the graph\n",
    "edges_df = create_edges_df_gc(pat_subgraph)\n",
    "print(edges_df)\n",
    "\n",
    "# Get the node positions for the graph\n",
    "pos_df = create_position_df_gc(edges_df)\n",
    "pos_list = generate_pos_sequence(pos_df['max_codes_per_visit'].max())\n",
    "pos_df = map_y_coord_to_node(pos_df, pos_list)\n",
    "pos_dict = create_pos_dict(pos_df)\n",
    "# Draw the graph and display on HTML\n",
    "graph_name = 'pat_graph'\n",
    "image_path = graph_name+'.png'\n",
    "html_path = 'index.html'\n",
    "draw_gc_pat_graph(edges_df, pos_dict, graph_name=graph_name, pat_outcome=outcome)\n",
    "create_scrollable_html(image_path, html_path)\n",
    "print(f\"Graph image saved as {image_path}\")\n",
    "print(f\"HTML file saved as {html_path}\")\n",
    "\n",
    "# Open the HTML file\n",
    "file_url = 'file://' + os.path.realpath(html_path)\n",
    "webbrowser.open(file_url)"
   ]
  },
  {
   "cell_type": "markdown",
   "metadata": {},
   "source": [
    "#### Branch 2"
   ]
  },
  {
   "cell_type": "code",
   "execution_count": 9,
   "metadata": {},
   "outputs": [
    {
     "data": {
      "image/png": "[encoded data removed]",
      "text/plain": [
       "<Figure size 640x480 with 1 Axes>"
      ]
     },
     "metadata": {},
     "output_type": "display_data"
    },
    {
     "name": "stdout",
     "output_type": "stream",
     "text": [
      "48\n",
      "100\n",
      "(100, 512, 512)\n",
      "0 52\n",
      "  start_node end_node  time_between\n",
      "0     258_v0    81_v1        0.5536\n",
      "1      81_v1   360_v2        0.8785\n",
      "2     360_v2   126_v3        0.5921\n",
      "3     126_v3   229_v4        0.0136\n"
     ]
    },
    {
     "data": {
      "image/png": "[encoded data removed]",
      "text/plain": [
       "<Figure size 600x800 with 1 Axes>"
      ]
     },
     "metadata": {},
     "output_type": "display_data"
    },
    {
     "name": "stdout",
     "output_type": "stream",
     "text": [
      "Graph image saved as pat_graph_stream2.png\n",
      "HTML file saved as index_stream2.html\n"
     ]
    }
   ],
   "source": [
    "if second_TGCNN_layer:\n",
    "    grads2 = model.dy_du_branch2\n",
    "    squeezed2 = tf.squeeze(grads2)\n",
    "    squeezed2 = np.array(squeezed2)\n",
    "    mean_features2 = np.mean(squeezed2, axis=0)\n",
    "    grads_min = np.min(mean_features2)\n",
    "    grads_max = np.max(mean_features2)\n",
    "    norm_features2 = (mean_features2 - grads_min) / (grads_max - grads_min)\n",
    "    #norm_features2 = mean_features2/np.sum(mean_features2)\n",
    "\n",
    "    plt.plot(norm_features2)\n",
    "    plt.title(\"Average Gradient of All Feature Maps from Second Stream\")\n",
    "    plt.xlabel(\"Feature Map Length\")\n",
    "    plt.ylabel(\"Normalised Mean Gradient Value\")\n",
    "    plt.show()\n",
    "\n",
    "\n",
    "\n",
    "    # Get the index of the with the largest number\n",
    "    max_val_idx = np.argmax(norm_features2)\n",
    "    print(max_val_idx)\n",
    "\n",
    "    # Get the indexes for the respective filter in terms of the timesteps i.e. (index*stride) + filter size -1 \n",
    "    # As the stride size in branch 2 is different I need to map the feature index back to the input graph differently\n",
    "    # ((timesteps - filter_size)/stride)+1 = ((200 - 6)/2)+1 =  final feature map size\n",
    "    stream_2_stride = 2\n",
    "    timestep_max_idx = (max_val_idx*stream_2_stride) + filter_size\n",
    "    print(timestep_max_idx)\n",
    "\n",
    "\n",
    "    # Turn the sparse input graph into a dense graph\n",
    "    dense_tensor = tf.sparse.to_dense(ordered_indiv) # ordered_indiv is before the extra dimension is added for batching\n",
    "\n",
    "    # Reshape to match graph visualisation code (and how I picture it in my noggin)\n",
    "    dense_tensor = tf.transpose(dense_tensor, perm=[2, 1, 0])\n",
    "    #print(dense_tensor.shape)\n",
    "\n",
    "    # Flip the graph so the most recent timesteps are at the front rather than the back\n",
    "    dense_tensor = np.flip(dense_tensor, axis=0)\n",
    "\n",
    "    print(dense_tensor.shape)\n",
    "\n",
    "    # Get the chunk of the input graph that corresponds to these timesteps\n",
    "    max_visits = 100\n",
    "\n",
    "    print(max_visits-timestep_max_idx, max_visits-max_val_idx)\n",
    "    pat_subgraph = dense_tensor[max_visits-timestep_max_idx:max_visits-timestep_max_idx+filter_size, :, :]\n",
    "    #print(pat_subgraph)\n",
    "\n",
    "\n",
    "    ## Turn these input tensors into a NetworkX graph\n",
    "\n",
    "    # Get the edges for the graph\n",
    "    edges_df = create_edges_df_gc(pat_subgraph)\n",
    "    print(edges_df)\n",
    "\n",
    "    # Get the node positions for the graph\n",
    "    pos_df = create_position_df_gc(edges_df)\n",
    "    pos_list = generate_pos_sequence(pos_df['max_codes_per_visit'].max())\n",
    "    pos_df = map_y_coord_to_node(pos_df, pos_list)\n",
    "    pos_dict = create_pos_dict(pos_df)\n",
    "\n",
    "\n",
    "    # Draw the graph and display on HTML\n",
    "    graph_name = 'pat_graph_stream2'\n",
    "    image_path = graph_name+'.png'\n",
    "    html_path = 'index_stream2.html'\n",
    "    draw_gc_pat_graph(edges_df, pos_dict, graph_name=graph_name, pat_outcome= outcome, stream_num=2)\n",
    "    create_scrollable_html(image_path, html_path)\n",
    "    print(f\"Graph image saved as {image_path}\")\n",
    "    print(f\"HTML file saved as {html_path}\")\n",
    "    \n",
    "    # Open the HTML file\n",
    "    file_url = 'file://' + os.path.realpath(html_path)\n",
    "    webbrowser.open(file_url)"
   ]
  },
  {
   "cell_type": "markdown",
   "metadata": {},
   "source": [
    "#### Look at each feature maps gradients individually"
   ]
  },
  {
   "cell_type": "code",
   "execution_count": 10,
   "metadata": {},
   "outputs": [
    {
     "data": {
      "image/png": "[encoded data removed]",
      "text/plain": [
       "<Figure size 1200x1000 with 1 Axes>"
      ]
     },
     "metadata": {},
     "output_type": "display_data"
    }
   ],
   "source": [
    "plt.figure(figsize=(12, 10))\n",
    "for map in range(grads.shape[1]):\n",
    "    np_grads = np.array(grads[0, map, :])\n",
    "    grads_min = np.min(np_grads)\n",
    "    grads_max = np.max(np_grads)\n",
    "    norm_grads = (np_grads - grads_min) / (grads_max - grads_min)\n",
    "\n",
    "    plt.plot(norm_grads, label=f'Feature Map {map}')\n",
    "\n",
    "plt.title(\"Gradient of Each Feature Map\")\n",
    "plt.xlabel(\"Feature Map Length\")\n",
    "plt.ylabel(\"Normalized Mean Gradient Value\")\n",
    "plt.legend(loc='upper left')  # This will automatically use the labels specified in plt.plot\n",
    "plt.show()"
   ]
  },
  {
   "cell_type": "markdown",
   "metadata": {},
   "source": [
    "### Plotly/NetworkX Grad-CAM graph"
   ]
  },
  {
   "cell_type": "code",
   "execution_count": 11,
   "metadata": {},
   "outputs": [],
   "source": [
    "# Get the entire patient's history in a DataFrame instead of just the subgraph\n",
    "edges_df = create_edges_df_gc(dense_tensor)\n",
    "\n",
    "# Get the node positions for the graph\n",
    "pos_df = create_position_df_gc(edges_df)\n",
    "pos_list = generate_pos_sequence(pos_df['max_codes_per_visit'].max())\n",
    "pos_df = map_y_coord_to_node(pos_df, pos_list)"
   ]
  },
  {
   "cell_type": "code",
   "execution_count": 12,
   "metadata": {},
   "outputs": [
    {
     "data": {
      "text/html": [
       "<div>\n",
       "<style scoped>\n",
       "    .dataframe tbody tr th:only-of-type {\n",
       "        vertical-align: middle;\n",
       "    }\n",
       "\n",
       "    .dataframe tbody tr th {\n",
       "        vertical-align: top;\n",
       "    }\n",
       "\n",
       "    .dataframe thead th {\n",
       "        text-align: right;\n",
       "    }\n",
       "</style>\n",
       "<table border=\"1\" class=\"dataframe\">\n",
       "  <thead>\n",
       "    <tr style=\"text-align: right;\">\n",
       "      <th></th>\n",
       "      <th>timestep</th>\n",
       "      <th>f_map_indices</th>\n",
       "      <th>timestep_ave_grad</th>\n",
       "      <th>x</th>\n",
       "    </tr>\n",
       "  </thead>\n",
       "  <tbody>\n",
       "    <tr>\n",
       "      <th>0</th>\n",
       "      <td>100</td>\n",
       "      <td>[0]</td>\n",
       "      <td>0.003642</td>\n",
       "      <td>100</td>\n",
       "    </tr>\n",
       "    <tr>\n",
       "      <th>1</th>\n",
       "      <td>99</td>\n",
       "      <td>[0, 1]</td>\n",
       "      <td>0.003642</td>\n",
       "      <td>99</td>\n",
       "    </tr>\n",
       "    <tr>\n",
       "      <th>2</th>\n",
       "      <td>98</td>\n",
       "      <td>[0, 1, 2]</td>\n",
       "      <td>0.003642</td>\n",
       "      <td>98</td>\n",
       "    </tr>\n",
       "    <tr>\n",
       "      <th>3</th>\n",
       "      <td>97</td>\n",
       "      <td>[0, 1, 2, 3]</td>\n",
       "      <td>0.003642</td>\n",
       "      <td>97</td>\n",
       "    </tr>\n",
       "    <tr>\n",
       "      <th>4</th>\n",
       "      <td>96</td>\n",
       "      <td>[1, 2, 3, 4]</td>\n",
       "      <td>0.003642</td>\n",
       "      <td>96</td>\n",
       "    </tr>\n",
       "    <tr>\n",
       "      <th>...</th>\n",
       "      <td>...</td>\n",
       "      <td>...</td>\n",
       "      <td>...</td>\n",
       "      <td>...</td>\n",
       "    </tr>\n",
       "    <tr>\n",
       "      <th>96</th>\n",
       "      <td>4</td>\n",
       "      <td>[93, 94, 95, 96]</td>\n",
       "      <td>0.003642</td>\n",
       "      <td>4</td>\n",
       "    </tr>\n",
       "    <tr>\n",
       "      <th>97</th>\n",
       "      <td>3</td>\n",
       "      <td>[94, 95, 96, 97]</td>\n",
       "      <td>0.003642</td>\n",
       "      <td>3</td>\n",
       "    </tr>\n",
       "    <tr>\n",
       "      <th>98</th>\n",
       "      <td>2</td>\n",
       "      <td>[95, 96, 97]</td>\n",
       "      <td>0.003642</td>\n",
       "      <td>2</td>\n",
       "    </tr>\n",
       "    <tr>\n",
       "      <th>99</th>\n",
       "      <td>1</td>\n",
       "      <td>[96, 97]</td>\n",
       "      <td>0.003642</td>\n",
       "      <td>1</td>\n",
       "    </tr>\n",
       "    <tr>\n",
       "      <th>100</th>\n",
       "      <td>0</td>\n",
       "      <td>[96, 97]</td>\n",
       "      <td>0.003642</td>\n",
       "      <td>0</td>\n",
       "    </tr>\n",
       "  </tbody>\n",
       "</table>\n",
       "<p>101 rows × 4 columns</p>\n",
       "</div>"
      ],
      "text/plain": [
       "     timestep     f_map_indices  timestep_ave_grad    x\n",
       "0         100               [0]           0.003642  100\n",
       "1          99            [0, 1]           0.003642   99\n",
       "2          98         [0, 1, 2]           0.003642   98\n",
       "3          97      [0, 1, 2, 3]           0.003642   97\n",
       "4          96      [1, 2, 3, 4]           0.003642   96\n",
       "..        ...               ...                ...  ...\n",
       "96          4  [93, 94, 95, 96]           0.003642    4\n",
       "97          3  [94, 95, 96, 97]           0.003642    3\n",
       "98          2      [95, 96, 97]           0.003642    2\n",
       "99          1          [96, 97]           0.003642    1\n",
       "100         0          [96, 97]           0.003642    0\n",
       "\n",
       "[101 rows x 4 columns]"
      ]
     },
     "execution_count": 12,
     "metadata": {},
     "output_type": "execute_result"
    }
   ],
   "source": [
    "# Get the average gradient value per timestep\n",
    "\n",
    "def generate_filt_sequences(stride, filter_size, feature_map_size):\n",
    "    sequences = []\n",
    "\n",
    "    for t in range(feature_map_size):\n",
    "        start_idx = t * stride + 1\n",
    "        \n",
    "        end_idx = start_idx + filter_size\n",
    "        \n",
    "        # Generate the list of indices for this timestep\n",
    "        indices = list(range(start_idx, end_idx))\n",
    "        \n",
    "        # Append to sequences\n",
    "        sequences.append(indices)\n",
    "    \n",
    "    return sequences\n",
    "\n",
    "stride = 1\n",
    "filter_size = 4\n",
    "\n",
    "sequences = generate_filt_sequences(stride, filter_size, norm_features.shape[0]+1)\n",
    "sequences\n",
    "\n",
    "def find_indices_of_value(list_of_lists, value):\n",
    "    # Use a list comprehension to find the indices of lists containing the value\n",
    "    return [index for index, sublist in enumerate(list_of_lists) if value in sublist]\n",
    "\n",
    "\n",
    "f_map_indices = []\n",
    "for f in range(1, max_timesteps+1): # this needs to be \n",
    "    f_map_indices.append(find_indices_of_value(sequences, f))\n",
    "\n",
    "len(range(1, norm_features.shape[0]+1))\n",
    "timestep_ave_grad_df = pd.DataFrame({\n",
    "                        'timestep': list(range(max_timesteps, 0, -1)), \n",
    "                        'f_map_indices' : f_map_indices \n",
    "                                     })\n",
    "timestep_ave_grad_df\n",
    "\n",
    "index_values = timestep_ave_grad_df['f_map_indices'].values\n",
    "\n",
    "timestep_ave_grads_lst = []\n",
    "for index, row in timestep_ave_grad_df.iterrows():\n",
    "    grad_lst_per_timestep = []\n",
    "    for i in range(0, len(row['f_map_indices'])):\n",
    "        grad_lst_per_timestep.append(norm_features[i])\n",
    "    # get the mean of the norm_features for each time_step\n",
    "    timestep_ave_grads_lst.append(statistics.mean(grad_lst_per_timestep))\n",
    "\n",
    "timestep_ave_grad_df['timestep_ave_grad'] = timestep_ave_grads_lst\n",
    "\n",
    "\n",
    "# this is the gradient per timestep but not all of the patients will have all the timesteps covered so need to take the top x rows (most recent)\n",
    "# flip these to have the same order as node occurence\n",
    "\n",
    "\n",
    "timestep_ave_grad_df['x'] = timestep_ave_grad_df['timestep']\n",
    "\n",
    "# nodes in position x = 0 is the same as nodes in position x = 1 so can just duplicate the value here\n",
    "new_row_dup = {'timestep': 0, 'f_map_indices': timestep_ave_grad_df['f_map_indices'].iloc[-1], 'timestep_ave_grad': timestep_ave_grad_df['timestep_ave_grad'].iloc[-1], 'x':0}\n",
    "\n",
    "\n",
    "timestep_ave_grad_df.loc[len(timestep_ave_grad_df)] = new_row_dup\n",
    "timestep_ave_grad_df\n"
   ]
  },
  {
   "cell_type": "code",
   "execution_count": 13,
   "metadata": {},
   "outputs": [],
   "source": [
    "# fake mapping dataframe for the ReadCodes and the corresponding descriptions\n",
    "read_code_map_df = pd.read_csv('fake_read_code_descriptions.csv')"
   ]
  },
  {
   "cell_type": "code",
   "execution_count": 14,
   "metadata": {},
   "outputs": [
    {
     "data": {
      "text/html": [
       "<div>\n",
       "<style scoped>\n",
       "    .dataframe tbody tr th:only-of-type {\n",
       "        vertical-align: middle;\n",
       "    }\n",
       "\n",
       "    .dataframe tbody tr th {\n",
       "        vertical-align: top;\n",
       "    }\n",
       "\n",
       "    .dataframe thead th {\n",
       "        text-align: right;\n",
       "    }\n",
       "</style>\n",
       "<table border=\"1\" class=\"dataframe\">\n",
       "  <thead>\n",
       "    <tr style=\"text-align: right;\">\n",
       "      <th></th>\n",
       "      <th>node</th>\n",
       "      <th>x</th>\n",
       "      <th>cumulative_count</th>\n",
       "      <th>max_codes_per_visit</th>\n",
       "      <th>y</th>\n",
       "      <th>node_num</th>\n",
       "      <th>ReadCode</th>\n",
       "      <th>ReadCode_descript</th>\n",
       "      <th>timestep</th>\n",
       "      <th>f_map_indices</th>\n",
       "      <th>timestep_ave_grad</th>\n",
       "      <th>norm_timestep_ave_grad</th>\n",
       "    </tr>\n",
       "  </thead>\n",
       "  <tbody>\n",
       "    <tr>\n",
       "      <th>0</th>\n",
       "      <td>258_v0</td>\n",
       "      <td>0</td>\n",
       "      <td>0</td>\n",
       "      <td>1</td>\n",
       "      <td>0</td>\n",
       "      <td>258</td>\n",
       "      <td>YggfK</td>\n",
       "      <td>258 ReadCode descript here</td>\n",
       "      <td>0</td>\n",
       "      <td>[96, 97]</td>\n",
       "      <td>0.003642</td>\n",
       "      <td>0.000000</td>\n",
       "    </tr>\n",
       "    <tr>\n",
       "      <th>1</th>\n",
       "      <td>81_v1</td>\n",
       "      <td>1</td>\n",
       "      <td>0</td>\n",
       "      <td>1</td>\n",
       "      <td>0</td>\n",
       "      <td>81</td>\n",
       "      <td>hbSQs</td>\n",
       "      <td>81 ReadCode descript here</td>\n",
       "      <td>1</td>\n",
       "      <td>[96, 97]</td>\n",
       "      <td>0.003642</td>\n",
       "      <td>0.000000</td>\n",
       "    </tr>\n",
       "    <tr>\n",
       "      <th>2</th>\n",
       "      <td>360_v2</td>\n",
       "      <td>2</td>\n",
       "      <td>0</td>\n",
       "      <td>1</td>\n",
       "      <td>0</td>\n",
       "      <td>360</td>\n",
       "      <td>LeHoD</td>\n",
       "      <td>360 ReadCode descript here</td>\n",
       "      <td>2</td>\n",
       "      <td>[95, 96, 97]</td>\n",
       "      <td>0.003642</td>\n",
       "      <td>0.333333</td>\n",
       "    </tr>\n",
       "    <tr>\n",
       "      <th>3</th>\n",
       "      <td>126_v3</td>\n",
       "      <td>3</td>\n",
       "      <td>0</td>\n",
       "      <td>1</td>\n",
       "      <td>0</td>\n",
       "      <td>126</td>\n",
       "      <td>dNzzZ</td>\n",
       "      <td>126 ReadCode descript here</td>\n",
       "      <td>3</td>\n",
       "      <td>[94, 95, 96, 97]</td>\n",
       "      <td>0.003642</td>\n",
       "      <td>1.000000</td>\n",
       "    </tr>\n",
       "    <tr>\n",
       "      <th>4</th>\n",
       "      <td>229_v4</td>\n",
       "      <td>4</td>\n",
       "      <td>0</td>\n",
       "      <td>1</td>\n",
       "      <td>0</td>\n",
       "      <td>229</td>\n",
       "      <td>GdcbS</td>\n",
       "      <td>229 ReadCode descript here</td>\n",
       "      <td>4</td>\n",
       "      <td>[93, 94, 95, 96]</td>\n",
       "      <td>0.003642</td>\n",
       "      <td>1.000000</td>\n",
       "    </tr>\n",
       "  </tbody>\n",
       "</table>\n",
       "</div>"
      ],
      "text/plain": [
       "     node  x  cumulative_count  max_codes_per_visit  y  node_num ReadCode  \\\n",
       "0  258_v0  0                 0                    1  0       258    YggfK   \n",
       "1   81_v1  1                 0                    1  0        81    hbSQs   \n",
       "2  360_v2  2                 0                    1  0       360    LeHoD   \n",
       "3  126_v3  3                 0                    1  0       126    dNzzZ   \n",
       "4  229_v4  4                 0                    1  0       229    GdcbS   \n",
       "\n",
       "            ReadCode_descript  timestep     f_map_indices  timestep_ave_grad  \\\n",
       "0  258 ReadCode descript here         0          [96, 97]           0.003642   \n",
       "1   81 ReadCode descript here         1          [96, 97]           0.003642   \n",
       "2  360 ReadCode descript here         2      [95, 96, 97]           0.003642   \n",
       "3  126 ReadCode descript here         3  [94, 95, 96, 97]           0.003642   \n",
       "4  229 ReadCode descript here         4  [93, 94, 95, 96]           0.003642   \n",
       "\n",
       "   norm_timestep_ave_grad  \n",
       "0                0.000000  \n",
       "1                0.000000  \n",
       "2                0.333333  \n",
       "3                1.000000  \n",
       "4                1.000000  "
      ]
     },
     "execution_count": 14,
     "metadata": {},
     "output_type": "execute_result"
    }
   ],
   "source": [
    "# Extract the numeric part from the 'node' column in pos_df\n",
    "pos_df['node_num'] = pos_df['node'].str.extract('(\\d+)').astype(int)\n",
    "\n",
    "merged_pos_df = pos_df.merge(read_code_map_df, on='node_num', how='left')\n",
    "\n",
    "# merge the x cols in timestep_ave_grad_df with merged_pos_df x col to assign grad strength to nodes\n",
    "merged_pos_df = merged_pos_df.merge(timestep_ave_grad_df, on='x', how='left')\n",
    "\n",
    "# normalise (min-max) the timestep_ave_grad column (needed as not all of the timesteps are used and should give better y axis values)\n",
    "merged_pos_df['norm_timestep_ave_grad'] = (merged_pos_df['timestep_ave_grad'] - merged_pos_df['timestep_ave_grad'].min()) / (merged_pos_df['timestep_ave_grad'].max() - merged_pos_df['timestep_ave_grad'].min())\n",
    "\n",
    "merged_pos_df.head()"
   ]
  },
  {
   "cell_type": "code",
   "execution_count": 15,
   "metadata": {},
   "outputs": [
    {
     "data": {
      "text/html": [
       "<div>\n",
       "<style scoped>\n",
       "    .dataframe tbody tr th:only-of-type {\n",
       "        vertical-align: middle;\n",
       "    }\n",
       "\n",
       "    .dataframe tbody tr th {\n",
       "        vertical-align: top;\n",
       "    }\n",
       "\n",
       "    .dataframe thead th {\n",
       "        text-align: right;\n",
       "    }\n",
       "</style>\n",
       "<table border=\"1\" class=\"dataframe\">\n",
       "  <thead>\n",
       "    <tr style=\"text-align: right;\">\n",
       "      <th></th>\n",
       "      <th>start_node</th>\n",
       "      <th>end_node</th>\n",
       "      <th>time_between</th>\n",
       "      <th>x0</th>\n",
       "      <th>y0</th>\n",
       "      <th>node_num_x</th>\n",
       "      <th>x1</th>\n",
       "      <th>y1</th>\n",
       "      <th>node_num_y</th>\n",
       "    </tr>\n",
       "  </thead>\n",
       "  <tbody>\n",
       "    <tr>\n",
       "      <th>0</th>\n",
       "      <td>258_v0</td>\n",
       "      <td>81_v1</td>\n",
       "      <td>0.5536</td>\n",
       "      <td>0</td>\n",
       "      <td>0</td>\n",
       "      <td>258</td>\n",
       "      <td>1</td>\n",
       "      <td>0</td>\n",
       "      <td>81</td>\n",
       "    </tr>\n",
       "    <tr>\n",
       "      <th>1</th>\n",
       "      <td>81_v1</td>\n",
       "      <td>360_v2</td>\n",
       "      <td>0.8785</td>\n",
       "      <td>1</td>\n",
       "      <td>0</td>\n",
       "      <td>81</td>\n",
       "      <td>2</td>\n",
       "      <td>0</td>\n",
       "      <td>360</td>\n",
       "    </tr>\n",
       "    <tr>\n",
       "      <th>2</th>\n",
       "      <td>360_v2</td>\n",
       "      <td>126_v3</td>\n",
       "      <td>0.5921</td>\n",
       "      <td>2</td>\n",
       "      <td>0</td>\n",
       "      <td>360</td>\n",
       "      <td>3</td>\n",
       "      <td>0</td>\n",
       "      <td>126</td>\n",
       "    </tr>\n",
       "    <tr>\n",
       "      <th>3</th>\n",
       "      <td>126_v3</td>\n",
       "      <td>229_v4</td>\n",
       "      <td>0.0136</td>\n",
       "      <td>3</td>\n",
       "      <td>0</td>\n",
       "      <td>126</td>\n",
       "      <td>4</td>\n",
       "      <td>0</td>\n",
       "      <td>229</td>\n",
       "    </tr>\n",
       "    <tr>\n",
       "      <th>4</th>\n",
       "      <td>229_v4</td>\n",
       "      <td>375_v5</td>\n",
       "      <td>0.1156</td>\n",
       "      <td>4</td>\n",
       "      <td>0</td>\n",
       "      <td>229</td>\n",
       "      <td>5</td>\n",
       "      <td>0</td>\n",
       "      <td>375</td>\n",
       "    </tr>\n",
       "  </tbody>\n",
       "</table>\n",
       "</div>"
      ],
      "text/plain": [
       "  start_node end_node  time_between  x0  y0  node_num_x  x1  y1  node_num_y\n",
       "0     258_v0    81_v1        0.5536   0   0         258   1   0          81\n",
       "1      81_v1   360_v2        0.8785   1   0          81   2   0         360\n",
       "2     360_v2   126_v3        0.5921   2   0         360   3   0         126\n",
       "3     126_v3   229_v4        0.0136   3   0         126   4   0         229\n",
       "4     229_v4   375_v5        0.1156   4   0         229   5   0         375"
      ]
     },
     "execution_count": 15,
     "metadata": {},
     "output_type": "execute_result"
    }
   ],
   "source": [
    "# edges_df merge to pos_df to get x0 and x1 and y0 and y1 for edges\n",
    "\n",
    "# merge edges_df with pos_df on start_node to get x0 and y0\n",
    "edge_pos_df = edges_df.merge(pos_df, how='left', left_on='start_node', right_on='node')\n",
    "edge_pos_df = edge_pos_df.rename(columns={'x': 'x0', 'y': 'y0'}).drop(columns=['node', 'cumulative_count', 'max_codes_per_visit'])\n",
    "\n",
    "# merge the result with pos_df again on end_node to get x1 and y1\n",
    "edge_pos_df = edge_pos_df.merge(pos_df, how='left', left_on='end_node', right_on='node')\n",
    "edge_pos_df = edge_pos_df.rename(columns={'x': 'x1', 'y': 'y1'}).drop(columns=['node', 'cumulative_count', 'max_codes_per_visit'])\n",
    "edge_pos_df.head()"
   ]
  },
  {
   "cell_type": "code",
   "execution_count": 16,
   "metadata": {},
   "outputs": [
    {
     "name": "stdout",
     "output_type": "stream",
     "text": [
      "Model predicted incorrectly\n"
     ]
    },
    {
     "data": {
      "application/vnd.plotly.v1+json": {
       "config": {
        "plotlyServerURL": "https://plot.ly"
       },
       "data": [
        {
         "hoverinfo": "none",
         "line": {
          "color": "#888",
          "width": 0.5
         },
         "mode": "lines",
         "type": "scatter",
         "x": [
          0,
          1,
          null,
          1,
          2,
          null,
          2,
          3,
          null,
          3,
          4,
          null,
          4,
          5,
          null,
          5,
          6,
          null,
          6,
          7,
          null,
          7,
          8,
          null,
          8,
          9,
          null,
          9,
          10,
          null,
          10,
          11,
          null,
          11,
          12,
          null,
          12,
          13,
          null,
          13,
          14,
          null,
          14,
          15,
          null,
          15,
          16,
          null,
          16,
          17,
          null,
          17,
          18,
          null,
          18,
          19,
          null,
          19,
          20,
          null,
          20,
          21,
          null,
          21,
          22,
          null,
          22,
          23,
          null,
          23,
          24,
          null,
          24,
          25,
          null,
          25,
          26,
          null,
          26,
          27,
          null,
          27,
          28,
          null,
          28,
          29,
          null,
          29,
          30,
          null,
          30,
          31,
          null,
          31,
          32,
          null,
          32,
          33,
          null,
          33,
          34,
          null,
          34,
          35,
          null,
          35,
          36,
          null,
          36,
          37,
          null,
          37,
          38,
          null,
          38,
          39,
          null,
          39,
          40,
          null,
          40,
          41,
          null,
          41,
          42,
          null,
          42,
          43,
          null,
          43,
          44,
          null,
          44,
          45,
          null,
          45,
          46,
          null,
          46,
          47,
          null,
          47,
          48,
          null,
          48,
          49,
          null,
          49,
          50,
          null,
          50,
          51,
          null,
          51,
          52,
          null,
          52,
          53,
          null,
          53,
          54,
          null,
          54,
          55,
          null,
          55,
          56,
          null,
          56,
          57,
          null,
          57,
          58,
          null,
          58,
          59,
          null,
          59,
          60,
          null
         ],
         "y": [
          0,
          0,
          null,
          0,
          0,
          null,
          0,
          0,
          null,
          0,
          0,
          null,
          0,
          0,
          null,
          0,
          0,
          null,
          0,
          0,
          null,
          0,
          0,
          null,
          0,
          0,
          null,
          0,
          0,
          null,
          0,
          0,
          null,
          0,
          0,
          null,
          0,
          0,
          null,
          0,
          0,
          null,
          0,
          0,
          null,
          0,
          0,
          null,
          0,
          0,
          null,
          0,
          0,
          null,
          0,
          0,
          null,
          0,
          0,
          null,
          0,
          0,
          null,
          0,
          0,
          null,
          0,
          0,
          null,
          0,
          0,
          null,
          0,
          0,
          null,
          0,
          0,
          null,
          0,
          0,
          null,
          0,
          0,
          null,
          0,
          0,
          null,
          0,
          0,
          null,
          0,
          0,
          null,
          0,
          0,
          null,
          0,
          0,
          null,
          0,
          0,
          null,
          0,
          0,
          null,
          0,
          0,
          null,
          0,
          0,
          null,
          0,
          0,
          null,
          0,
          0,
          null,
          0,
          0,
          null,
          0,
          0,
          null,
          0,
          0,
          null,
          0,
          0,
          null,
          0,
          0,
          null,
          0,
          0,
          null,
          0,
          0,
          null,
          0,
          0,
          null,
          0,
          0,
          null,
          0,
          0,
          null,
          0,
          0,
          null,
          0,
          0,
          null,
          0,
          0,
          null,
          0,
          0,
          null,
          0,
          0,
          null,
          0,
          0,
          null,
          0,
          0,
          null,
          0,
          0,
          null,
          0,
          0,
          null,
          0,
          0,
          null,
          0,
          0,
          null
         ]
        },
        {
         "hoverinfo": "text",
         "hovertext": [
          "258 ReadCode descript here",
          "81 ReadCode descript here",
          "360 ReadCode descript here",
          "126 ReadCode descript here",
          "229 ReadCode descript here",
          "375 ReadCode descript here",
          "85 ReadCode descript here",
          "436 ReadCode descript here",
          "109 ReadCode descript here",
          "324 ReadCode descript here",
          "96 ReadCode descript here",
          "457 ReadCode descript here",
          "499 ReadCode descript here",
          "225 ReadCode descript here",
          "431 ReadCode descript here",
          "117 ReadCode descript here",
          "22 ReadCode descript here",
          "306 ReadCode descript here",
          "9 ReadCode descript here",
          "138 ReadCode descript here",
          "411 ReadCode descript here",
          "35 ReadCode descript here",
          "82 ReadCode descript here",
          "nan",
          "118 ReadCode descript here",
          "147 ReadCode descript here",
          "261 ReadCode descript here",
          "317 ReadCode descript here",
          "161 ReadCode descript here",
          "241 ReadCode descript here",
          "217 ReadCode descript here",
          "200 ReadCode descript here",
          "475 ReadCode descript here",
          "221 ReadCode descript here",
          "346 ReadCode descript here",
          "191 ReadCode descript here",
          "87 ReadCode descript here",
          "14 ReadCode descript here",
          "225 ReadCode descript here",
          "460 ReadCode descript here",
          "20 ReadCode descript here",
          "493 ReadCode descript here",
          "143 ReadCode descript here",
          "147 ReadCode descript here",
          "417 ReadCode descript here",
          "324 ReadCode descript here",
          "373 ReadCode descript here",
          "492 ReadCode descript here",
          "268 ReadCode descript here",
          "377 ReadCode descript here",
          "239 ReadCode descript here",
          "42 ReadCode descript here",
          "311 ReadCode descript here",
          "384 ReadCode descript here",
          "509 ReadCode descript here",
          "32 ReadCode descript here",
          "372 ReadCode descript here",
          "495 ReadCode descript here",
          "403 ReadCode descript here",
          "55 ReadCode descript here",
          "3 ReadCode descript here"
         ],
         "marker": {
          "color": [
           0,
           0,
           0.3333333432674408,
           1,
           1,
           1,
           1,
           1,
           1,
           1,
           1,
           1,
           1,
           1,
           1,
           1,
           1,
           1,
           1,
           1,
           1,
           1,
           1,
           1,
           1,
           1,
           1,
           1,
           1,
           1,
           1,
           1,
           1,
           1,
           1,
           1,
           1,
           1,
           1,
           1,
           1,
           1,
           1,
           1,
           1,
           1,
           1,
           1,
           1,
           1,
           1,
           1,
           1,
           1,
           1,
           1,
           1,
           1,
           1,
           1,
           1
          ],
          "colorbar": {
           "thickness": 15,
           "title": {
            "side": "right",
            "text": "Influence Visit Had on Prediction (Gradient)"
           },
           "xanchor": "left"
          },
          "colorscale": [
           [
            0,
            "#440154"
           ],
           [
            0.1111111111111111,
            "#482878"
           ],
           [
            0.2222222222222222,
            "#3e4989"
           ],
           [
            0.3333333333333333,
            "#31688e"
           ],
           [
            0.4444444444444444,
            "#26828e"
           ],
           [
            0.5555555555555556,
            "#1f9e89"
           ],
           [
            0.6666666666666666,
            "#35b779"
           ],
           [
            0.7777777777777778,
            "#6ece58"
           ],
           [
            0.8888888888888888,
            "#b5de2b"
           ],
           [
            1,
            "#fde725"
           ]
          ],
          "line": {
           "width": 2
          },
          "reversescale": true,
          "showscale": true,
          "size": 45
         },
         "mode": "markers+text",
         "text": [
          "YggfK",
          "hbSQs",
          "LeHoD",
          "dNzzZ",
          "GdcbS",
          "hmoOY",
          "cLVjQ",
          "dTqvC",
          "UfZnH",
          "rgZWT",
          "GLKPY",
          "aUHbH",
          "MaHbe",
          "dvvQN",
          "FsppN",
          "ILoDk",
          "hKLJF",
          "yJNnK",
          "MYyYx",
          "MjWRx",
          "IJQys",
          "qKNst",
          "yaSpd",
          "nan",
          "ChHCO",
          "wNPqB",
          "GykJb",
          "WoLdx",
          "mIJut",
          "WHRFl",
          "PuGRg",
          "JpVWu",
          "GzbeD",
          "fOEAe",
          "PzfZs",
          "HvBwd",
          "gZkCa",
          "RXRaY",
          "dvvQN",
          "Lwccr",
          "jUebT",
          "IaDbb",
          "ZRdcV",
          "wNPqB",
          "VogCO",
          "rgZWT",
          "TcHeL",
          "YfErx",
          "JZstL",
          "iZkyK",
          "RBpSz",
          "QvsjF",
          "OhOln",
          "hFHcf",
          "mctQc",
          "vKneQ",
          "fIXso",
          "jVaMw",
          "MsKCt",
          "aYpcl",
          "GYMwF"
         ],
         "textfont": {
          "color": [
           "black",
           "black",
           "black",
           "white",
           "white",
           "white",
           "white",
           "white",
           "white",
           "white",
           "white",
           "white",
           "white",
           "white",
           "white",
           "white",
           "white",
           "white",
           "white",
           "white",
           "white",
           "white",
           "white",
           "white",
           "white",
           "white",
           "white",
           "white",
           "white",
           "white",
           "white",
           "white",
           "white",
           "white",
           "white",
           "white",
           "white",
           "white",
           "white",
           "white",
           "white",
           "white",
           "white",
           "white",
           "white",
           "white",
           "white",
           "white",
           "white",
           "white",
           "white",
           "white",
           "white",
           "white",
           "white",
           "white",
           "white",
           "white",
           "white",
           "white",
           "white"
          ],
          "size": 10
         },
         "textposition": "middle center",
         "type": "scatter",
         "x": [
          0,
          1,
          2,
          3,
          4,
          5,
          6,
          7,
          8,
          9,
          10,
          11,
          12,
          13,
          14,
          15,
          16,
          17,
          18,
          19,
          20,
          21,
          22,
          23,
          24,
          25,
          26,
          27,
          28,
          29,
          30,
          31,
          32,
          33,
          34,
          35,
          36,
          37,
          38,
          39,
          40,
          41,
          42,
          43,
          44,
          45,
          46,
          47,
          48,
          49,
          50,
          51,
          52,
          53,
          54,
          55,
          56,
          57,
          58,
          59,
          60
         ],
         "y": [
          0,
          0,
          0,
          0,
          0,
          0,
          0,
          0,
          0,
          0,
          0,
          0,
          0,
          0,
          0,
          0,
          0,
          0,
          0,
          0,
          0,
          0,
          0,
          0,
          0,
          0,
          0,
          0,
          0,
          0,
          0,
          0,
          0,
          0,
          0,
          0,
          0,
          0,
          0,
          0,
          0,
          0,
          0,
          0,
          0,
          0,
          0,
          0,
          0,
          0,
          0,
          0,
          0,
          0,
          0,
          0,
          0,
          0,
          0,
          0,
          0
         ]
        }
       ],
       "layout": {
        "annotations": [
         {
          "align": "center",
          "font": {
           "size": 10
          },
          "showarrow": false,
          "text": "17 days",
          "x": 0.5,
          "y": 0
         },
         {
          "align": "center",
          "font": {
           "size": 10
          },
          "showarrow": false,
          "text": "27 days",
          "x": 1.5,
          "y": 0
         },
         {
          "align": "center",
          "font": {
           "size": 10
          },
          "showarrow": false,
          "text": "18 days",
          "x": 2.5,
          "y": 0
         },
         {
          "align": "center",
          "font": {
           "size": 10
          },
          "showarrow": false,
          "text": "0 days",
          "x": 3.5,
          "y": 0
         },
         {
          "align": "center",
          "font": {
           "size": 10
          },
          "showarrow": false,
          "text": "4 days",
          "x": 4.5,
          "y": 0
         },
         {
          "align": "center",
          "font": {
           "size": 10
          },
          "showarrow": false,
          "text": "16 days",
          "x": 5.5,
          "y": 0
         },
         {
          "align": "center",
          "font": {
           "size": 10
          },
          "showarrow": false,
          "text": "5 days",
          "x": 6.5,
          "y": 0
         },
         {
          "align": "center",
          "font": {
           "size": 10
          },
          "showarrow": false,
          "text": "1 days",
          "x": 7.5,
          "y": 0
         },
         {
          "align": "center",
          "font": {
           "size": 10
          },
          "showarrow": false,
          "text": "11 days",
          "x": 8.5,
          "y": 0
         },
         {
          "align": "center",
          "font": {
           "size": 10
          },
          "showarrow": false,
          "text": "14 days",
          "x": 9.5,
          "y": 0
         },
         {
          "align": "center",
          "font": {
           "size": 10
          },
          "showarrow": false,
          "text": "21 days",
          "x": 10.5,
          "y": 0
         },
         {
          "align": "center",
          "font": {
           "size": 10
          },
          "showarrow": false,
          "text": "7 days",
          "x": 11.5,
          "y": 0
         },
         {
          "align": "center",
          "font": {
           "size": 10
          },
          "showarrow": false,
          "text": "1 days",
          "x": 12.5,
          "y": 0
         },
         {
          "align": "center",
          "font": {
           "size": 10
          },
          "showarrow": false,
          "text": "12 days",
          "x": 13.5,
          "y": 0
         },
         {
          "align": "center",
          "font": {
           "size": 10
          },
          "showarrow": false,
          "text": "22 days",
          "x": 14.5,
          "y": 0
         },
         {
          "align": "center",
          "font": {
           "size": 10
          },
          "showarrow": false,
          "text": "17 days",
          "x": 15.5,
          "y": 0
         },
         {
          "align": "center",
          "font": {
           "size": 10
          },
          "showarrow": false,
          "text": "24 days",
          "x": 16.5,
          "y": 0
         },
         {
          "align": "center",
          "font": {
           "size": 10
          },
          "showarrow": false,
          "text": "7 days",
          "x": 17.5,
          "y": 0
         },
         {
          "align": "center",
          "font": {
           "size": 10
          },
          "showarrow": false,
          "text": "8 days",
          "x": 18.5,
          "y": 0
         },
         {
          "align": "center",
          "font": {
           "size": 10
          },
          "showarrow": false,
          "text": "17 days",
          "x": 19.5,
          "y": 0
         },
         {
          "align": "center",
          "font": {
           "size": 10
          },
          "showarrow": false,
          "text": "13 days",
          "x": 20.5,
          "y": 0
         },
         {
          "align": "center",
          "font": {
           "size": 10
          },
          "showarrow": false,
          "text": "28 days",
          "x": 21.5,
          "y": 0
         },
         {
          "align": "center",
          "font": {
           "size": 10
          },
          "showarrow": false,
          "text": "17 days",
          "x": 22.5,
          "y": 0
         },
         {
          "align": "center",
          "font": {
           "size": 10
          },
          "showarrow": false,
          "text": "1 days",
          "x": 23.5,
          "y": 0
         },
         {
          "align": "center",
          "font": {
           "size": 10
          },
          "showarrow": false,
          "text": "28 days",
          "x": 24.5,
          "y": 0
         },
         {
          "align": "center",
          "font": {
           "size": 10
          },
          "showarrow": false,
          "text": "18 days",
          "x": 25.5,
          "y": 0
         },
         {
          "align": "center",
          "font": {
           "size": 10
          },
          "showarrow": false,
          "text": "7 days",
          "x": 26.5,
          "y": 0
         },
         {
          "align": "center",
          "font": {
           "size": 10
          },
          "showarrow": false,
          "text": "27 days",
          "x": 27.5,
          "y": 0
         },
         {
          "align": "center",
          "font": {
           "size": 10
          },
          "showarrow": false,
          "text": "5 days",
          "x": 28.5,
          "y": 0
         },
         {
          "align": "center",
          "font": {
           "size": 10
          },
          "showarrow": false,
          "text": "0 days",
          "x": 29.5,
          "y": 0
         },
         {
          "align": "center",
          "font": {
           "size": 10
          },
          "showarrow": false,
          "text": "13 days",
          "x": 30.5,
          "y": 0
         },
         {
          "align": "center",
          "font": {
           "size": 10
          },
          "showarrow": false,
          "text": "27 days",
          "x": 31.5,
          "y": 0
         },
         {
          "align": "center",
          "font": {
           "size": 10
          },
          "showarrow": false,
          "text": "2 days",
          "x": 32.5,
          "y": 0
         },
         {
          "align": "center",
          "font": {
           "size": 10
          },
          "showarrow": false,
          "text": "29 days",
          "x": 33.5,
          "y": 0
         },
         {
          "align": "center",
          "font": {
           "size": 10
          },
          "showarrow": false,
          "text": "17 days",
          "x": 34.5,
          "y": 0
         },
         {
          "align": "center",
          "font": {
           "size": 10
          },
          "showarrow": false,
          "text": "23 days",
          "x": 35.5,
          "y": 0
         },
         {
          "align": "center",
          "font": {
           "size": 10
          },
          "showarrow": false,
          "text": "25 days",
          "x": 36.5,
          "y": 0
         },
         {
          "align": "center",
          "font": {
           "size": 10
          },
          "showarrow": false,
          "text": "16 days",
          "x": 37.5,
          "y": 0
         },
         {
          "align": "center",
          "font": {
           "size": 10
          },
          "showarrow": false,
          "text": "13 days",
          "x": 38.5,
          "y": 0
         },
         {
          "align": "center",
          "font": {
           "size": 10
          },
          "showarrow": false,
          "text": "1 days",
          "x": 39.5,
          "y": 0
         },
         {
          "align": "center",
          "font": {
           "size": 10
          },
          "showarrow": false,
          "text": "14 days",
          "x": 40.5,
          "y": 0
         },
         {
          "align": "center",
          "font": {
           "size": 10
          },
          "showarrow": false,
          "text": "14 days",
          "x": 41.5,
          "y": 0
         },
         {
          "align": "center",
          "font": {
           "size": 10
          },
          "showarrow": false,
          "text": "1 days",
          "x": 42.5,
          "y": 0
         },
         {
          "align": "center",
          "font": {
           "size": 10
          },
          "showarrow": false,
          "text": "19 days",
          "x": 43.5,
          "y": 0
         },
         {
          "align": "center",
          "font": {
           "size": 10
          },
          "showarrow": false,
          "text": "30 days",
          "x": 44.5,
          "y": 0
         },
         {
          "align": "center",
          "font": {
           "size": 10
          },
          "showarrow": false,
          "text": "6 days",
          "x": 45.5,
          "y": 0
         },
         {
          "align": "center",
          "font": {
           "size": 10
          },
          "showarrow": false,
          "text": "21 days",
          "x": 46.5,
          "y": 0
         },
         {
          "align": "center",
          "font": {
           "size": 10
          },
          "showarrow": false,
          "text": "30 days",
          "x": 47.5,
          "y": 0
         },
         {
          "align": "center",
          "font": {
           "size": 10
          },
          "showarrow": false,
          "text": "10 days",
          "x": 48.5,
          "y": 0
         },
         {
          "align": "center",
          "font": {
           "size": 10
          },
          "showarrow": false,
          "text": "14 days",
          "x": 49.5,
          "y": 0
         },
         {
          "align": "center",
          "font": {
           "size": 10
          },
          "showarrow": false,
          "text": "24 days",
          "x": 50.5,
          "y": 0
         },
         {
          "align": "center",
          "font": {
           "size": 10
          },
          "showarrow": false,
          "text": "21 days",
          "x": 51.5,
          "y": 0
         },
         {
          "align": "center",
          "font": {
           "size": 10
          },
          "showarrow": false,
          "text": "23 days",
          "x": 52.5,
          "y": 0
         },
         {
          "align": "center",
          "font": {
           "size": 10
          },
          "showarrow": false,
          "text": "9 days",
          "x": 53.5,
          "y": 0
         },
         {
          "align": "center",
          "font": {
           "size": 10
          },
          "showarrow": false,
          "text": "29 days",
          "x": 54.5,
          "y": 0
         },
         {
          "align": "center",
          "font": {
           "size": 10
          },
          "showarrow": false,
          "text": "10 days",
          "x": 55.5,
          "y": 0
         },
         {
          "align": "center",
          "font": {
           "size": 10
          },
          "showarrow": false,
          "text": "15 days",
          "x": 56.5,
          "y": 0
         },
         {
          "align": "center",
          "font": {
           "size": 10
          },
          "showarrow": false,
          "text": "13 days",
          "x": 57.5,
          "y": 0
         },
         {
          "align": "center",
          "font": {
           "size": 10
          },
          "showarrow": false,
          "text": "10 days",
          "x": 58.5,
          "y": 0
         },
         {
          "align": "center",
          "font": {
           "size": 10
          },
          "showarrow": false,
          "text": "17 days",
          "x": 59.5,
          "y": 0
         },
         {
          "showarrow": false,
          "text": "The probability of this patient needing a replacement is 47.29%. Patient will likely need a hip replacement in 5 years time.",
          "x": 0.005,
          "xref": "paper",
          "y": -0.002,
          "yref": "paper"
         }
        ],
        "hovermode": "closest",
        "margin": {
         "b": 20,
         "l": 10,
         "r": 5,
         "t": 50
        },
        "showlegend": false,
        "template": {
         "data": {
          "bar": [
           {
            "error_x": {
             "color": "#2a3f5f"
            },
            "error_y": {
             "color": "#2a3f5f"
            },
            "marker": {
             "line": {
              "color": "#E5ECF6",
              "width": 0.5
             },
             "pattern": {
              "fillmode": "overlay",
              "size": 10,
              "solidity": 0.2
             }
            },
            "type": "bar"
           }
          ],
          "barpolar": [
           {
            "marker": {
             "line": {
              "color": "#E5ECF6",
              "width": 0.5
             },
             "pattern": {
              "fillmode": "overlay",
              "size": 10,
              "solidity": 0.2
             }
            },
            "type": "barpolar"
           }
          ],
          "carpet": [
           {
            "aaxis": {
             "endlinecolor": "#2a3f5f",
             "gridcolor": "white",
             "linecolor": "white",
             "minorgridcolor": "white",
             "startlinecolor": "#2a3f5f"
            },
            "baxis": {
             "endlinecolor": "#2a3f5f",
             "gridcolor": "white",
             "linecolor": "white",
             "minorgridcolor": "white",
             "startlinecolor": "#2a3f5f"
            },
            "type": "carpet"
           }
          ],
          "choropleth": [
           {
            "colorbar": {
             "outlinewidth": 0,
             "ticks": ""
            },
            "type": "choropleth"
           }
          ],
          "contour": [
           {
            "colorbar": {
             "outlinewidth": 0,
             "ticks": ""
            },
            "colorscale": [
             [
              0,
              "#0d0887"
             ],
             [
              0.1111111111111111,
              "#46039f"
             ],
             [
              0.2222222222222222,
              "#7201a8"
             ],
             [
              0.3333333333333333,
              "#9c179e"
             ],
             [
              0.4444444444444444,
              "#bd3786"
             ],
             [
              0.5555555555555556,
              "#d8576b"
             ],
             [
              0.6666666666666666,
              "#ed7953"
             ],
             [
              0.7777777777777778,
              "#fb9f3a"
             ],
             [
              0.8888888888888888,
              "#fdca26"
             ],
             [
              1,
              "#f0f921"
             ]
            ],
            "type": "contour"
           }
          ],
          "contourcarpet": [
           {
            "colorbar": {
             "outlinewidth": 0,
             "ticks": ""
            },
            "type": "contourcarpet"
           }
          ],
          "heatmap": [
           {
            "colorbar": {
             "outlinewidth": 0,
             "ticks": ""
            },
            "colorscale": [
             [
              0,
              "#0d0887"
             ],
             [
              0.1111111111111111,
              "#46039f"
             ],
             [
              0.2222222222222222,
              "#7201a8"
             ],
             [
              0.3333333333333333,
              "#9c179e"
             ],
             [
              0.4444444444444444,
              "#bd3786"
             ],
             [
              0.5555555555555556,
              "#d8576b"
             ],
             [
              0.6666666666666666,
              "#ed7953"
             ],
             [
              0.7777777777777778,
              "#fb9f3a"
             ],
             [
              0.8888888888888888,
              "#fdca26"
             ],
             [
              1,
              "#f0f921"
             ]
            ],
            "type": "heatmap"
           }
          ],
          "heatmapgl": [
           {
            "colorbar": {
             "outlinewidth": 0,
             "ticks": ""
            },
            "colorscale": [
             [
              0,
              "#0d0887"
             ],
             [
              0.1111111111111111,
              "#46039f"
             ],
             [
              0.2222222222222222,
              "#7201a8"
             ],
             [
              0.3333333333333333,
              "#9c179e"
             ],
             [
              0.4444444444444444,
              "#bd3786"
             ],
             [
              0.5555555555555556,
              "#d8576b"
             ],
             [
              0.6666666666666666,
              "#ed7953"
             ],
             [
              0.7777777777777778,
              "#fb9f3a"
             ],
             [
              0.8888888888888888,
              "#fdca26"
             ],
             [
              1,
              "#f0f921"
             ]
            ],
            "type": "heatmapgl"
           }
          ],
          "histogram": [
           {
            "marker": {
             "pattern": {
              "fillmode": "overlay",
              "size": 10,
              "solidity": 0.2
             }
            },
            "type": "histogram"
           }
          ],
          "histogram2d": [
           {
            "colorbar": {
             "outlinewidth": 0,
             "ticks": ""
            },
            "colorscale": [
             [
              0,
              "#0d0887"
             ],
             [
              0.1111111111111111,
              "#46039f"
             ],
             [
              0.2222222222222222,
              "#7201a8"
             ],
             [
              0.3333333333333333,
              "#9c179e"
             ],
             [
              0.4444444444444444,
              "#bd3786"
             ],
             [
              0.5555555555555556,
              "#d8576b"
             ],
             [
              0.6666666666666666,
              "#ed7953"
             ],
             [
              0.7777777777777778,
              "#fb9f3a"
             ],
             [
              0.8888888888888888,
              "#fdca26"
             ],
             [
              1,
              "#f0f921"
             ]
            ],
            "type": "histogram2d"
           }
          ],
          "histogram2dcontour": [
           {
            "colorbar": {
             "outlinewidth": 0,
             "ticks": ""
            },
            "colorscale": [
             [
              0,
              "#0d0887"
             ],
             [
              0.1111111111111111,
              "#46039f"
             ],
             [
              0.2222222222222222,
              "#7201a8"
             ],
             [
              0.3333333333333333,
              "#9c179e"
             ],
             [
              0.4444444444444444,
              "#bd3786"
             ],
             [
              0.5555555555555556,
              "#d8576b"
             ],
             [
              0.6666666666666666,
              "#ed7953"
             ],
             [
              0.7777777777777778,
              "#fb9f3a"
             ],
             [
              0.8888888888888888,
              "#fdca26"
             ],
             [
              1,
              "#f0f921"
             ]
            ],
            "type": "histogram2dcontour"
           }
          ],
          "mesh3d": [
           {
            "colorbar": {
             "outlinewidth": 0,
             "ticks": ""
            },
            "type": "mesh3d"
           }
          ],
          "parcoords": [
           {
            "line": {
             "colorbar": {
              "outlinewidth": 0,
              "ticks": ""
             }
            },
            "type": "parcoords"
           }
          ],
          "pie": [
           {
            "automargin": true,
            "type": "pie"
           }
          ],
          "scatter": [
           {
            "fillpattern": {
             "fillmode": "overlay",
             "size": 10,
             "solidity": 0.2
            },
            "type": "scatter"
           }
          ],
          "scatter3d": [
           {
            "line": {
             "colorbar": {
              "outlinewidth": 0,
              "ticks": ""
             }
            },
            "marker": {
             "colorbar": {
              "outlinewidth": 0,
              "ticks": ""
             }
            },
            "type": "scatter3d"
           }
          ],
          "scattercarpet": [
           {
            "marker": {
             "colorbar": {
              "outlinewidth": 0,
              "ticks": ""
             }
            },
            "type": "scattercarpet"
           }
          ],
          "scattergeo": [
           {
            "marker": {
             "colorbar": {
              "outlinewidth": 0,
              "ticks": ""
             }
            },
            "type": "scattergeo"
           }
          ],
          "scattergl": [
           {
            "marker": {
             "colorbar": {
              "outlinewidth": 0,
              "ticks": ""
             }
            },
            "type": "scattergl"
           }
          ],
          "scattermapbox": [
           {
            "marker": {
             "colorbar": {
              "outlinewidth": 0,
              "ticks": ""
             }
            },
            "type": "scattermapbox"
           }
          ],
          "scatterpolar": [
           {
            "marker": {
             "colorbar": {
              "outlinewidth": 0,
              "ticks": ""
             }
            },
            "type": "scatterpolar"
           }
          ],
          "scatterpolargl": [
           {
            "marker": {
             "colorbar": {
              "outlinewidth": 0,
              "ticks": ""
             }
            },
            "type": "scatterpolargl"
           }
          ],
          "scatterternary": [
           {
            "marker": {
             "colorbar": {
              "outlinewidth": 0,
              "ticks": ""
             }
            },
            "type": "scatterternary"
           }
          ],
          "surface": [
           {
            "colorbar": {
             "outlinewidth": 0,
             "ticks": ""
            },
            "colorscale": [
             [
              0,
              "#0d0887"
             ],
             [
              0.1111111111111111,
              "#46039f"
             ],
             [
              0.2222222222222222,
              "#7201a8"
             ],
             [
              0.3333333333333333,
              "#9c179e"
             ],
             [
              0.4444444444444444,
              "#bd3786"
             ],
             [
              0.5555555555555556,
              "#d8576b"
             ],
             [
              0.6666666666666666,
              "#ed7953"
             ],
             [
              0.7777777777777778,
              "#fb9f3a"
             ],
             [
              0.8888888888888888,
              "#fdca26"
             ],
             [
              1,
              "#f0f921"
             ]
            ],
            "type": "surface"
           }
          ],
          "table": [
           {
            "cells": {
             "fill": {
              "color": "#EBF0F8"
             },
             "line": {
              "color": "white"
             }
            },
            "header": {
             "fill": {
              "color": "#C8D4E3"
             },
             "line": {
              "color": "white"
             }
            },
            "type": "table"
           }
          ]
         },
         "layout": {
          "annotationdefaults": {
           "arrowcolor": "#2a3f5f",
           "arrowhead": 0,
           "arrowwidth": 1
          },
          "autotypenumbers": "strict",
          "coloraxis": {
           "colorbar": {
            "outlinewidth": 0,
            "ticks": ""
           }
          },
          "colorscale": {
           "diverging": [
            [
             0,
             "#8e0152"
            ],
            [
             0.1,
             "#c51b7d"
            ],
            [
             0.2,
             "#de77ae"
            ],
            [
             0.3,
             "#f1b6da"
            ],
            [
             0.4,
             "#fde0ef"
            ],
            [
             0.5,
             "#f7f7f7"
            ],
            [
             0.6,
             "#e6f5d0"
            ],
            [
             0.7,
             "#b8e186"
            ],
            [
             0.8,
             "#7fbc41"
            ],
            [
             0.9,
             "#4d9221"
            ],
            [
             1,
             "#276419"
            ]
           ],
           "sequential": [
            [
             0,
             "#0d0887"
            ],
            [
             0.1111111111111111,
             "#46039f"
            ],
            [
             0.2222222222222222,
             "#7201a8"
            ],
            [
             0.3333333333333333,
             "#9c179e"
            ],
            [
             0.4444444444444444,
             "#bd3786"
            ],
            [
             0.5555555555555556,
             "#d8576b"
            ],
            [
             0.6666666666666666,
             "#ed7953"
            ],
            [
             0.7777777777777778,
             "#fb9f3a"
            ],
            [
             0.8888888888888888,
             "#fdca26"
            ],
            [
             1,
             "#f0f921"
            ]
           ],
           "sequentialminus": [
            [
             0,
             "#0d0887"
            ],
            [
             0.1111111111111111,
             "#46039f"
            ],
            [
             0.2222222222222222,
             "#7201a8"
            ],
            [
             0.3333333333333333,
             "#9c179e"
            ],
            [
             0.4444444444444444,
             "#bd3786"
            ],
            [
             0.5555555555555556,
             "#d8576b"
            ],
            [
             0.6666666666666666,
             "#ed7953"
            ],
            [
             0.7777777777777778,
             "#fb9f3a"
            ],
            [
             0.8888888888888888,
             "#fdca26"
            ],
            [
             1,
             "#f0f921"
            ]
           ]
          },
          "colorway": [
           "#636efa",
           "#EF553B",
           "#00cc96",
           "#ab63fa",
           "#FFA15A",
           "#19d3f3",
           "#FF6692",
           "#B6E880",
           "#FF97FF",
           "#FECB52"
          ],
          "font": {
           "color": "#2a3f5f"
          },
          "geo": {
           "bgcolor": "white",
           "lakecolor": "white",
           "landcolor": "#E5ECF6",
           "showlakes": true,
           "showland": true,
           "subunitcolor": "white"
          },
          "hoverlabel": {
           "align": "left"
          },
          "hovermode": "closest",
          "mapbox": {
           "style": "light"
          },
          "paper_bgcolor": "white",
          "plot_bgcolor": "#E5ECF6",
          "polar": {
           "angularaxis": {
            "gridcolor": "white",
            "linecolor": "white",
            "ticks": ""
           },
           "bgcolor": "#E5ECF6",
           "radialaxis": {
            "gridcolor": "white",
            "linecolor": "white",
            "ticks": ""
           }
          },
          "scene": {
           "xaxis": {
            "backgroundcolor": "#E5ECF6",
            "gridcolor": "white",
            "gridwidth": 2,
            "linecolor": "white",
            "showbackground": true,
            "ticks": "",
            "zerolinecolor": "white"
           },
           "yaxis": {
            "backgroundcolor": "#E5ECF6",
            "gridcolor": "white",
            "gridwidth": 2,
            "linecolor": "white",
            "showbackground": true,
            "ticks": "",
            "zerolinecolor": "white"
           },
           "zaxis": {
            "backgroundcolor": "#E5ECF6",
            "gridcolor": "white",
            "gridwidth": 2,
            "linecolor": "white",
            "showbackground": true,
            "ticks": "",
            "zerolinecolor": "white"
           }
          },
          "shapedefaults": {
           "line": {
            "color": "#2a3f5f"
           }
          },
          "ternary": {
           "aaxis": {
            "gridcolor": "white",
            "linecolor": "white",
            "ticks": ""
           },
           "baxis": {
            "gridcolor": "white",
            "linecolor": "white",
            "ticks": ""
           },
           "bgcolor": "#E5ECF6",
           "caxis": {
            "gridcolor": "white",
            "linecolor": "white",
            "ticks": ""
           }
          },
          "title": {
           "x": 0.05
          },
          "xaxis": {
           "automargin": true,
           "gridcolor": "white",
           "linecolor": "white",
           "ticks": "",
           "title": {
            "standoff": 15
           },
           "zerolinecolor": "white",
           "zerolinewidth": 2
          },
          "yaxis": {
           "automargin": true,
           "gridcolor": "white",
           "linecolor": "white",
           "ticks": "",
           "title": {
            "standoff": 15
           },
           "zerolinecolor": "white",
           "zerolinewidth": 2
          }
         }
        },
        "title": {
         "font": {
          "size": 16
         },
         "text": "Graph Visualisation of Patients Pathway and Connections Associated to Hip Replacement - Stream 1."
        },
        "xaxis": {
         "showgrid": false,
         "showticklabels": false,
         "zeroline": false
        },
        "yaxis": {
         "showgrid": false,
         "showticklabels": false,
         "zeroline": false
        }
       }
      }
     },
     "metadata": {},
     "output_type": "display_data"
    }
   ],
   "source": [
    "# Generate edge_x and edge_y\n",
    "edge_x = []\n",
    "edge_y = []\n",
    "\n",
    "for _, row in edge_pos_df.iterrows():\n",
    "    edge_x.extend([row['x0'], row['x1'], None])\n",
    "    edge_y.extend([row['y0'], row['y1'], None])\n",
    "\n",
    "# Create edge_trace\n",
    "edge_trace = go.Scatter(\n",
    "    x=edge_x,\n",
    "    y=edge_y,\n",
    "    line=dict(width=0.5, color='#888'),\n",
    "    hoverinfo='none',  # Disable hover info for lines\n",
    "    mode='lines'\n",
    ")\n",
    "\n",
    "# Generate node_x and node_y lists\n",
    "node_x = pos_df['x'].tolist()\n",
    "node_y = pos_df['y'].tolist()\n",
    "node_labels = merged_pos_df['ReadCode'].tolist()\n",
    "node_hover_text = merged_pos_df['ReadCode_descript'].tolist()\n",
    "\n",
    "\n",
    "# Map the text colour based on the colour of the node so that it can be read\n",
    "def text_color_mapping(numbers):\n",
    "    return ['black' if num < 0.5 else 'white' for num in numbers]\n",
    "\n",
    "text_colors = text_color_mapping(merged_pos_df['norm_timestep_ave_grad'].to_list())\n",
    "\n",
    "# Create node_trace with static labels and hover text\n",
    "node_trace = go.Scatter(\n",
    "    x=node_x,\n",
    "    y=node_y,\n",
    "    mode='markers+text',\n",
    "    text=node_labels,  # Static labels for nodes\n",
    "    textposition='middle center', \n",
    "    textfont=dict(\n",
    "        size=10,\n",
    "        color=text_colors  # Set color for edge text\n",
    "    ),\n",
    "    hoverinfo='text',  # Configure hover info\n",
    "    marker=dict(\n",
    "        showscale=True,\n",
    "        colorscale='Viridis',\n",
    "        reversescale=True,\n",
    "        color='black',\n",
    "        size=45,\n",
    "        colorbar=dict(\n",
    "            thickness=15,\n",
    "            title='Influence Visit Had on Prediction (Gradient)',\n",
    "            xanchor='left',\n",
    "            titleside='right'\n",
    "        ),\n",
    "        line_width=2\n",
    "    ),\n",
    "    # Add hover text as a separate trace if needed\n",
    "    hovertext=node_hover_text\n",
    ")\n",
    "\n",
    "node_trace.marker.color = merged_pos_df['norm_timestep_ave_grad'].to_list() # colour the markers based on the number of node connections\n",
    "\n",
    "\n",
    "# Calculate midpoints for annotations (optional)\n",
    "annotations = []\n",
    "for _, row in edge_pos_df.iterrows():\n",
    "    mid_x = (row['x0'] + row['x1']) / 2\n",
    "    mid_y = (row['y0'] + row['y1']) / 2\n",
    "    annotations.append(\n",
    "        dict(\n",
    "            x=mid_x,\n",
    "            y=mid_y,\n",
    "            text=f\"{int(round(row['time_between']*30.4167,0))} days\",\n",
    "            showarrow=False,\n",
    "            font=dict(size=10),\n",
    "            align=\"center\"\n",
    "        )\n",
    "    )\n",
    "\n",
    "if outcome == 'hip':\n",
    "    out_print = f'Patient will likely need a hip replacement in {years_in_advance} years time.'\n",
    "else:\n",
    "    out_print = f'It is unlikely this patient will need a hip replacement in {years_in_advance} years time.'\n",
    "stream_num = '1'\n",
    "\n",
    "proba_of_replace = 1/ (1+np.exp(logits)) # use sigmoid to convert logits to probs\n",
    "annotations.append(dict(\n",
    "                    text=f\"The probability of this patient needing a replacement is {round(proba_of_replace.item()*100,2)}%. {out_print}\",\n",
    "                    showarrow=False,\n",
    "                    xref=\"paper\", yref=\"paper\",\n",
    "                    x=0.005, y=-0.002 ))\n",
    "\n",
    "# Create the figure\n",
    "fig = go.Figure(data=[edge_trace, node_trace],\n",
    "                layout=go.Layout(\n",
    "                    title=f'Graph Visualisation of Patients Pathway and Connections Associated to Hip Replacement - Stream {stream_num}.',\n",
    "                    titlefont_size=16,\n",
    "                    showlegend=False,\n",
    "                    hovermode='closest',\n",
    "                    margin=dict(b=20, l=10, r=5, t=50),\n",
    "                    annotations=annotations,\n",
    "                    xaxis=dict(showgrid=False, zeroline=False, showticklabels=False),\n",
    "                    yaxis=dict(showgrid=False, zeroline=False, showticklabels=False))\n",
    "                )\n",
    "\n",
    "if ((proba_of_replace.item() > 0.5) and (outcome != 'hip')) or ((proba_of_replace.item()) < 0.5) and (outcome == 'hip'):\n",
    "    print(\"Model predicted incorrectly\")\n",
    "\n",
    "fig.show()"
   ]
  },
  {
   "cell_type": "code",
   "execution_count": null,
   "metadata": {},
   "outputs": [],
   "source": []
  }
 ],
 "metadata": {
  "kernelspec": {
   "display_name": "tf_msk_env",
   "language": "python",
   "name": "python3"
  },
  "language_info": {
   "codemirror_mode": {
    "name": "ipython",
    "version": 3
   },
   "file_extension": ".py",
   "mimetype": "text/x-python",
   "name": "python",
   "nbconvert_exporter": "python",
   "pygments_lexer": "ipython3",
   "version": "3.9.19"
  }
 },
 "nbformat": 4,
 "nbformat_minor": 2
}
