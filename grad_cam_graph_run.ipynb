{
 "cells": [
  {
   "cell_type": "markdown",
   "metadata": {},
   "source": [
    "### Imports"
   ]
  },
  {
   "cell_type": "code",
   "execution_count": null,
   "metadata": {},
   "outputs": [],
   "source": [
    "from importlib import reload\n",
    "import numpy as np\n",
    "import networkx as nx\n",
    "import pandas as pd\n",
    "from src import create_fake_patients, whole_model_demographics_gradcam, graph_plot, plot_feature_value, gc, utils\n",
    "import tensorflow as tf\n",
    "import matplotlib.pyplot as plt\n",
    "import seaborn as sns\n",
    "# print(\"tensorflow version:\", tf. __version__)\n",
    "# print(\"plotly version:\", plotly.__version__)\n",
    "# print(\"Networkx version:\", nx.__version__)\n",
    "# tf.config.list_physical_devices()"
   ]
  },
  {
   "cell_type": "markdown",
   "metadata": {},
   "source": [
    "### Model selection"
   ]
  },
  {
   "cell_type": "code",
   "execution_count": null,
   "metadata": {},
   "outputs": [],
   "source": [
    "second_TGCNN_layer = True\n",
    "demo = True\n",
    "\n",
    "include_drugs = True\n",
    "max_timesteps=100\n",
    "\n",
    "stride = 1\n",
    "filter_size = 4\n",
    "\n",
    "run_name='hip_1999_to_one_year_advance_model'\n",
    "years_in_advance = \"5\"\n",
    "\n",
    "if include_drugs:\n",
    "    max_event_codes = 518\n",
    "else:\n",
    "    max_event_codes = 512\n",
    "hip_or_knee = 'hip'\n",
    "\n",
    "# fake mapping dataframe for the ReadCodes and the corresponding descriptions\n",
    "read_code_map_df = pd.read_csv('fake_read_code_descriptions.csv')\n",
    "\n",
    "model = whole_model_demographics_gradcam.TGCNN_Model(num_filters=16, num_nodes=max_event_codes, num_time_steps=max_timesteps, \n",
    "                            filter_size=filter_size, variable_gamma=True, \n",
    "                            exponential_scaling=True, dropout_rate=0.7, lstm_units=64,\n",
    "                            fcl1_units=128, LSTM_ablation=False, stride=stride, activation_type='LeakyReLU', \n",
    "                            no_timestamp=False, second_TGCNN_layer=second_TGCNN_layer, num_labels=1)\n",
    "model.load_weights('hip_1999_to_one_year_advance_model1_CNN_layer')"
   ]
  },
  {
   "cell_type": "code",
   "execution_count": null,
   "metadata": {},
   "outputs": [],
   "source": [
    "# Generate individual data for the model\n",
    "input_3d, input_4d, demo_tensor, outcome, outcome_bin = create_fake_patients.return_fake_pat(2, 99, 518, 'hip', 0)\n",
    "\n",
    "dense_tensor = tf.sparse.to_dense(input_3d)\n",
    "dense_tensor= tf.transpose(dense_tensor, perm=[2, 1, 0])\n",
    "dense_tensor = np.flip(dense_tensor, axis=0)\n",
    "logits = model(input_4d, demo_tensor, training=False)\n",
    "\n",
    "grads = model.dy_du_branch1\n",
    "print(grads.shape)"
   ]
  },
  {
   "cell_type": "markdown",
   "metadata": {},
   "source": [
    "### Plot the gradient values"
   ]
  },
  {
   "cell_type": "code",
   "execution_count": null,
   "metadata": {},
   "outputs": [],
   "source": [
    "# Branch 1\n",
    "\n",
    "norm_features = plot_feature_value.plot_ave_grad_all_f_maps(grads)\n",
    "\n",
    "plot_feature_value.plot_indv_grad_f_maps(grads)"
   ]
  },
  {
   "cell_type": "markdown",
   "metadata": {},
   "source": [
    "### Plotly/NetworkX Grad-CAM graph"
   ]
  },
  {
   "cell_type": "code",
   "execution_count": null,
   "metadata": {},
   "outputs": [],
   "source": [
    "relu = True\n",
    "\n",
    "# Get the entire patient's history in a DataFrame\n",
    "edges_df = graph_plot.create_edges_df_gc(dense_tensor)\n",
    "\n",
    "# Get the node positions for the graph\n",
    "pos_df = graph_plot.create_position_df_gc(edges_df)\n",
    "pos_list = graph_plot.generate_pos_sequence(pos_df['max_codes_per_visit'].max())\n",
    "\n",
    "pos_df = graph_plot.map_y_coord_to_node(pos_df, pos_list)\n",
    "\n",
    "l_map = gc.calc_local_map(model, grads, only_pos=relu, filt_num=None)\n",
    "\n",
    "timestep_ave_grad_df = gc.calc_timestep_weights(stride, filter_size, l_map, max_timesteps)\n",
    "\n",
    "read_code_pos_df = gc.map_read_code_labels(pos_df, read_code_map_df, timestep_ave_grad_df)\n",
    "\n",
    "edge_pos_df = gc.create_edge_pos_df(edges_df, pos_df)\n",
    "\n",
    "if relu == True:\n",
    "    plot_name = 'all_filters_grad_cam_relu'\n",
    "else:\n",
    "    plot_name = 'all_filters_grad_cam_abs'\n",
    "\n",
    "gc.plot_gradcam_plotly(edge_pos_df, pos_df, read_code_pos_df, years_in_advance, logits, outcome, plot_name, html_open=False)"
   ]
  },
  {
   "cell_type": "markdown",
   "metadata": {},
   "source": [
    "#### Heatmap"
   ]
  },
  {
   "cell_type": "code",
   "execution_count": null,
   "metadata": {},
   "outputs": [],
   "source": [
    "# Loop through all filters and build a heatmap\n",
    "heatmap_df = pd.DataFrame()\n",
    "for i in range(1, 16):\n",
    "    relu = True\n",
    "\n",
    "    # Get the entire patient's history in a DataFrame\n",
    "    edges_df = graph_plot.create_edges_df_gc(dense_tensor)\n",
    "\n",
    "    # Get the node positions for the graph\n",
    "    pos_df = graph_plot.create_position_df_gc(edges_df)\n",
    "    pos_list = graph_plot.generate_pos_sequence(pos_df['max_codes_per_visit'].max())\n",
    "    pos_df = graph_plot.map_y_coord_to_node(pos_df, pos_list)\n",
    "\n",
    "    l_map = gc.calc_local_map(model, grads, only_pos=relu, filt_num=i)\n",
    "\n",
    "    timestep_ave_grad_df = gc.calc_timestep_weights(stride, filter_size, l_map, max_timesteps)\n",
    "\n",
    "    read_code_pos_df = gc.map_read_code_labels(pos_df, read_code_map_df, timestep_ave_grad_df)\n",
    "    #print(read_code_pos_df)\n",
    "    # remove any rows with duplicate v number in node column\n",
    "    df_unique = read_code_pos_df.drop_duplicates(subset='x', keep=False)\n",
    "\n",
    "    heatmap_df[f'col_{i}'] = df_unique['perc_timestep_infl']\n",
    "    \n",
    "    #break\n",
    "heatmap_array = heatmap_df.to_numpy()\n",
    "sns.heatmap(heatmap_array, annot=False, cmap='viridis_r')\n",
    "plt.ylabel('Visit Number')\n",
    "plt.xlabel('Filter Number')\n",
    "\n",
    "# Show the heatmap\n",
    "plt.show()\n"
   ]
  }
 ],
 "metadata": {
  "kernelspec": {
   "display_name": "tf_msk_env",
   "language": "python",
   "name": "python3"
  },
  "language_info": {
   "codemirror_mode": {
    "name": "ipython",
    "version": 3
   },
   "file_extension": ".py",
   "mimetype": "text/x-python",
   "name": "python",
   "nbconvert_exporter": "python",
   "pygments_lexer": "ipython3",
   "version": "3.9.19"
  }
 },
 "nbformat": 4,
 "nbformat_minor": 2
}
