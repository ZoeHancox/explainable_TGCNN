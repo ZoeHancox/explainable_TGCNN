{
 "cells": [
  {
   "cell_type": "code",
   "execution_count": 1,
   "metadata": {},
   "outputs": [
    {
     "name": "stdout",
     "output_type": "stream",
     "text": [
      "tensorflow version: 2.10.1\n",
      "normalised gamma [[0.04455145]]\n",
      "normalised gamma [[-0.02083856]]\n"
     ]
    },
    {
     "data": {
      "text/plain": [
       "<tensorflow.python.checkpoint.checkpoint.CheckpointLoadStatus at 0x2a58bab0a90>"
      ]
     },
     "execution_count": 1,
     "metadata": {},
     "output_type": "execute_result"
    }
   ],
   "source": [
    "import numpy as np\n",
    "import networkx as nx\n",
    "import plotly.graph_objects as go\n",
    "import webbrowser\n",
    "import os\n",
    "import pandas as pd\n",
    "import random\n",
    "import string\n",
    "import statistics\n",
    "from src import create_fake_patients, whole_model_demographics_gradcam\n",
    "from tensorflow import keras\n",
    "import tensorflow as tf\n",
    "from csv import writer\n",
    "import seaborn as sns\n",
    "import matplotlib.pyplot as plt\n",
    "print(\"tensorflow version:\", tf. __version__)\n",
    "tf.config.list_physical_devices()\n",
    "\n",
    "\n",
    "no_LSTM = False # True = without LSTM\n",
    "exponential_scaling = True # True = with exponential\n",
    "L1_ablation = True # True = with L1 reg\n",
    "L2_ablation = True # True = with L2 reg\n",
    "variable_gamma = True\n",
    "graph_reg_incl = True\n",
    "\n",
    "num_of_runs = 1\n",
    "start_num = 1\n",
    "    \n",
    "weighted_loss = False # class weighted to deal with imbalance if True\n",
    "no_timestamp = False # if no_timestamp = True then all values in 3-tensor = 1\n",
    "activation_type = 'LeakyReLU' #'relu','gelu', 'LeakyReLU'\n",
    "second_TGCNN_layer = True\n",
    "demo = True\n",
    "include_drugs = False\n",
    "max_timesteps=100\n",
    "\n",
    "run_name='hip_1999_to_one_year_advance_model'\n",
    "years_in_advance = \"5\"\n",
    "\n",
    "# strings for hyperparameter searching file\n",
    "LSTM_str=\"LSTM excluded\" if no_LSTM == True else \"LSTM included\"\n",
    "exp_str = \"exp excluded\" if exponential_scaling == False else \"exp included\"\n",
    "timestamp_str = \"time elapsed = 1\" if no_timestamp == True else \"time elapsed\"\n",
    "weighted_loss_str = \"weighted_loss\" if weighted_loss ==True else \"unweighted_loss\"\n",
    "L1_str = \"L1 included\" if L1_ablation == True else \"L1 excluded\"\n",
    "L2_str = \"L2 included\" if L2_ablation == True else \"L2 excluded\"\n",
    "second_layer_str = \"Branched model\" if second_TGCNN_layer == True else \"Unbranched model\"\n",
    "\n",
    "if include_drugs:\n",
    "    max_event_codes = 518\n",
    "else:\n",
    "    max_event_codes = 512\n",
    "num_labels = 1 # number of outcomes -1 \n",
    "hip_or_knee = 'hip'\n",
    "\n",
    "\n",
    "\n",
    "\n",
    "model = whole_model_demographics_gradcam.TGCNN_Model(num_filters=16, num_nodes=max_event_codes, num_time_steps=max_timesteps, \n",
    "                            filter_size=4, variable_gamma=variable_gamma, \n",
    "                            exponential_scaling=exponential_scaling, dropout_rate=0.7, lstm_units=64,\n",
    "                            fcl1_units=128, LSTM_ablation=no_LSTM, stride=1, activation_type=activation_type, \n",
    "                            no_timestamp=no_timestamp, second_TGCNN_layer=second_TGCNN_layer, num_labels=num_labels)\n",
    "model.load_weights('hip_1999_to_one_year_advance_model1_CNN_layer')\n",
    "\n",
    "\n"
   ]
  },
  {
   "cell_type": "code",
   "execution_count": 2,
   "metadata": {},
   "outputs": [
    {
     "name": "stdout",
     "output_type": "stream",
     "text": [
      "SparseTensor(indices=tf.Tensor(\n",
      "[[  0   5 402  72]\n",
      " [  0  17 379  42]\n",
      " [  0  24 215  44]\n",
      " [  0  28 368  28]\n",
      " [  0  29 392  46]\n",
      " [  0  30 389  49]\n",
      " [  0  42 131  15]\n",
      " [  0  42 417  66]\n",
      " [  0  45  17  41]\n",
      " [  0  48 289  20]\n",
      " [  0  53 113  64]\n",
      " [  0  57 490   8]\n",
      " [  0  60 141  36]\n",
      " [  0  72 316  84]\n",
      " [  0  73 271  30]\n",
      " [  0  81  72  83]\n",
      " [  0  83 205  55]\n",
      " [  0  95 251  34]\n",
      " [  0 100 140  96]\n",
      " [  0 113  42  65]\n",
      " [  0 121 124  61]\n",
      " [  0 124 171  62]\n",
      " [  0 127 398  70]\n",
      " [  0 128  57   7]\n",
      " [  0 131 194  16]\n",
      " [  0 140 479  97]\n",
      " [  0 141 205  51]\n",
      " [  0 141 435  37]\n",
      " [  0 146 320  10]\n",
      " [  0 153  95  33]\n",
      " [  0 166 196  22]\n",
      " [  0 170  30  48]\n",
      " [  0 171  53  63]\n",
      " [  0 173 240  89]\n",
      " [  0 194 473  17]\n",
      " [  0 196 387  23]\n",
      " [  0 197 407  53]\n",
      " [  0 204 403  80]\n",
      " [  0 205 197  52]\n",
      " [  0 205 304  56]\n",
      " [  0 206 273  78]\n",
      " [  0 211  45  40]\n",
      " [  0 215  29  45]\n",
      " [  0 218 226  92]\n",
      " [  0 226 481  93]\n",
      " [  0 240 242  90]\n",
      " [  0 242 218  91]\n",
      " [  0 250 254  58]\n",
      " [  0 251  60  35]\n",
      " [  0 254 325  59]\n",
      " [  0 271 308  31]\n",
      " [  0 273 204  79]\n",
      " [  0 280 281  12]\n",
      " [  0 281 423  13]\n",
      " [  0 289 166  21]\n",
      " [  0 293  81  82]\n",
      " [  0 293 173  88]\n",
      " [  0 297 475  25]\n",
      " [  0 304 100  95]\n",
      " [  0 304 250  57]\n",
      " [  0 306 322   5]\n",
      " [  0 308 153  32]\n",
      " [  0 316 495  85]\n",
      " [  0 319  28  99]\n",
      " [  0 320 280  11]\n",
      " [  0 322 128   6]\n",
      " [  0 325 121  60]\n",
      " [  0 336  28  27]\n",
      " [  0 339 471  76]\n",
      " [  0 349 211  39]\n",
      " [  0 356 293  87]\n",
      " [  0 368  73  29]\n",
      " [  0 379  24  43]\n",
      " [  0 386 476  74]\n",
      " [  0 387 297  24]\n",
      " [  0 389 141  50]\n",
      " [  0 392 170  47]\n",
      " [  0 393 455   2]\n",
      " [  0 398   5  71]\n",
      " [  0 402 386  73]\n",
      " [  0 403 293  81]\n",
      " [  0 407  83  54]\n",
      " [  0 413 306   4]\n",
      " [  0 417 421  67]\n",
      " [  0 421 441  68]\n",
      " [  0 423  42  14]\n",
      " [  0 435 349  38]\n",
      " [  0 441 127  69]\n",
      " [  0 455 413   3]\n",
      " [  0 471 206  77]\n",
      " [  0 473 502  18]\n",
      " [  0 475 336  26]\n",
      " [  0 476 339  75]\n",
      " [  0 479 319  98]\n",
      " [  0 481 304  94]\n",
      " [  0 490 146   9]\n",
      " [  0 495 356  86]\n",
      " [  0 502  48  19]], shape=(98, 4), dtype=int64), values=tf.Tensor(\n",
      "[0.8309159  0.10740075 0.0372453  0.20684293 0.41946644 0.7623111\n",
      " 0.3251426  0.88285375 0.04491606 0.22727321 0.69503367 0.7988271\n",
      " 0.19481555 0.54587215 0.22011001 0.20247392 0.79750377 0.16530865\n",
      " 0.19944151 0.72840434 0.31348282 0.9239372  0.21244211 0.78811616\n",
      " 0.22888476 0.7038861  0.38630968 0.7585171  0.44637096 0.49961752\n",
      " 0.4562366  0.81235284 0.7943466  0.63220286 0.9877753  0.9010294\n",
      " 0.20896846 0.51483774 0.6413178  0.9752685  0.71155196 0.29939917\n",
      " 0.39316496 0.3377738  0.03173028 0.28150523 0.38292003 0.42773387\n",
      " 0.64741427 0.17641342 0.09861938 0.8884779  0.13106975 0.59357154\n",
      " 0.53560936 0.7652895  0.80009496 0.27575424 0.89701986 0.5615923\n",
      " 0.40224457 0.29490376 0.6741984  0.9972911  0.13073754 0.28583962\n",
      " 0.2390941  0.5267799  0.7066353  0.6668406  0.53519726 0.6031914\n",
      " 0.8772318  0.84873706 0.3026461  0.81487316 0.9266366  0.15868467\n",
      " 0.7709532  0.21600722 0.01926503 0.2898397  0.27777362 0.71921486\n",
      " 0.55994636 0.80089384 0.6309816  0.31769538 0.61950654 0.9871621\n",
      " 0.35500795 0.3411431  0.2439276  0.8663382  0.7773184  0.5598815\n",
      " 0.7585239  0.30339807], shape=(98,), dtype=float32), dense_shape=tf.Tensor([  1 512 512 100], shape=(4,), dtype=int64))\n"
     ]
    }
   ],
   "source": [
    "cv_patients = create_fake_patients.create_fake_patient_df(num_patients=500, max_events=99, max_nodes=512)\n",
    "\n",
    "# Generate an example patient of number n\n",
    "n= 0\n",
    "\n",
    "i_list = cv_patients.iloc[n]['indices'] # indices from patient cell\n",
    "v_list = cv_patients.iloc[n]['values'] # values from patient cell\n",
    "\n",
    "individual_sparse = tf.sparse.SparseTensor(i_list, v_list, (max_event_codes, max_event_codes, 100))\n",
    "\n",
    "# Adding the sparse tensor to a list of all the tensors\n",
    "ordered_indiv = tf.sparse.reorder(individual_sparse) # reorder required for tensor to work (no effect to outcome)\n",
    "print(tf.sparse.expand_dims(ordered_indiv,axis=0))\n",
    "input_4d = tf.sparse.expand_dims(ordered_indiv,axis=0)\n",
    "\n",
    "outcome = cv_patients.iloc[n]['replace_type']\n",
    "\n",
    "def classify_outcome(outcome):\n",
    "    return 1 if outcome == 'hip' else 0\n",
    "\n",
    "outcome_bin = classify_outcome(outcome)\n",
    "\n",
    "\n",
    "\n",
    "\n",
    "# patient_dense_tensor = tf.sparse.to_dense(ordered_indiv)\n",
    "#patient_dense_tensor\n",
    "\n",
    "#demo_vals, demo_list, pat_num = utils.convert_demos_to_tensor(cv_patients, train_indices_list, demo)\n",
    "\n",
    "demos = cv_patients[['gender', 'imd_quin', 'age_at_label_event']].iloc[n]\n",
    "demos_z = demos.copy()\n",
    "demos_z['age_zscore'] = 2\n",
    "demos_z = demos_z.apply(pd.to_numeric)  \n",
    "demo_vals = demos_z[['gender', 'imd_quin', 'age_zscore']].values \n",
    "\n",
    "demo = demos.apply(pd.to_numeric)\n",
    "demo_list = demo[['gender', 'imd_quin', 'age_at_label_event']].values.tolist()\n",
    "demo_tensor = tf.convert_to_tensor([demo_vals])\n",
    "\n",
    "# print(demo_tensor)\n",
    "# print(demo_list)"
   ]
  },
  {
   "cell_type": "code",
   "execution_count": 3,
   "metadata": {},
   "outputs": [
    {
     "name": "stdout",
     "output_type": "stream",
     "text": [
      "tf.Tensor([[0.15579584]], shape=(1, 1), dtype=float32)\n",
      "(1, 16, 97)\n"
     ]
    }
   ],
   "source": [
    "logits = model(input_4d, demo_tensor, training=False)\n",
    "print(logits)\n",
    "\n",
    "grads = model.dy_du_branch1\n",
    "print(grads.shape)"
   ]
  },
  {
   "cell_type": "code",
   "execution_count": 4,
   "metadata": {},
   "outputs": [
    {
     "data": {
      "text/plain": [
       "<tf.Tensor: shape=(1, 16, 97), dtype=float32, numpy=\n",
       "array([[[-8.29885188e-11, -1.09678017e-10, -1.41767834e-10, ...,\n",
       "          9.30425990e-03,  1.27896070e-02,  1.75529290e-02],\n",
       "        [ 8.47450027e-11,  9.01479308e-11,  8.92054763e-11, ...,\n",
       "         -7.03331362e-03, -9.02957655e-03, -1.16253654e-02],\n",
       "        [ 1.13660900e-10,  1.40680065e-10,  1.70802594e-10, ...,\n",
       "         -1.67331919e-02, -2.15930790e-02, -2.71919295e-02],\n",
       "        ...,\n",
       "        [ 9.87018176e-11,  1.33686687e-10,  1.75434847e-10, ...,\n",
       "          2.66767037e-03,  1.31071650e-03, -8.21527443e-04],\n",
       "        [ 1.88294505e-10,  2.36803521e-10,  2.91389579e-10, ...,\n",
       "         -1.16089722e-02, -1.39900697e-02, -1.61092840e-02],\n",
       "        [-8.19683557e-11, -1.15026336e-10, -1.55165505e-10, ...,\n",
       "          2.56379740e-03,  6.29910128e-03,  1.26412418e-02]]],\n",
       "      dtype=float32)>"
      ]
     },
     "execution_count": 4,
     "metadata": {},
     "output_type": "execute_result"
    }
   ],
   "source": [
    "grads"
   ]
  },
  {
   "cell_type": "code",
   "execution_count": 5,
   "metadata": {},
   "outputs": [],
   "source": [
    "# for var in model.variables:\n",
    "#     print(var.name)\n",
    "#     print(var.numpy())"
   ]
  },
  {
   "cell_type": "markdown",
   "metadata": {},
   "source": [
    "### Sub-graph drawing"
   ]
  },
  {
   "cell_type": "markdown",
   "metadata": {},
   "source": [
    "#### Functions"
   ]
  },
  {
   "cell_type": "code",
   "execution_count": 6,
   "metadata": {},
   "outputs": [],
   "source": [
    "def create_edges_df_gc(patient_graph:np.array):\n",
    "    \"\"\"Create a DataFrame of the edges of the patient graph, including the start and end nodes and the time \n",
    "    between visits. For Grad-CAM model.\n",
    "\n",
    "    Args:\n",
    "        patient_graph (np.array): 3D numpy array showing the patients health codes over time.\n",
    "\n",
    "    Returns:\n",
    "        DataFrame: with columns start_node, end_node, time_between.\n",
    "    \"\"\"\n",
    "\n",
    "    # Get the indices of non-zero elements\n",
    "    patient_graph = np.round(patient_graph.numpy(), 4)\n",
    "    t_indices, i_indices, j_indices = np.nonzero(patient_graph)\n",
    "    non_zero_values = []\n",
    "    for t, i, j in zip(t_indices, i_indices, j_indices):\n",
    "        non_zero_values.append(patient_graph[t, i, j])\n",
    "    #print(\"Non-zero values\", non_zero_values)\n",
    "    if not non_zero_values:\n",
    "        print(\"Error: Subgraph does not contain any values.\")\n",
    "\n",
    "    # Calculate start_node_v and end_node_v\n",
    "    start_node_v = np.where(t_indices == 0, 0, t_indices)\n",
    "    end_node_v = start_node_v + 1\n",
    "\n",
    "    edges_df = pd.DataFrame({\n",
    "        'start_node': [f'{i}_v{start_v}' for i, start_v in zip(i_indices, start_node_v)],\n",
    "        'end_node': [f'{j}_v{end_v}' for j, end_v in zip(j_indices, end_node_v)],\n",
    "        'time_between': non_zero_values\n",
    "    })\n",
    "    \n",
    "    return edges_df\n",
    "\n",
    "def extract_visit_number(s:str):\n",
    "    \"\"\"Extract the visit number from a string\n",
    "\n",
    "    Args:\n",
    "        s (str): string to split\n",
    "\n",
    "    Returns:\n",
    "        int: visit number\n",
    "    \"\"\"\n",
    "    return int(s.split('_')[1][1:])\n",
    "\n",
    "def create_position_df_gc(edges_df:np.array):\n",
    "    \"\"\"Create a DataFrame to find the number of nodes per visit. For Grad-CAM model.\n",
    "\n",
    "    Args:\n",
    "        edges_df (pd.DataFrame): DataFrame with columns start_node, end_node, time_between.\n",
    "\n",
    "    Returns:\n",
    "        pd.DataFrame: with columns showing node name (node), visit number (x), node number in visits (cumulative count),\n",
    "        and maximum codes per visit.\n",
    "    \"\"\"\n",
    "    pos_df = edges_df[['start_node', 'end_node']].stack().drop_duplicates().reset_index(drop=True)\n",
    "    pos_df = pos_df.to_frame(name='node')\n",
    "    pos_df['x'] = pos_df['node'].apply(extract_visit_number)\n",
    "    pos_df['cumulative_count'] = pos_df.groupby('x').cumcount()\n",
    "    pos_df['max_codes_per_visit'] = pos_df.groupby('x')['cumulative_count'].transform('max') + 1\n",
    "\n",
    "    return pos_df\n",
    "\n",
    "def generate_pos_sequence(x:int):\n",
    "    \"\"\"Generate a list of lists to get y coordinate positions for the nodes\n",
    "     based on the number of events recorded per visit.\n",
    "\n",
    "    Args:\n",
    "        x (int): maximum number of nodes in any one visit\n",
    "\n",
    "    Returns:\n",
    "        List: List of lists of y coordinates index mapping to the max nodes for\n",
    "               each visit.\n",
    "    \"\"\"\n",
    "    sequence = []\n",
    "    for i in range(x):\n",
    "        if i % 2 == 0:  # Even index, include zero\n",
    "            sequence.append(list(range(-i // 2, i // 2 + 1)))\n",
    "        else:  # Odd index, exclude zero\n",
    "            sublist = list(range(-(i // 2 + 1), i // 2 + 2))\n",
    "            sublist.remove(0)\n",
    "            sequence.append(sublist)\n",
    "    return sequence\n",
    "\n",
    "\n",
    "def get_pos_y_value_per_node(row, pos_list:list):\n",
    "    \"\"\"Get the y position for each node. Use max_codes_per_visit column to select the sublist \n",
    "    and the cumulative_count to get the position from the sublist.\n",
    "\n",
    "    Args:\n",
    "        row (pd.Series): row of the DataFrame\n",
    "\n",
    "    Returns:\n",
    "        int: y coordinate position \n",
    "    \"\"\"\n",
    "    cum_count = row['cumulative_count']\n",
    "    max_codes = row['max_codes_per_visit']\n",
    "    return pos_list[max_codes - 1][cum_count]\n",
    "\n",
    "def map_y_coord_to_node(pos_df:pd.DataFrame, pos_list:list):\n",
    "    \"\"\"Map the y coordinates to the relevant node and correct row.\n",
    "\n",
    "    Args:\n",
    "        pos_df (pd.DataFrame): columns with node name and x coordinate.\n",
    "        pos_list (list of lists): List of lists of y coordinates index mapping to the max nodes for\n",
    "               each visit.\n",
    "\n",
    "    Returns:\n",
    "        pd.DataFrame: dataframe with x and y coordinates for node plotting.\n",
    "    \"\"\"\n",
    "    pos_df['y'] = pos_df.apply(lambda row: get_pos_y_value_per_node(row, pos_list), axis=1)\n",
    "    return pos_df\n",
    "\n",
    "def create_pos_dict(pos_df:pd.DataFrame):\n",
    "    \"\"\"Make a dictionary with the node name as the key and the x and y coordinates \n",
    "    as a tuple value.\n",
    "\n",
    "    Args:\n",
    "        pos_df (pd.DataFrame): dataframe with columns for the node name, x coordinates,\n",
    "        and y coordinates.\n",
    "\n",
    "    Returns:\n",
    "        dict: dictionary of node: (x,y)\n",
    "    \"\"\"\n",
    "    # the visit number is x and the y value is the number of nodes with the same visit number\n",
    "    pos = pos_df.set_index('node')[['x', 'y']].apply(tuple, axis=1).to_dict()\n",
    "    return pos\n",
    "\n",
    "def draw_gc_pat_graph(edges_df:pd.DataFrame, pos_dict:pd.DataFrame, graph_name:str, pat_outcome, stream_num:int=1):\n",
    "    \"\"\"Draw an individual patient's subgraph graph using NetworkX.\n",
    "\n",
    "    Args:\n",
    "        edges_df (pd.DataFrame): Dataframe with information about edges including: start and end nodes, and edge_label.\n",
    "        pos_dict (dictionary): dictionary with x and y coordinates for each node:(x,y)\n",
    "    \"\"\"\n",
    "    # Convert df to list of tuples for Networkx\n",
    "    edges = []\n",
    "    for _, row in edges_df.iterrows():\n",
    "        edge = (row['start_node'], row['end_node'], {'edge_label': np.round(row['time_between']*30.4167).astype(int)}) # to get days instead of months * 30.4167\n",
    "        edges.append(edge)\n",
    "\n",
    "    G = nx.DiGraph()\n",
    "    G.add_edges_from(edges)\n",
    "\n",
    "\n",
    "    # Prepare edge colors, widths, and labels based on attributes\n",
    "    edge_labels = {(u, v): G[u][v]['edge_label'] for u, v in G.edges()}\n",
    "\n",
    "    # Draw the graph\n",
    "    plt.figure(figsize=(edges_df['start_node'].nunique()+2, 8))\n",
    "    nx.draw(G, pos_dict, with_labels=True, node_size=3000, node_color=\"lightblue\", edge_color='grey', width=0.5, font_size=10, font_weight=\"bold\", arrowsize=20)\n",
    "    nx.draw_networkx_edge_labels(G, pos_dict, edge_labels=edge_labels, font_color='blue', font_size=10, font_weight='bold')\n",
    "    if pat_outcome == 'hip':\n",
    "        out_print = f'Patient will likely need a hip replacement in {years_in_advance} years time'\n",
    "    else:\n",
    "        out_print = f'It is unlikely this patient will need a hip replacement in {years_in_advance} years time'\n",
    "    plt.title(f\"Graph Visualisation of Patients Pathway and Connections Associated to Hip Replacement - Stream {stream_num}\\n{out_print}\")\n",
    "    plt.savefig(f\"documentation/{graph_name}.png\", bbox_inches='tight')\n",
    "    plt.show()\n",
    "    plt.close()\n",
    "\n",
    "def create_scrollable_html(image_path, html_path):\n",
    "    # HTML template with a scrollable container\n",
    "    html_content = f\"\"\"\n",
    "    <!DOCTYPE html>\n",
    "    <html lang=\"en\">\n",
    "    <head>\n",
    "        <meta charset=\"UTF-8\">\n",
    "        <meta name=\"viewport\" content=\"width=device-width, initial-scale=1.0\">\n",
    "        <style>\n",
    "            .scrollable-container {{\n",
    "                width: 100%;\n",
    "                overflow-x: scroll;\n",
    "                white-space: nowrap;\n",
    "            }}\n",
    "            .scrollable-container img {{\n",
    "                display: block;\n",
    "            }}\n",
    "        </style>\n",
    "        <title>Graph for Patient Subgraph</title>\n",
    "    </head>\n",
    "    <body>\n",
    "        <div class=\"scrollable-container\">\n",
    "            <img src=\"{image_path}\" alt=\"NetworkX Graph\">\n",
    "        </div>\n",
    "    </body>\n",
    "    </html>\n",
    "    \"\"\"\n",
    "\n",
    "    # Write the HTML content to a file\n",
    "    with open(html_path, 'w') as file:\n",
    "        file.write(html_content)"
   ]
  },
  {
   "cell_type": "markdown",
   "metadata": {},
   "source": [
    "### Run graph construction code - NetworkX"
   ]
  },
  {
   "cell_type": "markdown",
   "metadata": {},
   "source": [
    "Branch 1"
   ]
  },
  {
   "cell_type": "code",
   "execution_count": 7,
   "metadata": {},
   "outputs": [
    {
     "data": {
      "image/png": "[encoded data removed]",
      "text/plain": [
       "<Figure size 640x480 with 1 Axes>"
      ]
     },
     "metadata": {},
     "output_type": "display_data"
    }
   ],
   "source": [
    "# overall measure average of all features\n",
    "\n",
    "squeezed = tf.squeeze(grads)\n",
    "squeezed = np.array(squeezed)\n",
    "mean_features = np.mean(squeezed, axis=0)\n",
    "\n",
    "grads_min = np.min(mean_features)\n",
    "grads_max = np.max(mean_features)\n",
    "norm_features = (mean_features - grads_min) / (grads_max - grads_min)\n",
    "#norm_features = mean_features/np.sum(mean_features)\n",
    "\n",
    "plt.plot(norm_features)\n",
    "plt.title(\"Average Gradient of All Feature Maps\")\n",
    "plt.xlabel(\"Feature Map Length\")\n",
    "plt.ylabel(\"Normalised Mean Gradient Value\")\n",
    "plt.show()"
   ]
  },
  {
   "cell_type": "code",
   "execution_count": 8,
   "metadata": {},
   "outputs": [
    {
     "name": "stdout",
     "output_type": "stream",
     "text": [
      "96\n",
      "100\n",
      "(100, 512, 512)\n",
      "  start_node end_node  time_between\n",
      "0      28_v0   319_v1        0.9973\n",
      "1     319_v1   479_v2        0.8663\n",
      "2     479_v2   140_v3        0.7039\n",
      "3     140_v3   100_v4        0.1994\n"
     ]
    },
    {
     "data": {
      "image/png": "[encoded data removed]",
      "text/plain": [
       "<Figure size 600x800 with 1 Axes>"
      ]
     },
     "metadata": {},
     "output_type": "display_data"
    },
    {
     "name": "stdout",
     "output_type": "stream",
     "text": [
      "Graph image saved as documentation/pat_graph.png\n",
      "HTML file saved as index.html\n"
     ]
    },
    {
     "data": {
      "text/plain": [
       "True"
      ]
     },
     "execution_count": 8,
     "metadata": {},
     "output_type": "execute_result"
    }
   ],
   "source": [
    "# Get the index of the with the largest number\n",
    "max_val_idx = np.argmax(norm_features)\n",
    "print(max_val_idx)\n",
    "\n",
    "# Get the indexes for the respective filter in terms of the timesteps i.e. index + filter size -1 \n",
    "filter_size = 4\n",
    "timestep_max_idx = max_val_idx + filter_size\n",
    "print(timestep_max_idx)\n",
    "\n",
    "\n",
    "# Turn the sparse input graph into a dense graph\n",
    "dense_tensor = tf.sparse.to_dense(ordered_indiv) # ordered_indiv is before the extra dimension is added for batching\n",
    "dense_tensor\n",
    "\n",
    "# Reshape to match graph visualisation code (and how I picture it in my noggin)\n",
    "dense_tensor = tf.transpose(dense_tensor, perm=[2, 1, 0])\n",
    "#print(dense_tensor.shape)\n",
    "\n",
    "# Flip the graph so the most recent timesteps are at the front rather than the back\n",
    "dense_tensor = np.flip(dense_tensor, axis=0)\n",
    "\n",
    "print(dense_tensor.shape)\n",
    "\n",
    "# Get the chunk of the input graph that corresponds to these timesteps\n",
    "max_visits = 100\n",
    "pat_subgraph = dense_tensor[max_visits-timestep_max_idx:max_visits-max_val_idx, :, :] # this need to be 100 minus these values as the tensor has been flipped\n",
    "#print(pat_subgraph)\n",
    "\n",
    "\n",
    "\n",
    "## Turn these input tensors into a NetworkX graph\n",
    "\n",
    "# Get the edges for the graph\n",
    "edges_df = create_edges_df_gc(pat_subgraph)\n",
    "print(edges_df)\n",
    "\n",
    "# Get the node positions for the graph\n",
    "pos_df = create_position_df_gc(edges_df)\n",
    "pos_list = generate_pos_sequence(pos_df['max_codes_per_visit'].max())\n",
    "pos_df = map_y_coord_to_node(pos_df, pos_list)\n",
    "pos_dict = create_pos_dict(pos_df)\n",
    "# Draw the graph and display on HTML\n",
    "graph_name = 'pat_graph'\n",
    "image_path = 'documentation/'+graph_name+'.png'\n",
    "html_path = 'index.html'\n",
    "draw_gc_pat_graph(edges_df, pos_dict, graph_name=graph_name, pat_outcome=outcome)\n",
    "create_scrollable_html(image_path, html_path)\n",
    "print(f\"Graph image saved as {image_path}\")\n",
    "print(f\"HTML file saved as {html_path}\")\n",
    "\n",
    "# Open the HTML file\n",
    "file_url = 'file://' + os.path.realpath(html_path)\n",
    "webbrowser.open(file_url)"
   ]
  },
  {
   "cell_type": "markdown",
   "metadata": {},
   "source": [
    "#### Branch 2"
   ]
  },
  {
   "cell_type": "code",
   "execution_count": 9,
   "metadata": {},
   "outputs": [
    {
     "data": {
      "image/png": "[encoded data removed]",
      "text/plain": [
       "<Figure size 640x480 with 1 Axes>"
      ]
     },
     "metadata": {},
     "output_type": "display_data"
    },
    {
     "name": "stdout",
     "output_type": "stream",
     "text": [
      "48\n",
      "100\n",
      "(100, 512, 512)\n",
      "0 52\n",
      "  start_node end_node  time_between\n",
      "0      28_v0   319_v1        0.9973\n",
      "1     319_v1   479_v2        0.8663\n",
      "2     479_v2   140_v3        0.7039\n",
      "3     140_v3   100_v4        0.1994\n"
     ]
    },
    {
     "data": {
      "image/png": "[encoded data removed]",
      "text/plain": [
       "<Figure size 600x800 with 1 Axes>"
      ]
     },
     "metadata": {},
     "output_type": "display_data"
    },
    {
     "name": "stdout",
     "output_type": "stream",
     "text": [
      "Graph image saved as documentation/pat_graph_stream2.png\n",
      "HTML file saved as index_stream2.html\n"
     ]
    }
   ],
   "source": [
    "if second_TGCNN_layer:\n",
    "    grads2 = model.dy_du_branch2\n",
    "    squeezed2 = tf.squeeze(grads2)\n",
    "    squeezed2 = np.array(squeezed2)\n",
    "    mean_features2 = np.mean(squeezed2, axis=0)\n",
    "    grads_min = np.min(mean_features2)\n",
    "    grads_max = np.max(mean_features2)\n",
    "    norm_features2 = (mean_features2 - grads_min) / (grads_max - grads_min)\n",
    "    #norm_features2 = mean_features2/np.sum(mean_features2)\n",
    "\n",
    "    plt.plot(norm_features2)\n",
    "    plt.title(\"Average Gradient of All Feature Maps from Second Stream\")\n",
    "    plt.xlabel(\"Feature Map Length\")\n",
    "    plt.ylabel(\"Normalised Mean Gradient Value\")\n",
    "    plt.show()\n",
    "\n",
    "\n",
    "\n",
    "    # Get the index of the with the largest number\n",
    "    max_val_idx = np.argmax(norm_features2)\n",
    "    print(max_val_idx)\n",
    "\n",
    "    # Get the indexes for the respective filter in terms of the timesteps i.e. (index*stride) + filter size -1 \n",
    "    # As the stride size in branch 2 is different I need to map the feature index back to the input graph differently\n",
    "    # ((timesteps - filter_size)/stride)+1 = ((200 - 6)/2)+1 =  final feature map size\n",
    "    stream_2_stride = 2\n",
    "    timestep_max_idx = (max_val_idx*stream_2_stride) + filter_size\n",
    "    print(timestep_max_idx)\n",
    "\n",
    "\n",
    "    # Turn the sparse input graph into a dense graph\n",
    "    dense_tensor = tf.sparse.to_dense(ordered_indiv) # ordered_indiv is before the extra dimension is added for batching\n",
    "\n",
    "    # Reshape to match graph visualisation code (and how I picture it in my noggin)\n",
    "    dense_tensor = tf.transpose(dense_tensor, perm=[2, 1, 0])\n",
    "    #print(dense_tensor.shape)\n",
    "\n",
    "    # Flip the graph so the most recent timesteps are at the front rather than the back\n",
    "    dense_tensor = np.flip(dense_tensor, axis=0)\n",
    "\n",
    "    print(dense_tensor.shape)\n",
    "\n",
    "    # Get the chunk of the input graph that corresponds to these timesteps\n",
    "    max_visits = 100\n",
    "\n",
    "    print(max_visits-timestep_max_idx, max_visits-max_val_idx)\n",
    "    pat_subgraph = dense_tensor[max_visits-timestep_max_idx:max_visits-timestep_max_idx+filter_size, :, :]\n",
    "    #print(pat_subgraph)\n",
    "\n",
    "\n",
    "    ## Turn these input tensors into a NetworkX graph\n",
    "\n",
    "    # Get the edges for the graph\n",
    "    edges_df = create_edges_df_gc(pat_subgraph)\n",
    "    print(edges_df)\n",
    "\n",
    "    # Get the node positions for the graph\n",
    "    pos_df = create_position_df_gc(edges_df)\n",
    "    pos_list = generate_pos_sequence(pos_df['max_codes_per_visit'].max())\n",
    "    pos_df = map_y_coord_to_node(pos_df, pos_list)\n",
    "    pos_dict = create_pos_dict(pos_df)\n",
    "\n",
    "\n",
    "    # Draw the graph and display on HTML\n",
    "    graph_name = 'pat_graph_stream2'\n",
    "    image_path = 'documentation/'+graph_name+'.png'\n",
    "    html_path = 'index_stream2.html'\n",
    "    draw_gc_pat_graph(edges_df, pos_dict, graph_name=graph_name, pat_outcome= outcome, stream_num=2)\n",
    "    create_scrollable_html(image_path, html_path)\n",
    "    print(f\"Graph image saved as {image_path}\")\n",
    "    print(f\"HTML file saved as {html_path}\")\n",
    "    \n",
    "    # Open the HTML file\n",
    "    file_url = 'file://' + os.path.realpath(html_path)\n",
    "    webbrowser.open(file_url)"
   ]
  },
  {
   "cell_type": "markdown",
   "metadata": {},
   "source": [
    "#### Look at each feature maps gradients individually"
   ]
  },
  {
   "cell_type": "code",
   "execution_count": 10,
   "metadata": {},
   "outputs": [
    {
     "data": {
      "image/png": "[encoded data removed]",
      "text/plain": [
       "<Figure size 1200x1000 with 1 Axes>"
      ]
     },
     "metadata": {},
     "output_type": "display_data"
    }
   ],
   "source": [
    "plt.figure(figsize=(12, 10))\n",
    "for map in range(grads.shape[1]):\n",
    "    np_grads = np.array(grads[0, map, :])\n",
    "    grads_min = np.min(np_grads)\n",
    "    grads_max = np.max(np_grads)\n",
    "    norm_grads = (np_grads - grads_min) / (grads_max - grads_min)\n",
    "\n",
    "    plt.plot(norm_grads, label=f'Feature Map {map}')\n",
    "\n",
    "plt.title(\"Gradient of Each Feature Map\")\n",
    "plt.xlabel(\"Feature Map Length\")\n",
    "plt.ylabel(\"Normalized Mean Gradient Value\")\n",
    "plt.legend(loc='upper left')  # This will automatically use the labels specified in plt.plot\n",
    "plt.show()"
   ]
  },
  {
   "cell_type": "markdown",
   "metadata": {},
   "source": [
    "### Plotly/NetworkX Grad-CAM graph"
   ]
  },
  {
   "cell_type": "code",
   "execution_count": 11,
   "metadata": {},
   "outputs": [],
   "source": [
    "# Get the entire patient's history in a DataFrame instead of just the subgraph\n",
    "edges_df = create_edges_df_gc(dense_tensor)\n",
    "\n",
    "# Get the node positions for the graph\n",
    "pos_df = create_position_df_gc(edges_df)\n",
    "pos_list = generate_pos_sequence(pos_df['max_codes_per_visit'].max())\n",
    "pos_df = map_y_coord_to_node(pos_df, pos_list)"
   ]
  },
  {
   "cell_type": "code",
   "execution_count": 46,
   "metadata": {},
   "outputs": [],
   "source": [
    "# Get the average gradient value per timestep\n",
    "\n",
    "def generate_filt_sequences(stride, filter_size, feature_map_size):\n",
    "    sequences = []\n",
    "\n",
    "    for t in range(feature_map_size):\n",
    "        start_idx = t * stride + 1\n",
    "        \n",
    "        end_idx = start_idx + filter_size\n",
    "        \n",
    "        # Generate the list of indices for this timestep\n",
    "        indices = list(range(start_idx, end_idx))\n",
    "        \n",
    "        # Append to sequences\n",
    "        sequences.append(indices)\n",
    "    \n",
    "    return sequences\n",
    "\n",
    "stride = 1\n",
    "filter_size = 4\n",
    "\n",
    "# Global average pooling to get the weight for each filter\n",
    "\n",
    "f_map_branch1 = tf.squeeze(model.f_map_branch1)\n",
    "\n",
    "grads_2D = tf.squeeze(grads)\n",
    "grads_2D = np.array(grads_2D)\n",
    "#print(grads_2D.shape) # filters, k_size\n",
    "#alpha = (1/f_map_branch1.shape[0]) * tf.sum()\n",
    "#print(f_map_branch1.shape[1])\n",
    "\n",
    "alphak_lst = [] # alpha value for each filter\n",
    "k_size = f_map_branch1.shape[1] # number of filters\n",
    "for filt in range(f_map_branch1.shape[0]):\n",
    "    filt_grad_sum = tf.reduce_sum(f_map_branch1, axis=1)[filt]\n",
    "    alpha_k = (1/k_size)*filt_grad_sum\n",
    "    alphak_lst.append(float(alpha_k))\n",
    "\n",
    "\n",
    "# Get 1D localisation map\n",
    "\n",
    "alphak_tf = tf.constant(alphak_lst, dtype=tf.float32)\n",
    "\n",
    "alphak_tf = tf.reshape(alphak_tf, (-1, 1))\n",
    "\n",
    "weighted_f_maps = alphak_tf*f_map_branch1\n",
    "weighted_f_map = tf.reduce_sum(weighted_f_maps, axis=0)\n",
    "\n",
    "\n",
    "# ReLU as we only are interested in the features that have a positive influence of the class of interest\n",
    "l_map = np.array(tf.nn.relu(weighted_f_map))\n"
   ]
  },
  {
   "cell_type": "code",
   "execution_count": 47,
   "metadata": {},
   "outputs": [
    {
     "data": {
      "text/html": [
       "<div>\n",
       "<style scoped>\n",
       "    .dataframe tbody tr th:only-of-type {\n",
       "        vertical-align: middle;\n",
       "    }\n",
       "\n",
       "    .dataframe tbody tr th {\n",
       "        vertical-align: top;\n",
       "    }\n",
       "\n",
       "    .dataframe thead th {\n",
       "        text-align: right;\n",
       "    }\n",
       "</style>\n",
       "<table border=\"1\" class=\"dataframe\">\n",
       "  <thead>\n",
       "    <tr style=\"text-align: right;\">\n",
       "      <th></th>\n",
       "      <th>timestep</th>\n",
       "      <th>f_map_indices</th>\n",
       "      <th>timestep_ave_grad</th>\n",
       "      <th>x</th>\n",
       "    </tr>\n",
       "  </thead>\n",
       "  <tbody>\n",
       "    <tr>\n",
       "      <th>0</th>\n",
       "      <td>100</td>\n",
       "      <td>[0]</td>\n",
       "      <td>0.002452</td>\n",
       "      <td>100</td>\n",
       "    </tr>\n",
       "    <tr>\n",
       "      <th>1</th>\n",
       "      <td>99</td>\n",
       "      <td>[0, 1]</td>\n",
       "      <td>0.001226</td>\n",
       "      <td>99</td>\n",
       "    </tr>\n",
       "    <tr>\n",
       "      <th>2</th>\n",
       "      <td>98</td>\n",
       "      <td>[0, 1, 2]</td>\n",
       "      <td>0.001075</td>\n",
       "      <td>98</td>\n",
       "    </tr>\n",
       "    <tr>\n",
       "      <th>3</th>\n",
       "      <td>97</td>\n",
       "      <td>[0, 1, 2, 3]</td>\n",
       "      <td>0.001171</td>\n",
       "      <td>97</td>\n",
       "    </tr>\n",
       "    <tr>\n",
       "      <th>4</th>\n",
       "      <td>96</td>\n",
       "      <td>[1, 2, 3, 4]</td>\n",
       "      <td>0.001171</td>\n",
       "      <td>96</td>\n",
       "    </tr>\n",
       "    <tr>\n",
       "      <th>...</th>\n",
       "      <td>...</td>\n",
       "      <td>...</td>\n",
       "      <td>...</td>\n",
       "      <td>...</td>\n",
       "    </tr>\n",
       "    <tr>\n",
       "      <th>96</th>\n",
       "      <td>4</td>\n",
       "      <td>[93, 94, 95, 96]</td>\n",
       "      <td>0.001171</td>\n",
       "      <td>4</td>\n",
       "    </tr>\n",
       "    <tr>\n",
       "      <th>97</th>\n",
       "      <td>3</td>\n",
       "      <td>[94, 95, 96, 97]</td>\n",
       "      <td>0.001171</td>\n",
       "      <td>3</td>\n",
       "    </tr>\n",
       "    <tr>\n",
       "      <th>98</th>\n",
       "      <td>2</td>\n",
       "      <td>[95, 96, 97]</td>\n",
       "      <td>0.001075</td>\n",
       "      <td>2</td>\n",
       "    </tr>\n",
       "    <tr>\n",
       "      <th>99</th>\n",
       "      <td>1</td>\n",
       "      <td>[96, 97]</td>\n",
       "      <td>0.001226</td>\n",
       "      <td>1</td>\n",
       "    </tr>\n",
       "    <tr>\n",
       "      <th>100</th>\n",
       "      <td>0</td>\n",
       "      <td>[96, 97]</td>\n",
       "      <td>0.001226</td>\n",
       "      <td>0</td>\n",
       "    </tr>\n",
       "  </tbody>\n",
       "</table>\n",
       "<p>101 rows × 4 columns</p>\n",
       "</div>"
      ],
      "text/plain": [
       "     timestep     f_map_indices  timestep_ave_grad    x\n",
       "0         100               [0]           0.002452  100\n",
       "1          99            [0, 1]           0.001226   99\n",
       "2          98         [0, 1, 2]           0.001075   98\n",
       "3          97      [0, 1, 2, 3]           0.001171   97\n",
       "4          96      [1, 2, 3, 4]           0.001171   96\n",
       "..        ...               ...                ...  ...\n",
       "96          4  [93, 94, 95, 96]           0.001171    4\n",
       "97          3  [94, 95, 96, 97]           0.001171    3\n",
       "98          2      [95, 96, 97]           0.001075    2\n",
       "99          1          [96, 97]           0.001226    1\n",
       "100         0          [96, 97]           0.001226    0\n",
       "\n",
       "[101 rows x 4 columns]"
      ]
     },
     "execution_count": 47,
     "metadata": {},
     "output_type": "execute_result"
    }
   ],
   "source": [
    "sequences = generate_filt_sequences(stride, filter_size, l_map.shape[0]+1)\n",
    "\n",
    "def find_indices_of_value(list_of_lists, value):\n",
    "    # Use a list comprehension to find the indices of lists containing the value\n",
    "    return [index for index, sublist in enumerate(list_of_lists) if value in sublist]\n",
    "\n",
    "\n",
    "f_map_indices = []\n",
    "for f in range(1, max_timesteps+1): # this needs to be \n",
    "    f_map_indices.append(find_indices_of_value(sequences, f))\n",
    "\n",
    "len(range(1, l_map.shape[0]+1))\n",
    "timestep_ave_grad_df = pd.DataFrame({\n",
    "                        'timestep': list(range(max_timesteps, 0, -1)), \n",
    "                        'f_map_indices' : f_map_indices \n",
    "                                     })\n",
    "\n",
    "index_values = timestep_ave_grad_df['f_map_indices'].values\n",
    "\n",
    "timestep_ave_grads_lst = []\n",
    "for index, row in timestep_ave_grad_df.iterrows():\n",
    "    grad_lst_per_timestep = []\n",
    "    for i in range(0, len(row['f_map_indices'])):\n",
    "        grad_lst_per_timestep.append(l_map[i])\n",
    "    # get the mean of the l_map for each time_step\n",
    "    timestep_ave_grads_lst.append(statistics.mean(grad_lst_per_timestep))\n",
    "\n",
    "timestep_ave_grad_df['timestep_ave_grad'] = timestep_ave_grads_lst\n",
    "\n",
    "\n",
    "# this is the gradient per timestep but not all of the patients will have all the timesteps covered so need to take the top x rows (most recent)\n",
    "# flip these to have the same order as node occurence\n",
    "\n",
    "\n",
    "timestep_ave_grad_df['x'] = timestep_ave_grad_df['timestep']\n",
    "\n",
    "# nodes in position x = 0 is the same as nodes in position x = 1 so can just duplicate the value here\n",
    "new_row_dup = {'timestep': 0, 'f_map_indices': timestep_ave_grad_df['f_map_indices'].iloc[-1], 'timestep_ave_grad': timestep_ave_grad_df['timestep_ave_grad'].iloc[-1], 'x':0}\n",
    "\n",
    "\n",
    "timestep_ave_grad_df.loc[len(timestep_ave_grad_df)] = new_row_dup\n",
    "timestep_ave_grad_df\n"
   ]
  },
  {
   "cell_type": "code",
   "execution_count": 48,
   "metadata": {},
   "outputs": [],
   "source": [
    "# fake mapping dataframe for the ReadCodes and the corresponding descriptions\n",
    "read_code_map_df = pd.read_csv('fake_read_code_descriptions.csv')"
   ]
  },
  {
   "cell_type": "code",
   "execution_count": 49,
   "metadata": {},
   "outputs": [
    {
     "data": {
      "text/html": [
       "<div>\n",
       "<style scoped>\n",
       "    .dataframe tbody tr th:only-of-type {\n",
       "        vertical-align: middle;\n",
       "    }\n",
       "\n",
       "    .dataframe tbody tr th {\n",
       "        vertical-align: top;\n",
       "    }\n",
       "\n",
       "    .dataframe thead th {\n",
       "        text-align: right;\n",
       "    }\n",
       "</style>\n",
       "<table border=\"1\" class=\"dataframe\">\n",
       "  <thead>\n",
       "    <tr style=\"text-align: right;\">\n",
       "      <th></th>\n",
       "      <th>node</th>\n",
       "      <th>x</th>\n",
       "      <th>cumulative_count</th>\n",
       "      <th>max_codes_per_visit</th>\n",
       "      <th>y</th>\n",
       "      <th>node_num</th>\n",
       "      <th>ReadCode</th>\n",
       "      <th>ReadCode_descript</th>\n",
       "      <th>timestep</th>\n",
       "      <th>f_map_indices</th>\n",
       "      <th>timestep_ave_grad</th>\n",
       "      <th>norm_timestep_ave_grad</th>\n",
       "    </tr>\n",
       "  </thead>\n",
       "  <tbody>\n",
       "    <tr>\n",
       "      <th>0</th>\n",
       "      <td>28_v0</td>\n",
       "      <td>0</td>\n",
       "      <td>0</td>\n",
       "      <td>1</td>\n",
       "      <td>0</td>\n",
       "      <td>28</td>\n",
       "      <td>PWaYV</td>\n",
       "      <td>28 ReadCode descript here</td>\n",
       "      <td>0</td>\n",
       "      <td>[96, 97]</td>\n",
       "      <td>0.001226</td>\n",
       "      <td>1.000000</td>\n",
       "    </tr>\n",
       "    <tr>\n",
       "      <th>1</th>\n",
       "      <td>319_v1</td>\n",
       "      <td>1</td>\n",
       "      <td>0</td>\n",
       "      <td>1</td>\n",
       "      <td>0</td>\n",
       "      <td>319</td>\n",
       "      <td>kKuPv</td>\n",
       "      <td>319 ReadCode descript here</td>\n",
       "      <td>1</td>\n",
       "      <td>[96, 97]</td>\n",
       "      <td>0.001226</td>\n",
       "      <td>1.000000</td>\n",
       "    </tr>\n",
       "    <tr>\n",
       "      <th>2</th>\n",
       "      <td>479_v2</td>\n",
       "      <td>2</td>\n",
       "      <td>0</td>\n",
       "      <td>1</td>\n",
       "      <td>0</td>\n",
       "      <td>479</td>\n",
       "      <td>BTOLN</td>\n",
       "      <td>479 ReadCode descript here</td>\n",
       "      <td>2</td>\n",
       "      <td>[95, 96, 97]</td>\n",
       "      <td>0.001075</td>\n",
       "      <td>0.000000</td>\n",
       "    </tr>\n",
       "    <tr>\n",
       "      <th>3</th>\n",
       "      <td>140_v3</td>\n",
       "      <td>3</td>\n",
       "      <td>0</td>\n",
       "      <td>1</td>\n",
       "      <td>0</td>\n",
       "      <td>140</td>\n",
       "      <td>MtOuC</td>\n",
       "      <td>140 ReadCode descript here</td>\n",
       "      <td>3</td>\n",
       "      <td>[94, 95, 96, 97]</td>\n",
       "      <td>0.001171</td>\n",
       "      <td>0.639273</td>\n",
       "    </tr>\n",
       "    <tr>\n",
       "      <th>4</th>\n",
       "      <td>100_v4</td>\n",
       "      <td>4</td>\n",
       "      <td>0</td>\n",
       "      <td>1</td>\n",
       "      <td>0</td>\n",
       "      <td>100</td>\n",
       "      <td>SKrlZ</td>\n",
       "      <td>100 ReadCode descript here</td>\n",
       "      <td>4</td>\n",
       "      <td>[93, 94, 95, 96]</td>\n",
       "      <td>0.001171</td>\n",
       "      <td>0.639273</td>\n",
       "    </tr>\n",
       "  </tbody>\n",
       "</table>\n",
       "</div>"
      ],
      "text/plain": [
       "     node  x  cumulative_count  max_codes_per_visit  y  node_num ReadCode  \\\n",
       "0   28_v0  0                 0                    1  0        28    PWaYV   \n",
       "1  319_v1  1                 0                    1  0       319    kKuPv   \n",
       "2  479_v2  2                 0                    1  0       479    BTOLN   \n",
       "3  140_v3  3                 0                    1  0       140    MtOuC   \n",
       "4  100_v4  4                 0                    1  0       100    SKrlZ   \n",
       "\n",
       "            ReadCode_descript  timestep     f_map_indices  timestep_ave_grad  \\\n",
       "0   28 ReadCode descript here         0          [96, 97]           0.001226   \n",
       "1  319 ReadCode descript here         1          [96, 97]           0.001226   \n",
       "2  479 ReadCode descript here         2      [95, 96, 97]           0.001075   \n",
       "3  140 ReadCode descript here         3  [94, 95, 96, 97]           0.001171   \n",
       "4  100 ReadCode descript here         4  [93, 94, 95, 96]           0.001171   \n",
       "\n",
       "   norm_timestep_ave_grad  \n",
       "0                1.000000  \n",
       "1                1.000000  \n",
       "2                0.000000  \n",
       "3                0.639273  \n",
       "4                0.639273  "
      ]
     },
     "execution_count": 49,
     "metadata": {},
     "output_type": "execute_result"
    }
   ],
   "source": [
    "# Extract the numeric part from the 'node' column in pos_df\n",
    "pos_df['node_num'] = pos_df['node'].str.extract('(\\d+)').astype(int)\n",
    "\n",
    "merged_pos_df = pos_df.merge(read_code_map_df, on='node_num', how='left')\n",
    "\n",
    "# merge the x cols in timestep_ave_grad_df with merged_pos_df x col to assign grad strength to nodes\n",
    "merged_pos_df = merged_pos_df.merge(timestep_ave_grad_df, on='x', how='left')\n",
    "\n",
    "# normalise (min-max) the timestep_ave_grad column (needed as not all of the timesteps are used and should give better y axis values)\n",
    "merged_pos_df['norm_timestep_ave_grad'] = (merged_pos_df['timestep_ave_grad'] - merged_pos_df['timestep_ave_grad'].min()) / (merged_pos_df['timestep_ave_grad'].max() - merged_pos_df['timestep_ave_grad'].min())\n",
    "\n",
    "merged_pos_df.head()"
   ]
  },
  {
   "cell_type": "code",
   "execution_count": 50,
   "metadata": {},
   "outputs": [
    {
     "data": {
      "text/html": [
       "<div>\n",
       "<style scoped>\n",
       "    .dataframe tbody tr th:only-of-type {\n",
       "        vertical-align: middle;\n",
       "    }\n",
       "\n",
       "    .dataframe tbody tr th {\n",
       "        vertical-align: top;\n",
       "    }\n",
       "\n",
       "    .dataframe thead th {\n",
       "        text-align: right;\n",
       "    }\n",
       "</style>\n",
       "<table border=\"1\" class=\"dataframe\">\n",
       "  <thead>\n",
       "    <tr style=\"text-align: right;\">\n",
       "      <th></th>\n",
       "      <th>start_node</th>\n",
       "      <th>end_node</th>\n",
       "      <th>time_between</th>\n",
       "      <th>x0</th>\n",
       "      <th>y0</th>\n",
       "      <th>node_num_x</th>\n",
       "      <th>x1</th>\n",
       "      <th>y1</th>\n",
       "      <th>node_num_y</th>\n",
       "    </tr>\n",
       "  </thead>\n",
       "  <tbody>\n",
       "    <tr>\n",
       "      <th>0</th>\n",
       "      <td>28_v0</td>\n",
       "      <td>319_v1</td>\n",
       "      <td>0.9973</td>\n",
       "      <td>0</td>\n",
       "      <td>0</td>\n",
       "      <td>28</td>\n",
       "      <td>1</td>\n",
       "      <td>0</td>\n",
       "      <td>319</td>\n",
       "    </tr>\n",
       "    <tr>\n",
       "      <th>1</th>\n",
       "      <td>319_v1</td>\n",
       "      <td>479_v2</td>\n",
       "      <td>0.8663</td>\n",
       "      <td>1</td>\n",
       "      <td>0</td>\n",
       "      <td>319</td>\n",
       "      <td>2</td>\n",
       "      <td>0</td>\n",
       "      <td>479</td>\n",
       "    </tr>\n",
       "    <tr>\n",
       "      <th>2</th>\n",
       "      <td>479_v2</td>\n",
       "      <td>140_v3</td>\n",
       "      <td>0.7039</td>\n",
       "      <td>2</td>\n",
       "      <td>0</td>\n",
       "      <td>479</td>\n",
       "      <td>3</td>\n",
       "      <td>0</td>\n",
       "      <td>140</td>\n",
       "    </tr>\n",
       "    <tr>\n",
       "      <th>3</th>\n",
       "      <td>140_v3</td>\n",
       "      <td>100_v4</td>\n",
       "      <td>0.1994</td>\n",
       "      <td>3</td>\n",
       "      <td>0</td>\n",
       "      <td>140</td>\n",
       "      <td>4</td>\n",
       "      <td>0</td>\n",
       "      <td>100</td>\n",
       "    </tr>\n",
       "    <tr>\n",
       "      <th>4</th>\n",
       "      <td>100_v4</td>\n",
       "      <td>304_v5</td>\n",
       "      <td>0.8970</td>\n",
       "      <td>4</td>\n",
       "      <td>0</td>\n",
       "      <td>100</td>\n",
       "      <td>5</td>\n",
       "      <td>0</td>\n",
       "      <td>304</td>\n",
       "    </tr>\n",
       "  </tbody>\n",
       "</table>\n",
       "</div>"
      ],
      "text/plain": [
       "  start_node end_node  time_between  x0  y0  node_num_x  x1  y1  node_num_y\n",
       "0      28_v0   319_v1        0.9973   0   0          28   1   0         319\n",
       "1     319_v1   479_v2        0.8663   1   0         319   2   0         479\n",
       "2     479_v2   140_v3        0.7039   2   0         479   3   0         140\n",
       "3     140_v3   100_v4        0.1994   3   0         140   4   0         100\n",
       "4     100_v4   304_v5        0.8970   4   0         100   5   0         304"
      ]
     },
     "execution_count": 50,
     "metadata": {},
     "output_type": "execute_result"
    }
   ],
   "source": [
    "# edges_df merge to pos_df to get x0 and x1 and y0 and y1 for edges\n",
    "\n",
    "# merge edges_df with pos_df on start_node to get x0 and y0\n",
    "edge_pos_df = edges_df.merge(pos_df, how='left', left_on='start_node', right_on='node')\n",
    "edge_pos_df = edge_pos_df.rename(columns={'x': 'x0', 'y': 'y0'}).drop(columns=['node', 'cumulative_count', 'max_codes_per_visit'])\n",
    "\n",
    "# merge the result with pos_df again on end_node to get x1 and y1\n",
    "edge_pos_df = edge_pos_df.merge(pos_df, how='left', left_on='end_node', right_on='node')\n",
    "edge_pos_df = edge_pos_df.rename(columns={'x': 'x1', 'y': 'y1'}).drop(columns=['node', 'cumulative_count', 'max_codes_per_visit'])\n",
    "edge_pos_df.head()"
   ]
  },
  {
   "cell_type": "code",
   "execution_count": 51,
   "metadata": {},
   "outputs": [
    {
     "name": "stdout",
     "output_type": "stream",
     "text": [
      "Model predicted incorrectly\n"
     ]
    },
    {
     "data": {
      "application/vnd.plotly.v1+json": {
       "config": {
        "plotlyServerURL": "https://plot.ly"
       },
       "data": [
        {
         "hoverinfo": "none",
         "line": {
          "color": "#888",
          "width": 0.5
         },
         "mode": "lines",
         "type": "scatter",
         "x": [
          0,
          1,
          null,
          1,
          2,
          null,
          2,
          3,
          null,
          3,
          4,
          null,
          4,
          5,
          null,
          5,
          6,
          null,
          6,
          7,
          null,
          7,
          8,
          null,
          8,
          9,
          null,
          9,
          10,
          null,
          10,
          11,
          null,
          11,
          12,
          null,
          12,
          13,
          null,
          13,
          14,
          null,
          14,
          15,
          null,
          15,
          16,
          null,
          16,
          17,
          null,
          17,
          18,
          null,
          18,
          19,
          null,
          19,
          20,
          null,
          20,
          21,
          null,
          21,
          22,
          null,
          22,
          23,
          null,
          23,
          24,
          null,
          24,
          25,
          null,
          25,
          26,
          null,
          26,
          27,
          null,
          27,
          28,
          null,
          28,
          29,
          null,
          29,
          30,
          null,
          30,
          31,
          null,
          31,
          32,
          null,
          32,
          33,
          null,
          33,
          34,
          null,
          34,
          35,
          null,
          35,
          36,
          null,
          36,
          37,
          null,
          37,
          38,
          null,
          38,
          39,
          null,
          39,
          40,
          null,
          40,
          41,
          null,
          41,
          42,
          null,
          42,
          43,
          null,
          43,
          44,
          null,
          44,
          45,
          null,
          45,
          46,
          null,
          46,
          47,
          null,
          47,
          48,
          null,
          48,
          49,
          null,
          49,
          50,
          null,
          50,
          51,
          null,
          51,
          52,
          null,
          52,
          53,
          null,
          53,
          54,
          null,
          54,
          55,
          null,
          55,
          56,
          null,
          56,
          57,
          null,
          57,
          58,
          null,
          58,
          59,
          null,
          59,
          60,
          null,
          60,
          61,
          null,
          61,
          62,
          null,
          62,
          63,
          null,
          63,
          64,
          null,
          64,
          65,
          null,
          65,
          66,
          null,
          66,
          67,
          null,
          67,
          68,
          null,
          68,
          69,
          null,
          69,
          70,
          null,
          70,
          71,
          null,
          71,
          72,
          null,
          72,
          73,
          null,
          73,
          74,
          null,
          74,
          75,
          null,
          75,
          76,
          null,
          76,
          77,
          null,
          77,
          78,
          null,
          78,
          79,
          null,
          79,
          80,
          null,
          80,
          81,
          null,
          81,
          82,
          null,
          82,
          83,
          null,
          83,
          84,
          null,
          84,
          85,
          null,
          85,
          86,
          null,
          86,
          87,
          null,
          87,
          88,
          null,
          88,
          89,
          null,
          89,
          90,
          null,
          90,
          91,
          null,
          91,
          92,
          null,
          92,
          93,
          null,
          93,
          94,
          null,
          94,
          95,
          null,
          95,
          96,
          null,
          96,
          97,
          null,
          97,
          98,
          null
         ],
         "y": [
          0,
          0,
          null,
          0,
          0,
          null,
          0,
          0,
          null,
          0,
          0,
          null,
          0,
          0,
          null,
          0,
          0,
          null,
          0,
          0,
          null,
          0,
          0,
          null,
          0,
          0,
          null,
          0,
          0,
          null,
          0,
          0,
          null,
          0,
          0,
          null,
          0,
          0,
          null,
          0,
          0,
          null,
          0,
          0,
          null,
          0,
          0,
          null,
          0,
          0,
          null,
          0,
          0,
          null,
          0,
          0,
          null,
          0,
          0,
          null,
          0,
          0,
          null,
          0,
          0,
          null,
          0,
          0,
          null,
          0,
          0,
          null,
          0,
          0,
          null,
          0,
          0,
          null,
          0,
          0,
          null,
          0,
          0,
          null,
          0,
          0,
          null,
          0,
          0,
          null,
          0,
          0,
          null,
          0,
          0,
          null,
          0,
          0,
          null,
          0,
          0,
          null,
          0,
          0,
          null,
          0,
          0,
          null,
          0,
          0,
          null,
          0,
          0,
          null,
          0,
          0,
          null,
          0,
          0,
          null,
          0,
          0,
          null,
          0,
          0,
          null,
          0,
          0,
          null,
          0,
          0,
          null,
          0,
          0,
          null,
          0,
          0,
          null,
          0,
          0,
          null,
          0,
          0,
          null,
          0,
          0,
          null,
          0,
          0,
          null,
          0,
          0,
          null,
          0,
          0,
          null,
          0,
          0,
          null,
          0,
          0,
          null,
          0,
          0,
          null,
          0,
          0,
          null,
          0,
          0,
          null,
          0,
          0,
          null,
          0,
          0,
          null,
          0,
          0,
          null,
          0,
          0,
          null,
          0,
          0,
          null,
          0,
          0,
          null,
          0,
          0,
          null,
          0,
          0,
          null,
          0,
          0,
          null,
          0,
          0,
          null,
          0,
          0,
          null,
          0,
          0,
          null,
          0,
          0,
          null,
          0,
          0,
          null,
          0,
          0,
          null,
          0,
          0,
          null,
          0,
          0,
          null,
          0,
          0,
          null,
          0,
          0,
          null,
          0,
          0,
          null,
          0,
          0,
          null,
          0,
          0,
          null,
          0,
          0,
          null,
          0,
          0,
          null,
          0,
          0,
          null,
          0,
          0,
          null,
          0,
          0,
          null,
          0,
          0,
          null,
          0,
          0,
          null,
          0,
          0,
          null,
          0,
          0,
          null,
          0,
          0,
          null,
          0,
          0,
          null,
          0,
          0,
          null,
          0,
          0,
          null,
          0,
          0,
          null,
          0,
          0,
          null,
          0,
          0,
          null,
          0,
          0,
          null,
          0,
          0,
          null,
          0,
          0,
          null
         ]
        },
        {
         "hoverinfo": "text",
         "hovertext": [
          "28 ReadCode descript here",
          "319 ReadCode descript here",
          "479 ReadCode descript here",
          "140 ReadCode descript here",
          "100 ReadCode descript here",
          "304 ReadCode descript here",
          "481 ReadCode descript here",
          "226 ReadCode descript here",
          "218 ReadCode descript here",
          "242 ReadCode descript here",
          "240 ReadCode descript here",
          "173 ReadCode descript here",
          "293 ReadCode descript here",
          "356 ReadCode descript here",
          "495 ReadCode descript here",
          "316 ReadCode descript here",
          "72 ReadCode descript here",
          "81 ReadCode descript here",
          "293 ReadCode descript here",
          "403 ReadCode descript here",
          "204 ReadCode descript here",
          "273 ReadCode descript here",
          "206 ReadCode descript here",
          "471 ReadCode descript here",
          "339 ReadCode descript here",
          "476 ReadCode descript here",
          "386 ReadCode descript here",
          "402 ReadCode descript here",
          "5 ReadCode descript here",
          "398 ReadCode descript here",
          "127 ReadCode descript here",
          "441 ReadCode descript here",
          "421 ReadCode descript here",
          "417 ReadCode descript here",
          "42 ReadCode descript here",
          "113 ReadCode descript here",
          "53 ReadCode descript here",
          "171 ReadCode descript here",
          "124 ReadCode descript here",
          "121 ReadCode descript here",
          "325 ReadCode descript here",
          "254 ReadCode descript here",
          "250 ReadCode descript here",
          "304 ReadCode descript here",
          "205 ReadCode descript here",
          "83 ReadCode descript here",
          "407 ReadCode descript here",
          "197 ReadCode descript here",
          "205 ReadCode descript here",
          "141 ReadCode descript here",
          "389 ReadCode descript here",
          "30 ReadCode descript here",
          "170 ReadCode descript here",
          "392 ReadCode descript here",
          "29 ReadCode descript here",
          "215 ReadCode descript here",
          "24 ReadCode descript here",
          "379 ReadCode descript here",
          "17 ReadCode descript here",
          "45 ReadCode descript here",
          "211 ReadCode descript here",
          "349 ReadCode descript here",
          "435 ReadCode descript here",
          "141 ReadCode descript here",
          "60 ReadCode descript here",
          "251 ReadCode descript here",
          "95 ReadCode descript here",
          "153 ReadCode descript here",
          "308 ReadCode descript here",
          "271 ReadCode descript here",
          "73 ReadCode descript here",
          "368 ReadCode descript here",
          "28 ReadCode descript here",
          "336 ReadCode descript here",
          "475 ReadCode descript here",
          "297 ReadCode descript here",
          "387 ReadCode descript here",
          "196 ReadCode descript here",
          "166 ReadCode descript here",
          "289 ReadCode descript here",
          "48 ReadCode descript here",
          "502 ReadCode descript here",
          "473 ReadCode descript here",
          "194 ReadCode descript here",
          "131 ReadCode descript here",
          "42 ReadCode descript here",
          "423 ReadCode descript here",
          "281 ReadCode descript here",
          "280 ReadCode descript here",
          "320 ReadCode descript here",
          "146 ReadCode descript here",
          "490 ReadCode descript here",
          "57 ReadCode descript here",
          "128 ReadCode descript here",
          "322 ReadCode descript here",
          "306 ReadCode descript here",
          "413 ReadCode descript here",
          "455 ReadCode descript here",
          "393 ReadCode descript here"
         ],
         "marker": {
          "color": [
           1,
           1,
           0,
           0.6392732858657837,
           0.6392732858657837,
           0.6392732858657837,
           0.6392732858657837,
           0.6392732858657837,
           0.6392732858657837,
           0.6392732858657837,
           0.6392732858657837,
           0.6392732858657837,
           0.6392732858657837,
           0.6392732858657837,
           0.6392732858657837,
           0.6392732858657837,
           0.6392732858657837,
           0.6392732858657837,
           0.6392732858657837,
           0.6392732858657837,
           0.6392732858657837,
           0.6392732858657837,
           0.6392732858657837,
           0.6392732858657837,
           0.6392732858657837,
           0.6392732858657837,
           0.6392732858657837,
           0.6392732858657837,
           0.6392732858657837,
           0.6392732858657837,
           0.6392732858657837,
           0.6392732858657837,
           0.6392732858657837,
           0.6392732858657837,
           0.6392732858657837,
           0.6392732858657837,
           0.6392732858657837,
           0.6392732858657837,
           0.6392732858657837,
           0.6392732858657837,
           0.6392732858657837,
           0.6392732858657837,
           0.6392732858657837,
           0.6392732858657837,
           0.6392732858657837,
           0.6392732858657837,
           0.6392732858657837,
           0.6392732858657837,
           0.6392732858657837,
           0.6392732858657837,
           0.6392732858657837,
           0.6392732858657837,
           0.6392732858657837,
           0.6392732858657837,
           0.6392732858657837,
           0.6392732858657837,
           0.6392732858657837,
           0.6392732858657837,
           0.6392732858657837,
           0.6392732858657837,
           0.6392732858657837,
           0.6392732858657837,
           0.6392732858657837,
           0.6392732858657837,
           0.6392732858657837,
           0.6392732858657837,
           0.6392732858657837,
           0.6392732858657837,
           0.6392732858657837,
           0.6392732858657837,
           0.6392732858657837,
           0.6392732858657837,
           0.6392732858657837,
           0.6392732858657837,
           0.6392732858657837,
           0.6392732858657837,
           0.6392732858657837,
           0.6392732858657837,
           0.6392732858657837,
           0.6392732858657837,
           0.6392732858657837,
           0.6392732858657837,
           0.6392732858657837,
           0.6392732858657837,
           0.6392732858657837,
           0.6392732858657837,
           0.6392732858657837,
           0.6392732858657837,
           0.6392732858657837,
           0.6392732858657837,
           0.6392732858657837,
           0.6392732858657837,
           0.6392732858657837,
           0.6392732858657837,
           0.6392732858657837,
           0.6392732858657837,
           0.6392732858657837,
           0.6392732858657837,
           0
          ],
          "colorbar": {
           "thickness": 15,
           "title": {
            "side": "right",
            "text": "Influence Visit Had on Prediction (Gradient)"
           },
           "xanchor": "left"
          },
          "colorscale": [
           [
            0,
            "#440154"
           ],
           [
            0.1111111111111111,
            "#482878"
           ],
           [
            0.2222222222222222,
            "#3e4989"
           ],
           [
            0.3333333333333333,
            "#31688e"
           ],
           [
            0.4444444444444444,
            "#26828e"
           ],
           [
            0.5555555555555556,
            "#1f9e89"
           ],
           [
            0.6666666666666666,
            "#35b779"
           ],
           [
            0.7777777777777778,
            "#6ece58"
           ],
           [
            0.8888888888888888,
            "#b5de2b"
           ],
           [
            1,
            "#fde725"
           ]
          ],
          "line": {
           "width": 2
          },
          "reversescale": true,
          "showscale": true,
          "size": 45
         },
         "mode": "markers+text",
         "text": [
          "PWaYV",
          "kKuPv",
          "BTOLN",
          "MtOuC",
          "SKrlZ",
          "jnQdK",
          "HaHZd",
          "uHuRE",
          "kqSSa",
          "xGItz",
          "ODTdq",
          "QXpao",
          "nLUFE",
          "JyAYW",
          "jVaMw",
          "sUtqV",
          "NBgYH",
          "hbSQs",
          "nLUFE",
          "MsKCt",
          "YHqXn",
          "ZUlQu",
          "FYvIS",
          "FFnaU",
          "GjgQS",
          "NxOTm",
          "kxOuO",
          "OIarL",
          "bEtvj",
          "nCISK",
          "UdZoe",
          "lHSSN",
          "LopeD",
          "VogCO",
          "QvsjF",
          "Oxqno",
          "coXKt",
          "ovuZT",
          "jjWTy",
          "xCaCG",
          "XOSyw",
          "aAXMY",
          "WaZbN",
          "jnQdK",
          "FyJwr",
          "vLwMb",
          "pEwFJ",
          "jQHbK",
          "FyJwr",
          "epNQm",
          "uxbTn",
          "EDHdv",
          "BHSKF",
          "iyxnl",
          "mIFZJ",
          "rjQio",
          "zQznn",
          "JasTs",
          "qjSPy",
          "cFEPl",
          "PKEGv",
          "nyBzz",
          "KCdlQ",
          "epNQm",
          "eYNAN",
          "lJXYU",
          "pWIWZ",
          "RwYMs",
          "xSBVR",
          "NhEGl",
          "EZlKe",
          "abKxE",
          "PWaYV",
          "viOIS",
          "GzbeD",
          "zxBiU",
          "Pbclq",
          "ldHjx",
          "wKmyN",
          "dyBpU",
          "UIobM",
          "CtENY",
          "lqsGc",
          "ejsKl",
          "udond",
          "QvsjF",
          "wGtyZ",
          "NPwNl",
          "svDcH",
          "THNCA",
          "mQLFE",
          "LQcUl",
          "ahZan",
          "KqhUB",
          "WsdfG",
          "yJNnK",
          "NFzZa",
          "VjuCA",
          "JuDQa"
         ],
         "textfont": {
          "color": [
           "white",
           "white",
           "black",
           "white",
           "white",
           "white",
           "white",
           "white",
           "white",
           "white",
           "white",
           "white",
           "white",
           "white",
           "white",
           "white",
           "white",
           "white",
           "white",
           "white",
           "white",
           "white",
           "white",
           "white",
           "white",
           "white",
           "white",
           "white",
           "white",
           "white",
           "white",
           "white",
           "white",
           "white",
           "white",
           "white",
           "white",
           "white",
           "white",
           "white",
           "white",
           "white",
           "white",
           "white",
           "white",
           "white",
           "white",
           "white",
           "white",
           "white",
           "white",
           "white",
           "white",
           "white",
           "white",
           "white",
           "white",
           "white",
           "white",
           "white",
           "white",
           "white",
           "white",
           "white",
           "white",
           "white",
           "white",
           "white",
           "white",
           "white",
           "white",
           "white",
           "white",
           "white",
           "white",
           "white",
           "white",
           "white",
           "white",
           "white",
           "white",
           "white",
           "white",
           "white",
           "white",
           "white",
           "white",
           "white",
           "white",
           "white",
           "white",
           "white",
           "white",
           "white",
           "white",
           "white",
           "white",
           "white",
           "black"
          ],
          "size": 10
         },
         "textposition": "middle center",
         "type": "scatter",
         "x": [
          0,
          1,
          2,
          3,
          4,
          5,
          6,
          7,
          8,
          9,
          10,
          11,
          12,
          13,
          14,
          15,
          16,
          17,
          18,
          19,
          20,
          21,
          22,
          23,
          24,
          25,
          26,
          27,
          28,
          29,
          30,
          31,
          32,
          33,
          34,
          35,
          36,
          37,
          38,
          39,
          40,
          41,
          42,
          43,
          44,
          45,
          46,
          47,
          48,
          49,
          50,
          51,
          52,
          53,
          54,
          55,
          56,
          57,
          58,
          59,
          60,
          61,
          62,
          63,
          64,
          65,
          66,
          67,
          68,
          69,
          70,
          71,
          72,
          73,
          74,
          75,
          76,
          77,
          78,
          79,
          80,
          81,
          82,
          83,
          84,
          85,
          86,
          87,
          88,
          89,
          90,
          91,
          92,
          93,
          94,
          95,
          96,
          97,
          98
         ],
         "y": [
          0,
          0,
          0,
          0,
          0,
          0,
          0,
          0,
          0,
          0,
          0,
          0,
          0,
          0,
          0,
          0,
          0,
          0,
          0,
          0,
          0,
          0,
          0,
          0,
          0,
          0,
          0,
          0,
          0,
          0,
          0,
          0,
          0,
          0,
          0,
          0,
          0,
          0,
          0,
          0,
          0,
          0,
          0,
          0,
          0,
          0,
          0,
          0,
          0,
          0,
          0,
          0,
          0,
          0,
          0,
          0,
          0,
          0,
          0,
          0,
          0,
          0,
          0,
          0,
          0,
          0,
          0,
          0,
          0,
          0,
          0,
          0,
          0,
          0,
          0,
          0,
          0,
          0,
          0,
          0,
          0,
          0,
          0,
          0,
          0,
          0,
          0,
          0,
          0,
          0,
          0,
          0,
          0,
          0,
          0,
          0,
          0,
          0,
          0
         ]
        }
       ],
       "layout": {
        "annotations": [
         {
          "align": "center",
          "font": {
           "size": 10
          },
          "showarrow": false,
          "text": "30 days",
          "x": 0.5,
          "y": 0
         },
         {
          "align": "center",
          "font": {
           "size": 10
          },
          "showarrow": false,
          "text": "26 days",
          "x": 1.5,
          "y": 0
         },
         {
          "align": "center",
          "font": {
           "size": 10
          },
          "showarrow": false,
          "text": "21 days",
          "x": 2.5,
          "y": 0
         },
         {
          "align": "center",
          "font": {
           "size": 10
          },
          "showarrow": false,
          "text": "6 days",
          "x": 3.5,
          "y": 0
         },
         {
          "align": "center",
          "font": {
           "size": 10
          },
          "showarrow": false,
          "text": "27 days",
          "x": 4.5,
          "y": 0
         },
         {
          "align": "center",
          "font": {
           "size": 10
          },
          "showarrow": false,
          "text": "24 days",
          "x": 5.5,
          "y": 0
         },
         {
          "align": "center",
          "font": {
           "size": 10
          },
          "showarrow": false,
          "text": "1 days",
          "x": 6.5,
          "y": 0
         },
         {
          "align": "center",
          "font": {
           "size": 10
          },
          "showarrow": false,
          "text": "10 days",
          "x": 7.5,
          "y": 0
         },
         {
          "align": "center",
          "font": {
           "size": 10
          },
          "showarrow": false,
          "text": "12 days",
          "x": 8.5,
          "y": 0
         },
         {
          "align": "center",
          "font": {
           "size": 10
          },
          "showarrow": false,
          "text": "9 days",
          "x": 9.5,
          "y": 0
         },
         {
          "align": "center",
          "font": {
           "size": 10
          },
          "showarrow": false,
          "text": "19 days",
          "x": 10.5,
          "y": 0
         },
         {
          "align": "center",
          "font": {
           "size": 10
          },
          "showarrow": false,
          "text": "24 days",
          "x": 11.5,
          "y": 0
         },
         {
          "align": "center",
          "font": {
           "size": 10
          },
          "showarrow": false,
          "text": "16 days",
          "x": 12.5,
          "y": 0
         },
         {
          "align": "center",
          "font": {
           "size": 10
          },
          "showarrow": false,
          "text": "23 days",
          "x": 13.5,
          "y": 0
         },
         {
          "align": "center",
          "font": {
           "size": 10
          },
          "showarrow": false,
          "text": "21 days",
          "x": 14.5,
          "y": 0
         },
         {
          "align": "center",
          "font": {
           "size": 10
          },
          "showarrow": false,
          "text": "17 days",
          "x": 15.5,
          "y": 0
         },
         {
          "align": "center",
          "font": {
           "size": 10
          },
          "showarrow": false,
          "text": "6 days",
          "x": 16.5,
          "y": 0
         },
         {
          "align": "center",
          "font": {
           "size": 10
          },
          "showarrow": false,
          "text": "23 days",
          "x": 17.5,
          "y": 0
         },
         {
          "align": "center",
          "font": {
           "size": 10
          },
          "showarrow": false,
          "text": "1 days",
          "x": 18.5,
          "y": 0
         },
         {
          "align": "center",
          "font": {
           "size": 10
          },
          "showarrow": false,
          "text": "16 days",
          "x": 19.5,
          "y": 0
         },
         {
          "align": "center",
          "font": {
           "size": 10
          },
          "showarrow": false,
          "text": "27 days",
          "x": 20.5,
          "y": 0
         },
         {
          "align": "center",
          "font": {
           "size": 10
          },
          "showarrow": false,
          "text": "22 days",
          "x": 21.5,
          "y": 0
         },
         {
          "align": "center",
          "font": {
           "size": 10
          },
          "showarrow": false,
          "text": "30 days",
          "x": 22.5,
          "y": 0
         },
         {
          "align": "center",
          "font": {
           "size": 10
          },
          "showarrow": false,
          "text": "21 days",
          "x": 23.5,
          "y": 0
         },
         {
          "align": "center",
          "font": {
           "size": 10
          },
          "showarrow": false,
          "text": "7 days",
          "x": 24.5,
          "y": 0
         },
         {
          "align": "center",
          "font": {
           "size": 10
          },
          "showarrow": false,
          "text": "26 days",
          "x": 25.5,
          "y": 0
         },
         {
          "align": "center",
          "font": {
           "size": 10
          },
          "showarrow": false,
          "text": "7 days",
          "x": 26.5,
          "y": 0
         },
         {
          "align": "center",
          "font": {
           "size": 10
          },
          "showarrow": false,
          "text": "25 days",
          "x": 27.5,
          "y": 0
         },
         {
          "align": "center",
          "font": {
           "size": 10
          },
          "showarrow": false,
          "text": "23 days",
          "x": 28.5,
          "y": 0
         },
         {
          "align": "center",
          "font": {
           "size": 10
          },
          "showarrow": false,
          "text": "6 days",
          "x": 29.5,
          "y": 0
         },
         {
          "align": "center",
          "font": {
           "size": 10
          },
          "showarrow": false,
          "text": "10 days",
          "x": 30.5,
          "y": 0
         },
         {
          "align": "center",
          "font": {
           "size": 10
          },
          "showarrow": false,
          "text": "17 days",
          "x": 31.5,
          "y": 0
         },
         {
          "align": "center",
          "font": {
           "size": 10
          },
          "showarrow": false,
          "text": "22 days",
          "x": 32.5,
          "y": 0
         },
         {
          "align": "center",
          "font": {
           "size": 10
          },
          "showarrow": false,
          "text": "27 days",
          "x": 33.5,
          "y": 0
         },
         {
          "align": "center",
          "font": {
           "size": 10
          },
          "showarrow": false,
          "text": "22 days",
          "x": 34.5,
          "y": 0
         },
         {
          "align": "center",
          "font": {
           "size": 10
          },
          "showarrow": false,
          "text": "21 days",
          "x": 35.5,
          "y": 0
         },
         {
          "align": "center",
          "font": {
           "size": 10
          },
          "showarrow": false,
          "text": "24 days",
          "x": 36.5,
          "y": 0
         },
         {
          "align": "center",
          "font": {
           "size": 10
          },
          "showarrow": false,
          "text": "28 days",
          "x": 37.5,
          "y": 0
         },
         {
          "align": "center",
          "font": {
           "size": 10
          },
          "showarrow": false,
          "text": "10 days",
          "x": 38.5,
          "y": 0
         },
         {
          "align": "center",
          "font": {
           "size": 10
          },
          "showarrow": false,
          "text": "7 days",
          "x": 39.5,
          "y": 0
         },
         {
          "align": "center",
          "font": {
           "size": 10
          },
          "showarrow": false,
          "text": "5 days",
          "x": 40.5,
          "y": 0
         },
         {
          "align": "center",
          "font": {
           "size": 10
          },
          "showarrow": false,
          "text": "13 days",
          "x": 41.5,
          "y": 0
         },
         {
          "align": "center",
          "font": {
           "size": 10
          },
          "showarrow": false,
          "text": "17 days",
          "x": 42.5,
          "y": 0
         },
         {
          "align": "center",
          "font": {
           "size": 10
          },
          "showarrow": false,
          "text": "30 days",
          "x": 43.5,
          "y": 0
         },
         {
          "align": "center",
          "font": {
           "size": 10
          },
          "showarrow": false,
          "text": "24 days",
          "x": 44.5,
          "y": 0
         },
         {
          "align": "center",
          "font": {
           "size": 10
          },
          "showarrow": false,
          "text": "9 days",
          "x": 45.5,
          "y": 0
         },
         {
          "align": "center",
          "font": {
           "size": 10
          },
          "showarrow": false,
          "text": "6 days",
          "x": 46.5,
          "y": 0
         },
         {
          "align": "center",
          "font": {
           "size": 10
          },
          "showarrow": false,
          "text": "20 days",
          "x": 47.5,
          "y": 0
         },
         {
          "align": "center",
          "font": {
           "size": 10
          },
          "showarrow": false,
          "text": "12 days",
          "x": 48.5,
          "y": 0
         },
         {
          "align": "center",
          "font": {
           "size": 10
          },
          "showarrow": false,
          "text": "25 days",
          "x": 49.5,
          "y": 0
         },
         {
          "align": "center",
          "font": {
           "size": 10
          },
          "showarrow": false,
          "text": "23 days",
          "x": 50.5,
          "y": 0
         },
         {
          "align": "center",
          "font": {
           "size": 10
          },
          "showarrow": false,
          "text": "25 days",
          "x": 51.5,
          "y": 0
         },
         {
          "align": "center",
          "font": {
           "size": 10
          },
          "showarrow": false,
          "text": "28 days",
          "x": 52.5,
          "y": 0
         },
         {
          "align": "center",
          "font": {
           "size": 10
          },
          "showarrow": false,
          "text": "13 days",
          "x": 53.5,
          "y": 0
         },
         {
          "align": "center",
          "font": {
           "size": 10
          },
          "showarrow": false,
          "text": "12 days",
          "x": 54.5,
          "y": 0
         },
         {
          "align": "center",
          "font": {
           "size": 10
          },
          "showarrow": false,
          "text": "1 days",
          "x": 55.5,
          "y": 0
         },
         {
          "align": "center",
          "font": {
           "size": 10
          },
          "showarrow": false,
          "text": "27 days",
          "x": 56.5,
          "y": 0
         },
         {
          "align": "center",
          "font": {
           "size": 10
          },
          "showarrow": false,
          "text": "3 days",
          "x": 57.5,
          "y": 0
         },
         {
          "align": "center",
          "font": {
           "size": 10
          },
          "showarrow": false,
          "text": "1 days",
          "x": 58.5,
          "y": 0
         },
         {
          "align": "center",
          "font": {
           "size": 10
          },
          "showarrow": false,
          "text": "9 days",
          "x": 59.5,
          "y": 0
         },
         {
          "align": "center",
          "font": {
           "size": 10
          },
          "showarrow": false,
          "text": "20 days",
          "x": 60.5,
          "y": 0
         },
         {
          "align": "center",
          "font": {
           "size": 10
          },
          "showarrow": false,
          "text": "19 days",
          "x": 61.5,
          "y": 0
         },
         {
          "align": "center",
          "font": {
           "size": 10
          },
          "showarrow": false,
          "text": "23 days",
          "x": 62.5,
          "y": 0
         },
         {
          "align": "center",
          "font": {
           "size": 10
          },
          "showarrow": false,
          "text": "6 days",
          "x": 63.5,
          "y": 0
         },
         {
          "align": "center",
          "font": {
           "size": 10
          },
          "showarrow": false,
          "text": "20 days",
          "x": 64.5,
          "y": 0
         },
         {
          "align": "center",
          "font": {
           "size": 10
          },
          "showarrow": false,
          "text": "5 days",
          "x": 65.5,
          "y": 0
         },
         {
          "align": "center",
          "font": {
           "size": 10
          },
          "showarrow": false,
          "text": "15 days",
          "x": 66.5,
          "y": 0
         },
         {
          "align": "center",
          "font": {
           "size": 10
          },
          "showarrow": false,
          "text": "9 days",
          "x": 67.5,
          "y": 0
         },
         {
          "align": "center",
          "font": {
           "size": 10
          },
          "showarrow": false,
          "text": "3 days",
          "x": 68.5,
          "y": 0
         },
         {
          "align": "center",
          "font": {
           "size": 10
          },
          "showarrow": false,
          "text": "7 days",
          "x": 69.5,
          "y": 0
         },
         {
          "align": "center",
          "font": {
           "size": 10
          },
          "showarrow": false,
          "text": "18 days",
          "x": 70.5,
          "y": 0
         },
         {
          "align": "center",
          "font": {
           "size": 10
          },
          "showarrow": false,
          "text": "6 days",
          "x": 71.5,
          "y": 0
         },
         {
          "align": "center",
          "font": {
           "size": 10
          },
          "showarrow": false,
          "text": "16 days",
          "x": 72.5,
          "y": 0
         },
         {
          "align": "center",
          "font": {
           "size": 10
          },
          "showarrow": false,
          "text": "10 days",
          "x": 73.5,
          "y": 0
         },
         {
          "align": "center",
          "font": {
           "size": 10
          },
          "showarrow": false,
          "text": "8 days",
          "x": 74.5,
          "y": 0
         },
         {
          "align": "center",
          "font": {
           "size": 10
          },
          "showarrow": false,
          "text": "9 days",
          "x": 75.5,
          "y": 0
         },
         {
          "align": "center",
          "font": {
           "size": 10
          },
          "showarrow": false,
          "text": "27 days",
          "x": 76.5,
          "y": 0
         },
         {
          "align": "center",
          "font": {
           "size": 10
          },
          "showarrow": false,
          "text": "14 days",
          "x": 77.5,
          "y": 0
         },
         {
          "align": "center",
          "font": {
           "size": 10
          },
          "showarrow": false,
          "text": "16 days",
          "x": 78.5,
          "y": 0
         },
         {
          "align": "center",
          "font": {
           "size": 10
          },
          "showarrow": false,
          "text": "7 days",
          "x": 79.5,
          "y": 0
         },
         {
          "align": "center",
          "font": {
           "size": 10
          },
          "showarrow": false,
          "text": "9 days",
          "x": 80.5,
          "y": 0
         },
         {
          "align": "center",
          "font": {
           "size": 10
          },
          "showarrow": false,
          "text": "11 days",
          "x": 81.5,
          "y": 0
         },
         {
          "align": "center",
          "font": {
           "size": 10
          },
          "showarrow": false,
          "text": "30 days",
          "x": 82.5,
          "y": 0
         },
         {
          "align": "center",
          "font": {
           "size": 10
          },
          "showarrow": false,
          "text": "7 days",
          "x": 83.5,
          "y": 0
         },
         {
          "align": "center",
          "font": {
           "size": 10
          },
          "showarrow": false,
          "text": "10 days",
          "x": 84.5,
          "y": 0
         },
         {
          "align": "center",
          "font": {
           "size": 10
          },
          "showarrow": false,
          "text": "24 days",
          "x": 85.5,
          "y": 0
         },
         {
          "align": "center",
          "font": {
           "size": 10
          },
          "showarrow": false,
          "text": "18 days",
          "x": 86.5,
          "y": 0
         },
         {
          "align": "center",
          "font": {
           "size": 10
          },
          "showarrow": false,
          "text": "4 days",
          "x": 87.5,
          "y": 0
         },
         {
          "align": "center",
          "font": {
           "size": 10
          },
          "showarrow": false,
          "text": "4 days",
          "x": 88.5,
          "y": 0
         },
         {
          "align": "center",
          "font": {
           "size": 10
          },
          "showarrow": false,
          "text": "14 days",
          "x": 89.5,
          "y": 0
         },
         {
          "align": "center",
          "font": {
           "size": 10
          },
          "showarrow": false,
          "text": "17 days",
          "x": 90.5,
          "y": 0
         },
         {
          "align": "center",
          "font": {
           "size": 10
          },
          "showarrow": false,
          "text": "24 days",
          "x": 91.5,
          "y": 0
         },
         {
          "align": "center",
          "font": {
           "size": 10
          },
          "showarrow": false,
          "text": "24 days",
          "x": 92.5,
          "y": 0
         },
         {
          "align": "center",
          "font": {
           "size": 10
          },
          "showarrow": false,
          "text": "9 days",
          "x": 93.5,
          "y": 0
         },
         {
          "align": "center",
          "font": {
           "size": 10
          },
          "showarrow": false,
          "text": "12 days",
          "x": 94.5,
          "y": 0
         },
         {
          "align": "center",
          "font": {
           "size": 10
          },
          "showarrow": false,
          "text": "8 days",
          "x": 95.5,
          "y": 0
         },
         {
          "align": "center",
          "font": {
           "size": 10
          },
          "showarrow": false,
          "text": "19 days",
          "x": 96.5,
          "y": 0
         },
         {
          "align": "center",
          "font": {
           "size": 10
          },
          "showarrow": false,
          "text": "5 days",
          "x": 97.5,
          "y": 0
         },
         {
          "showarrow": false,
          "text": "The probability of this patient needing a replacement is 46.11%. Patient will likely need a hip replacement in 5 years time.",
          "x": 0.005,
          "xref": "paper",
          "y": -0.002,
          "yref": "paper"
         }
        ],
        "hovermode": "closest",
        "margin": {
         "b": 20,
         "l": 10,
         "r": 5,
         "t": 50
        },
        "showlegend": false,
        "template": {
         "data": {
          "bar": [
           {
            "error_x": {
             "color": "#2a3f5f"
            },
            "error_y": {
             "color": "#2a3f5f"
            },
            "marker": {
             "line": {
              "color": "#E5ECF6",
              "width": 0.5
             },
             "pattern": {
              "fillmode": "overlay",
              "size": 10,
              "solidity": 0.2
             }
            },
            "type": "bar"
           }
          ],
          "barpolar": [
           {
            "marker": {
             "line": {
              "color": "#E5ECF6",
              "width": 0.5
             },
             "pattern": {
              "fillmode": "overlay",
              "size": 10,
              "solidity": 0.2
             }
            },
            "type": "barpolar"
           }
          ],
          "carpet": [
           {
            "aaxis": {
             "endlinecolor": "#2a3f5f",
             "gridcolor": "white",
             "linecolor": "white",
             "minorgridcolor": "white",
             "startlinecolor": "#2a3f5f"
            },
            "baxis": {
             "endlinecolor": "#2a3f5f",
             "gridcolor": "white",
             "linecolor": "white",
             "minorgridcolor": "white",
             "startlinecolor": "#2a3f5f"
            },
            "type": "carpet"
           }
          ],
          "choropleth": [
           {
            "colorbar": {
             "outlinewidth": 0,
             "ticks": ""
            },
            "type": "choropleth"
           }
          ],
          "contour": [
           {
            "colorbar": {
             "outlinewidth": 0,
             "ticks": ""
            },
            "colorscale": [
             [
              0,
              "#0d0887"
             ],
             [
              0.1111111111111111,
              "#46039f"
             ],
             [
              0.2222222222222222,
              "#7201a8"
             ],
             [
              0.3333333333333333,
              "#9c179e"
             ],
             [
              0.4444444444444444,
              "#bd3786"
             ],
             [
              0.5555555555555556,
              "#d8576b"
             ],
             [
              0.6666666666666666,
              "#ed7953"
             ],
             [
              0.7777777777777778,
              "#fb9f3a"
             ],
             [
              0.8888888888888888,
              "#fdca26"
             ],
             [
              1,
              "#f0f921"
             ]
            ],
            "type": "contour"
           }
          ],
          "contourcarpet": [
           {
            "colorbar": {
             "outlinewidth": 0,
             "ticks": ""
            },
            "type": "contourcarpet"
           }
          ],
          "heatmap": [
           {
            "colorbar": {
             "outlinewidth": 0,
             "ticks": ""
            },
            "colorscale": [
             [
              0,
              "#0d0887"
             ],
             [
              0.1111111111111111,
              "#46039f"
             ],
             [
              0.2222222222222222,
              "#7201a8"
             ],
             [
              0.3333333333333333,
              "#9c179e"
             ],
             [
              0.4444444444444444,
              "#bd3786"
             ],
             [
              0.5555555555555556,
              "#d8576b"
             ],
             [
              0.6666666666666666,
              "#ed7953"
             ],
             [
              0.7777777777777778,
              "#fb9f3a"
             ],
             [
              0.8888888888888888,
              "#fdca26"
             ],
             [
              1,
              "#f0f921"
             ]
            ],
            "type": "heatmap"
           }
          ],
          "heatmapgl": [
           {
            "colorbar": {
             "outlinewidth": 0,
             "ticks": ""
            },
            "colorscale": [
             [
              0,
              "#0d0887"
             ],
             [
              0.1111111111111111,
              "#46039f"
             ],
             [
              0.2222222222222222,
              "#7201a8"
             ],
             [
              0.3333333333333333,
              "#9c179e"
             ],
             [
              0.4444444444444444,
              "#bd3786"
             ],
             [
              0.5555555555555556,
              "#d8576b"
             ],
             [
              0.6666666666666666,
              "#ed7953"
             ],
             [
              0.7777777777777778,
              "#fb9f3a"
             ],
             [
              0.8888888888888888,
              "#fdca26"
             ],
             [
              1,
              "#f0f921"
             ]
            ],
            "type": "heatmapgl"
           }
          ],
          "histogram": [
           {
            "marker": {
             "pattern": {
              "fillmode": "overlay",
              "size": 10,
              "solidity": 0.2
             }
            },
            "type": "histogram"
           }
          ],
          "histogram2d": [
           {
            "colorbar": {
             "outlinewidth": 0,
             "ticks": ""
            },
            "colorscale": [
             [
              0,
              "#0d0887"
             ],
             [
              0.1111111111111111,
              "#46039f"
             ],
             [
              0.2222222222222222,
              "#7201a8"
             ],
             [
              0.3333333333333333,
              "#9c179e"
             ],
             [
              0.4444444444444444,
              "#bd3786"
             ],
             [
              0.5555555555555556,
              "#d8576b"
             ],
             [
              0.6666666666666666,
              "#ed7953"
             ],
             [
              0.7777777777777778,
              "#fb9f3a"
             ],
             [
              0.8888888888888888,
              "#fdca26"
             ],
             [
              1,
              "#f0f921"
             ]
            ],
            "type": "histogram2d"
           }
          ],
          "histogram2dcontour": [
           {
            "colorbar": {
             "outlinewidth": 0,
             "ticks": ""
            },
            "colorscale": [
             [
              0,
              "#0d0887"
             ],
             [
              0.1111111111111111,
              "#46039f"
             ],
             [
              0.2222222222222222,
              "#7201a8"
             ],
             [
              0.3333333333333333,
              "#9c179e"
             ],
             [
              0.4444444444444444,
              "#bd3786"
             ],
             [
              0.5555555555555556,
              "#d8576b"
             ],
             [
              0.6666666666666666,
              "#ed7953"
             ],
             [
              0.7777777777777778,
              "#fb9f3a"
             ],
             [
              0.8888888888888888,
              "#fdca26"
             ],
             [
              1,
              "#f0f921"
             ]
            ],
            "type": "histogram2dcontour"
           }
          ],
          "mesh3d": [
           {
            "colorbar": {
             "outlinewidth": 0,
             "ticks": ""
            },
            "type": "mesh3d"
           }
          ],
          "parcoords": [
           {
            "line": {
             "colorbar": {
              "outlinewidth": 0,
              "ticks": ""
             }
            },
            "type": "parcoords"
           }
          ],
          "pie": [
           {
            "automargin": true,
            "type": "pie"
           }
          ],
          "scatter": [
           {
            "fillpattern": {
             "fillmode": "overlay",
             "size": 10,
             "solidity": 0.2
            },
            "type": "scatter"
           }
          ],
          "scatter3d": [
           {
            "line": {
             "colorbar": {
              "outlinewidth": 0,
              "ticks": ""
             }
            },
            "marker": {
             "colorbar": {
              "outlinewidth": 0,
              "ticks": ""
             }
            },
            "type": "scatter3d"
           }
          ],
          "scattercarpet": [
           {
            "marker": {
             "colorbar": {
              "outlinewidth": 0,
              "ticks": ""
             }
            },
            "type": "scattercarpet"
           }
          ],
          "scattergeo": [
           {
            "marker": {
             "colorbar": {
              "outlinewidth": 0,
              "ticks": ""
             }
            },
            "type": "scattergeo"
           }
          ],
          "scattergl": [
           {
            "marker": {
             "colorbar": {
              "outlinewidth": 0,
              "ticks": ""
             }
            },
            "type": "scattergl"
           }
          ],
          "scattermapbox": [
           {
            "marker": {
             "colorbar": {
              "outlinewidth": 0,
              "ticks": ""
             }
            },
            "type": "scattermapbox"
           }
          ],
          "scatterpolar": [
           {
            "marker": {
             "colorbar": {
              "outlinewidth": 0,
              "ticks": ""
             }
            },
            "type": "scatterpolar"
           }
          ],
          "scatterpolargl": [
           {
            "marker": {
             "colorbar": {
              "outlinewidth": 0,
              "ticks": ""
             }
            },
            "type": "scatterpolargl"
           }
          ],
          "scatterternary": [
           {
            "marker": {
             "colorbar": {
              "outlinewidth": 0,
              "ticks": ""
             }
            },
            "type": "scatterternary"
           }
          ],
          "surface": [
           {
            "colorbar": {
             "outlinewidth": 0,
             "ticks": ""
            },
            "colorscale": [
             [
              0,
              "#0d0887"
             ],
             [
              0.1111111111111111,
              "#46039f"
             ],
             [
              0.2222222222222222,
              "#7201a8"
             ],
             [
              0.3333333333333333,
              "#9c179e"
             ],
             [
              0.4444444444444444,
              "#bd3786"
             ],
             [
              0.5555555555555556,
              "#d8576b"
             ],
             [
              0.6666666666666666,
              "#ed7953"
             ],
             [
              0.7777777777777778,
              "#fb9f3a"
             ],
             [
              0.8888888888888888,
              "#fdca26"
             ],
             [
              1,
              "#f0f921"
             ]
            ],
            "type": "surface"
           }
          ],
          "table": [
           {
            "cells": {
             "fill": {
              "color": "#EBF0F8"
             },
             "line": {
              "color": "white"
             }
            },
            "header": {
             "fill": {
              "color": "#C8D4E3"
             },
             "line": {
              "color": "white"
             }
            },
            "type": "table"
           }
          ]
         },
         "layout": {
          "annotationdefaults": {
           "arrowcolor": "#2a3f5f",
           "arrowhead": 0,
           "arrowwidth": 1
          },
          "autotypenumbers": "strict",
          "coloraxis": {
           "colorbar": {
            "outlinewidth": 0,
            "ticks": ""
           }
          },
          "colorscale": {
           "diverging": [
            [
             0,
             "#8e0152"
            ],
            [
             0.1,
             "#c51b7d"
            ],
            [
             0.2,
             "#de77ae"
            ],
            [
             0.3,
             "#f1b6da"
            ],
            [
             0.4,
             "#fde0ef"
            ],
            [
             0.5,
             "#f7f7f7"
            ],
            [
             0.6,
             "#e6f5d0"
            ],
            [
             0.7,
             "#b8e186"
            ],
            [
             0.8,
             "#7fbc41"
            ],
            [
             0.9,
             "#4d9221"
            ],
            [
             1,
             "#276419"
            ]
           ],
           "sequential": [
            [
             0,
             "#0d0887"
            ],
            [
             0.1111111111111111,
             "#46039f"
            ],
            [
             0.2222222222222222,
             "#7201a8"
            ],
            [
             0.3333333333333333,
             "#9c179e"
            ],
            [
             0.4444444444444444,
             "#bd3786"
            ],
            [
             0.5555555555555556,
             "#d8576b"
            ],
            [
             0.6666666666666666,
             "#ed7953"
            ],
            [
             0.7777777777777778,
             "#fb9f3a"
            ],
            [
             0.8888888888888888,
             "#fdca26"
            ],
            [
             1,
             "#f0f921"
            ]
           ],
           "sequentialminus": [
            [
             0,
             "#0d0887"
            ],
            [
             0.1111111111111111,
             "#46039f"
            ],
            [
             0.2222222222222222,
             "#7201a8"
            ],
            [
             0.3333333333333333,
             "#9c179e"
            ],
            [
             0.4444444444444444,
             "#bd3786"
            ],
            [
             0.5555555555555556,
             "#d8576b"
            ],
            [
             0.6666666666666666,
             "#ed7953"
            ],
            [
             0.7777777777777778,
             "#fb9f3a"
            ],
            [
             0.8888888888888888,
             "#fdca26"
            ],
            [
             1,
             "#f0f921"
            ]
           ]
          },
          "colorway": [
           "#636efa",
           "#EF553B",
           "#00cc96",
           "#ab63fa",
           "#FFA15A",
           "#19d3f3",
           "#FF6692",
           "#B6E880",
           "#FF97FF",
           "#FECB52"
          ],
          "font": {
           "color": "#2a3f5f"
          },
          "geo": {
           "bgcolor": "white",
           "lakecolor": "white",
           "landcolor": "#E5ECF6",
           "showlakes": true,
           "showland": true,
           "subunitcolor": "white"
          },
          "hoverlabel": {
           "align": "left"
          },
          "hovermode": "closest",
          "mapbox": {
           "style": "light"
          },
          "paper_bgcolor": "white",
          "plot_bgcolor": "#E5ECF6",
          "polar": {
           "angularaxis": {
            "gridcolor": "white",
            "linecolor": "white",
            "ticks": ""
           },
           "bgcolor": "#E5ECF6",
           "radialaxis": {
            "gridcolor": "white",
            "linecolor": "white",
            "ticks": ""
           }
          },
          "scene": {
           "xaxis": {
            "backgroundcolor": "#E5ECF6",
            "gridcolor": "white",
            "gridwidth": 2,
            "linecolor": "white",
            "showbackground": true,
            "ticks": "",
            "zerolinecolor": "white"
           },
           "yaxis": {
            "backgroundcolor": "#E5ECF6",
            "gridcolor": "white",
            "gridwidth": 2,
            "linecolor": "white",
            "showbackground": true,
            "ticks": "",
            "zerolinecolor": "white"
           },
           "zaxis": {
            "backgroundcolor": "#E5ECF6",
            "gridcolor": "white",
            "gridwidth": 2,
            "linecolor": "white",
            "showbackground": true,
            "ticks": "",
            "zerolinecolor": "white"
           }
          },
          "shapedefaults": {
           "line": {
            "color": "#2a3f5f"
           }
          },
          "ternary": {
           "aaxis": {
            "gridcolor": "white",
            "linecolor": "white",
            "ticks": ""
           },
           "baxis": {
            "gridcolor": "white",
            "linecolor": "white",
            "ticks": ""
           },
           "bgcolor": "#E5ECF6",
           "caxis": {
            "gridcolor": "white",
            "linecolor": "white",
            "ticks": ""
           }
          },
          "title": {
           "x": 0.05
          },
          "xaxis": {
           "automargin": true,
           "gridcolor": "white",
           "linecolor": "white",
           "ticks": "",
           "title": {
            "standoff": 15
           },
           "zerolinecolor": "white",
           "zerolinewidth": 2
          },
          "yaxis": {
           "automargin": true,
           "gridcolor": "white",
           "linecolor": "white",
           "ticks": "",
           "title": {
            "standoff": 15
           },
           "zerolinecolor": "white",
           "zerolinewidth": 2
          }
         }
        },
        "title": {
         "font": {
          "size": 16
         },
         "text": "Graph Visualisation of Patients Pathway and Connections Associated to Hip Replacement - Stream 1."
        },
        "xaxis": {
         "showgrid": false,
         "showticklabels": false,
         "zeroline": false
        },
        "yaxis": {
         "showgrid": false,
         "showticklabels": false,
         "zeroline": false
        }
       }
      }
     },
     "metadata": {},
     "output_type": "display_data"
    }
   ],
   "source": [
    "# Generate edge_x and edge_y\n",
    "edge_x = []\n",
    "edge_y = []\n",
    "\n",
    "for _, row in edge_pos_df.iterrows():\n",
    "    edge_x.extend([row['x0'], row['x1'], None])\n",
    "    edge_y.extend([row['y0'], row['y1'], None])\n",
    "\n",
    "# Create edge_trace\n",
    "edge_trace = go.Scatter(\n",
    "    x=edge_x,\n",
    "    y=edge_y,\n",
    "    line=dict(width=0.5, color='#888'),\n",
    "    hoverinfo='none',  # Disable hover info for lines\n",
    "    mode='lines'\n",
    ")\n",
    "\n",
    "# Generate node_x and node_y lists\n",
    "node_x = pos_df['x'].tolist()\n",
    "node_y = pos_df['y'].tolist()\n",
    "node_labels = merged_pos_df['ReadCode'].tolist()\n",
    "node_hover_text = merged_pos_df['ReadCode_descript'].tolist()\n",
    "\n",
    "\n",
    "# Map the text colour based on the colour of the node so that it can be read\n",
    "def text_color_mapping(numbers):\n",
    "    return ['black' if num < 0.5 else 'white' for num in numbers]\n",
    "\n",
    "text_colors = text_color_mapping(merged_pos_df['norm_timestep_ave_grad'].to_list())\n",
    "\n",
    "# Create node_trace with static labels and hover text\n",
    "node_trace = go.Scatter(\n",
    "    x=node_x,\n",
    "    y=node_y,\n",
    "    mode='markers+text',\n",
    "    text=node_labels,  # Static labels for nodes\n",
    "    textposition='middle center', \n",
    "    textfont=dict(\n",
    "        size=10,\n",
    "        color=text_colors  # Set color for edge text\n",
    "    ),\n",
    "    hoverinfo='text',  # Configure hover info\n",
    "    marker=dict(\n",
    "        showscale=True,\n",
    "        colorscale='Viridis',\n",
    "        reversescale=True,\n",
    "        color='black',\n",
    "        size=45,\n",
    "        colorbar=dict(\n",
    "            thickness=15,\n",
    "            title='Influence Visit Had on Prediction (Gradient)',\n",
    "            xanchor='left',\n",
    "            titleside='right'\n",
    "        ),\n",
    "        line_width=2\n",
    "    ),\n",
    "    # Add hover text as a separate trace if needed\n",
    "    hovertext=node_hover_text\n",
    ")\n",
    "\n",
    "node_trace.marker.color = merged_pos_df['norm_timestep_ave_grad'].to_list() # colour the markers based on the number of node connections\n",
    "\n",
    "\n",
    "# Calculate midpoints for annotations (optional)\n",
    "annotations = []\n",
    "for _, row in edge_pos_df.iterrows():\n",
    "    mid_x = (row['x0'] + row['x1']) / 2\n",
    "    mid_y = (row['y0'] + row['y1']) / 2\n",
    "    annotations.append(\n",
    "        dict(\n",
    "            x=mid_x,\n",
    "            y=mid_y,\n",
    "            text=f\"{int(round(row['time_between']*30.4167,0))} days\",\n",
    "            showarrow=False,\n",
    "            font=dict(size=10),\n",
    "            align=\"center\"\n",
    "        )\n",
    "    )\n",
    "\n",
    "if outcome == 'hip':\n",
    "    out_print = f'Patient will likely need a hip replacement in {years_in_advance} years time.'\n",
    "else:\n",
    "    out_print = f'It is unlikely this patient will need a hip replacement in {years_in_advance} years time.'\n",
    "stream_num = '1'\n",
    "\n",
    "proba_of_replace = 1/ (1+np.exp(logits)) # use sigmoid to convert logits to probs\n",
    "annotations.append(dict(\n",
    "                    text=f\"The probability of this patient needing a replacement is {round(proba_of_replace.item()*100,2)}%. {out_print}\",\n",
    "                    showarrow=False,\n",
    "                    xref=\"paper\", yref=\"paper\",\n",
    "                    x=0.005, y=-0.002 ))\n",
    "\n",
    "# Create the figure\n",
    "fig = go.Figure(data=[edge_trace, node_trace],\n",
    "                layout=go.Layout(\n",
    "                    title=f'Graph Visualisation of Patients Pathway and Connections Associated to Hip Replacement - Stream {stream_num}.',\n",
    "                    titlefont_size=16,\n",
    "                    showlegend=False,\n",
    "                    hovermode='closest',\n",
    "                    margin=dict(b=20, l=10, r=5, t=50),\n",
    "                    annotations=annotations,\n",
    "                    xaxis=dict(showgrid=False, zeroline=False, showticklabels=False),\n",
    "                    yaxis=dict(showgrid=False, zeroline=False, showticklabels=False))\n",
    "                )\n",
    "\n",
    "if ((proba_of_replace.item() > 0.5) and (outcome != 'hip')) or ((proba_of_replace.item()) < 0.5) and (outcome == 'hip'):\n",
    "    print(\"Model predicted incorrectly\")\n",
    "\n",
    "fig.show()"
   ]
  },
  {
   "cell_type": "code",
   "execution_count": null,
   "metadata": {},
   "outputs": [],
   "source": []
  }
 ],
 "metadata": {
  "kernelspec": {
   "display_name": "tf_msk_env",
   "language": "python",
   "name": "python3"
  },
  "language_info": {
   "codemirror_mode": {
    "name": "ipython",
    "version": 3
   },
   "file_extension": ".py",
   "mimetype": "text/x-python",
   "name": "python",
   "nbconvert_exporter": "python",
   "pygments_lexer": "ipython3",
   "version": "3.9.19"
  }
 },
 "nbformat": 4,
 "nbformat_minor": 2
}
